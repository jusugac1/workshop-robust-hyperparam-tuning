{
 "cells": [
  {
   "cell_type": "markdown",
   "id": "d71dba48",
   "metadata": {},
   "source": [
    "# Explain Pandera"
   ]
  },
  {
   "cell_type": "markdown",
   "id": "baf65e74",
   "metadata": {},
   "source": [
    "Pandera is a Union.ai open source project that provides a flexible and expressive API for performing data validation on dataframe-like objects. The goal of Pandera is to make data processing pipelines more readable and robust with statistically typed dataframes.\n",
    "\n",
    "Dataframes contain information that pandera explicitly validates at runtime. This is useful in production-critical data pipelines or reproducible research settings. With pandera, you can:\n",
    "- Define a schema once and use it to validate different dataframe types including pandas, polars, dask, modin, ibis, and pyspark.\n",
    "- Check the types and properties of columns in a pd.DataFrame or values in a pd.Series.\n",
    "- Perform more complex statistical validation like hypothesis testing.\n",
    "- Parse data to standardize the preprocessing steps needed to produce valid data.\n",
    "- Seamlessly integrate with existing data analysis/processing pipelines via function decorators.\n",
    "- Define dataframe models with the class-based API with pydantic-style syntax and validate dataframes using the typing syntax.\n",
    "- Synthesize data from schema objects for property-based testing with pandas data structures.\n",
    "- Lazily Validate dataframes so that all validation rules are executed before raising an error.\n",
    "- Integrate with a rich ecosystem of python tools like pydantic, fastapi and mypy.\n",
    "\n",
    "Pandera supports multiple dataframe libraries, including pandas, polars, pyspark, and ibis."
   ]
  },
  {
   "cell_type": "markdown",
   "id": "eed0f232",
   "metadata": {},
   "source": [
    "# 1. Imports"
   ]
  },
  {
   "cell_type": "markdown",
   "id": "170fadc0",
   "metadata": {},
   "source": [
    "## 1.1 Packages"
   ]
  },
  {
   "cell_type": "code",
   "execution_count": null,
   "id": "9bbc5a3b",
   "metadata": {},
   "outputs": [],
   "source": []
  },
  {
   "cell_type": "markdown",
   "id": "3054ccc8",
   "metadata": {},
   "source": [
    "## 1.2 Options"
   ]
  },
  {
   "cell_type": "code",
   "execution_count": null,
   "id": "bc4d7727",
   "metadata": {},
   "outputs": [],
   "source": []
  },
  {
   "cell_type": "markdown",
   "id": "740bdc09",
   "metadata": {},
   "source": [
    "# 2. Explain Pandera"
   ]
  },
  {
   "cell_type": "markdown",
   "id": "73ab82cf",
   "metadata": {},
   "source": [
    "Pandera is a good way to validate to validate the quality of the data. We highly recommend using it before you train your model.\n",
    "\n",
    "Let's take a first example where you want to validate a dataframe. There are 3 columns with different types we want to validate: int, float and string. To do so, you first define a `pa.DataFrameSchema()` in which you will define the columns using `pa.Column(<type>)`."
   ]
  },
  {
   "cell_type": "code",
   "execution_count": 7,
   "id": "3208d324",
   "metadata": {},
   "outputs": [
    {
     "name": "stdout",
     "output_type": "stream",
     "text": [
      "   column1  column2 column3\n",
      "0        1      1.1       a\n",
      "1        2      1.2       b\n",
      "2        3      1.3       c\n"
     ]
    }
   ],
   "source": [
    "import pandas as pd\n",
    "import pandera.pandas as pa\n",
    "\n",
    "# data to validate\n",
    "df = pd.DataFrame({\n",
    "    \"column1\": [1, 2, 3],\n",
    "    \"column2\": [1.1, 1.2, 1.3],\n",
    "    \"column3\": [\"a\", \"b\", \"c\"],\n",
    "})\n",
    "\n",
    "schema = pa.DataFrameSchema({\n",
    "    \"column1\": pa.Column(int),\n",
    "    \"column2\": pa.Column(float),\n",
    "    \"column3\": pa.Column(str),\n",
    "})\n",
    "\n",
    "validated_df = schema.validate(df)\n",
    "print(validated_df)"
   ]
  },
  {
   "cell_type": "markdown",
   "id": "0a21ea10",
   "metadata": {},
   "source": [
    "If you provide a dataframe with the wrong type:"
   ]
  },
  {
   "cell_type": "code",
   "execution_count": 8,
   "id": "a48cf7af",
   "metadata": {},
   "outputs": [
    {
     "name": "stdout",
     "output_type": "stream",
     "text": [
      "expected series 'column1' to have type int64, got float64\n"
     ]
    }
   ],
   "source": [
    "df_bug = pd.DataFrame({\n",
    "    \"column1\": [1, 2, 0.4],\n",
    "    \"column2\": [1.1, 1.2, 1.3],\n",
    "    \"column3\": [\"a\", \"b\", \"c\"],\n",
    "})\n",
    "\n",
    "try:\n",
    "    schema.validate(df_bug)\n",
    "except pa.errors.SchemaError as e:\n",
    "    print(e)"
   ]
  },
  {
   "cell_type": "markdown",
   "id": "8861a038",
   "metadata": {},
   "source": [
    "You can add more rules to check for each column using the `pa.Column()` function:"
   ]
  },
  {
   "cell_type": "code",
   "execution_count": 9,
   "id": "7d3db56b",
   "metadata": {},
   "outputs": [],
   "source": [
    "schema = pa.DataFrameSchema({\n",
    "    \"column1\": pa.Column(int, pa.Check.ge(0)),\n",
    "    \"column2\": pa.Column(float, pa.Check.lt(10)),\n",
    "    \"column3\": pa.Column(\n",
    "        str,\n",
    "        [\n",
    "            pa.Check.isin([*\"abc\"]),\n",
    "            pa.Check(lambda series: series.str.len() == 1),\n",
    "        ]\n",
    "    ),\n",
    "})"
   ]
  },
  {
   "cell_type": "code",
   "execution_count": 10,
   "id": "f7f7a5f5",
   "metadata": {},
   "outputs": [
    {
     "name": "stdout",
     "output_type": "stream",
     "text": [
      "   column1  column2 column3\n",
      "0        1      1.1       a\n",
      "1        2      1.2       b\n",
      "2        3      1.3       c\n"
     ]
    }
   ],
   "source": [
    "df = pd.DataFrame({\n",
    "    \"column1\": [1, 2, 3],\n",
    "    \"column2\": [1.1, 1.2, 1.3],\n",
    "    \"column3\": [\"a\", \"b\", \"c\"],\n",
    "})\n",
    "\n",
    "validated_df = schema.validate(df)\n",
    "print(validated_df)"
   ]
  },
  {
   "cell_type": "code",
   "execution_count": 11,
   "id": "c5da3de1",
   "metadata": {},
   "outputs": [
    {
     "name": "stdout",
     "output_type": "stream",
     "text": [
      "Column 'column2' failed element-wise validator number 0: less_than(10) failure cases: 12.3\n"
     ]
    }
   ],
   "source": [
    "df_bug = pd.DataFrame({\n",
    "    \"column1\": [1, 2, 3],\n",
    "    \"column2\": [1.1, 1.2, 12.3],\n",
    "    \"column3\": [\"a\", \"b\", \"c\"],\n",
    "})\n",
    "\n",
    "try:\n",
    "    schema.validate(df_bug)\n",
    "except pa.errors.SchemaError as e:\n",
    "    print(e)"
   ]
  },
  {
   "cell_type": "markdown",
   "id": "9034a16c",
   "metadata": {},
   "source": [
    "If the dataframe does not pass validation checks, pandera provides useful error messages. An error argument can also be supplied to Check for custom error messages.\n",
    "\n",
    "In the case that a validation Check is violated:"
   ]
  },
  {
   "cell_type": "code",
   "execution_count": 13,
   "id": "bc8342aa",
   "metadata": {},
   "outputs": [
    {
     "name": "stdout",
     "output_type": "stream",
     "text": [
      "Column 'column1' failed element-wise validator number 0: <Check <lambda>: range checker [0, 10]> failure cases: -20, 30\n"
     ]
    }
   ],
   "source": [
    "simple_schema = pa.DataFrameSchema({\n",
    "    \"column1\": pa.Column(\n",
    "        int,\n",
    "        pa.Check(\n",
    "            lambda x: 0 <= x <= 10,\n",
    "            element_wise=True,\n",
    "            error=\"range checker [0, 10]\"\n",
    "        )\n",
    "    )\n",
    "})\n",
    "\n",
    "df_bug = pd.DataFrame({\n",
    "    \"column1\": [-20, 5, 10, 30],\n",
    "})\n",
    "\n",
    "try:\n",
    "    simple_schema.validate(df_bug)\n",
    "except pa.errors.SchemaError as e:\n",
    "    print(e)"
   ]
  },
  {
   "cell_type": "code",
   "execution_count": null,
   "id": "1eaadd44",
   "metadata": {},
   "outputs": [],
   "source": []
  }
 ],
 "metadata": {
  "kernelspec": {
   "display_name": ".venv (3.13.2)",
   "language": "python",
   "name": "python3"
  },
  "language_info": {
   "codemirror_mode": {
    "name": "ipython",
    "version": 3
   },
   "file_extension": ".py",
   "mimetype": "text/x-python",
   "name": "python",
   "nbconvert_exporter": "python",
   "pygments_lexer": "ipython3",
   "version": "3.13.2"
  }
 },
 "nbformat": 4,
 "nbformat_minor": 5
}
