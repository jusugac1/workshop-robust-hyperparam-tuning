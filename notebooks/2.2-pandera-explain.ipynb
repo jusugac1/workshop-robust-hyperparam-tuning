{
 "cells": [
  {
   "cell_type": "markdown",
   "id": "d71dba48",
   "metadata": {},
   "source": [
    "# Explain Pandera"
   ]
  },
  {
   "cell_type": "markdown",
   "id": "eed0f232",
   "metadata": {},
   "source": [
    "# 1. Imports"
   ]
  },
  {
   "cell_type": "code",
   "execution_count": null,
   "id": "170fadc0",
   "metadata": {},
   "outputs": [],
   "source": []
  },
  {
   "cell_type": "code",
   "execution_count": null,
   "id": "9bbc5a3b",
   "metadata": {},
   "outputs": [],
   "source": []
  },
  {
   "cell_type": "code",
   "execution_count": null,
   "id": "bc4d7727",
   "metadata": {},
   "outputs": [],
   "source": []
  },
  {
   "cell_type": "code",
   "execution_count": null,
   "id": "908b9413",
   "metadata": {},
   "outputs": [],
   "source": []
  }
 ],
 "metadata": {
  "language_info": {
   "name": "python"
  }
 },
 "nbformat": 4,
 "nbformat_minor": 5
}
