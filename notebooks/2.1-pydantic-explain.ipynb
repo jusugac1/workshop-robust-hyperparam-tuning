{
 "cells": [
  {
   "cell_type": "markdown",
   "id": "66be30e0",
   "metadata": {},
   "source": [
    "# Explain pydantic\n",
    "\n",
    "Pydantic is python library used for data validation.\n",
    "\n",
    "What are the advantages of Pydantic ?\n",
    "- **Powered by type hints** — with Pydantic, schema validation and serialization are controlled by type annotations; less to learn, less code to write, and seamless integration with your IDE and static analysis tools.\n",
    "- **Speed** — Pydantic's core validation logic is written in Rust. As a result, Pydantic is among the fastest data validation libraries for Python.\n",
    "- **JSON Schema** — Pydantic models can emit JSON Schema, allowing for easy integration with other tools.\n",
    "- **Strict and Lax mode** — Pydantic can run in either strict mode (where data is not converted) or lax mode where Pydantic tries to coerce data to the correct type where appropriate.\n",
    "- **Dataclasses, TypedDicts and more** — Pydantic supports validation of many standard library types including `dataclass` and `TypedDict`.\n",
    "- **Customisation** — Pydantic allows custom validators and serializers to alter how data is processed in many powerful ways.\n",
    "- **Ecosystem** — around 8,000 packages on PyPI use Pydantic, including massively popular libraries like FastAPI, huggingface, Django Ninja, SQLModel, & LangChain.\n",
    "- **Battle tested** — Pydantic is downloaded over 360M times/month and is used by all FAANG companies and 20 of the 25 largest companies on NASDAQ. If you're trying to do something with Pydantic, someone else has probably already done it."
   ]
  },
  {
   "cell_type": "markdown",
   "id": "8320baf9",
   "metadata": {},
   "source": [
    "# 1. Imports"
   ]
  },
  {
   "cell_type": "markdown",
   "id": "a801fbcb",
   "metadata": {},
   "source": [
    "## 1.1 Packages"
   ]
  },
  {
   "cell_type": "code",
   "execution_count": 1,
   "id": "e7310c45",
   "metadata": {},
   "outputs": [],
   "source": [
    "from pydantic import BaseModel, Field, StrictBool, StrictInt, StrictStr"
   ]
  },
  {
   "cell_type": "markdown",
   "id": "546d6a94",
   "metadata": {},
   "source": [
    "## 1.2 Options"
   ]
  },
  {
   "cell_type": "code",
   "execution_count": null,
   "id": "470654c2",
   "metadata": {},
   "outputs": [],
   "source": []
  },
  {
   "cell_type": "markdown",
   "id": "561ce991",
   "metadata": {},
   "source": [
    "# 2. Pydantic examples"
   ]
  },
  {
   "cell_type": "markdown",
   "id": "d380dec3",
   "metadata": {},
   "source": [
    "Pydantic is a good way to create a python class and validate its attributes.\n",
    "\n",
    "One of the primary ways of defining schema in Pydantic is via models. `Models` are simply classes which inherit from `BaseModel` and define fields as annotated attributes. Models share many similarities with Python's dataclasses, but have been designed with some subtle-yet-important differences that streamline certain workflows related to validation, serialization, and JSON schema generation. You can find more discussion of this in the Dataclasses section of the docs.\n",
    "\n",
    "Untrusted data can be passed to a model and, after parsing and validation, Pydantic guarantees that the fields of the resultant model instance will conform to the field types defined on the model."
   ]
  },
  {
   "cell_type": "code",
   "execution_count": null,
   "id": "d24bc9ee",
   "metadata": {},
   "outputs": [],
   "source": [
    "from pydantic import BaseModel, ConfigDict\n",
    "\n",
    "\n",
    "class User(BaseModel):\n",
    "    id: int\n",
    "    name: str = 'Jane Doe'\n",
    "\n",
    "    model_config = ConfigDict(str_max_length=10)"
   ]
  },
  {
   "cell_type": "markdown",
   "id": "73f9130c",
   "metadata": {},
   "source": [
    "Attributes of Pydantic class are defined as `Fields`. `Fields` can be customized in a number of ways using the `Field()` function."
   ]
  },
  {
   "cell_type": "code",
   "execution_count": null,
   "id": "e47c4599",
   "metadata": {},
   "outputs": [],
   "source": [
    "class User(BaseModel):\n",
    "    id: int\n",
    "    name: str = Field(\n",
    "        default=\"Jane Doe\",\n",
    "        pattern=r\"[A-Z]{1}[a-z]+ [A-Z]{1}[a-z]\",\n",
    "        description=\"The user's full name.\",\n",
    "    )\n",
    "\n",
    "    model_config = ConfigDict(str_max_length=10)"
   ]
  },
  {
   "cell_type": "markdown",
   "id": "6b10c17a",
   "metadata": {},
   "source": [
    "Let's define our first pydantic class. For this class, we will define one to store information about musicians."
   ]
  },
  {
   "cell_type": "code",
   "execution_count": 2,
   "id": "e5feb8fc",
   "metadata": {},
   "outputs": [],
   "source": [
    "class Musician(BaseModel):\n",
    "    \"\"\"Class representing a musician with validated fields.\"\"\"\n",
    "\n",
    "    name: StrictStr = Field(\n",
    "        pattern=r\"[A-Z]{1}[a-z]+ [A-Z]{1}[a-z]\",\n",
    "        description=\"The name of the musician. First and last name, capitalized.\"\n",
    "    )\n",
    "    instrument: StrictStr = Field(\n",
    "        pattern=r\"(Guitar|Bass|Drums|Vocals|Keyboard)\",\n",
    "        description=\"The instrument played by the musician.\",\n",
    "    )\n",
    "    genre: StrictStr = Field(\n",
    "        pattern=r\"[A-Za-z]+\",\n",
    "        description=\"The genre of music the musician is associated with.\"\n",
    "    )\n",
    "    years_active: int = Field(\n",
    "        ge=0,\n",
    "        le=100,\n",
    "        description=\"Number of years the musician has been active in their career.\",\n",
    "    )\n",
    "    is_active: StrictBool = Field(\n",
    "        default=True,\n",
    "        description=\"Indicates if the musician is currently active.\",\n",
    "    )"
   ]
  },
  {
   "cell_type": "code",
   "execution_count": 3,
   "id": "e0f775a1",
   "metadata": {},
   "outputs": [
    {
     "data": {
      "text/plain": [
       "Musician(name='John Mayer', instrument='Guitar', genre='Rock', years_active=27, is_active=True)"
      ]
     },
     "execution_count": 3,
     "metadata": {},
     "output_type": "execute_result"
    }
   ],
   "source": [
    "john_mayer = Musician(\n",
    "    name=\"John Mayer\",\n",
    "    instrument=\"Guitar\",\n",
    "    genre=\"Rock\",\n",
    "    years_active=27,\n",
    ")\n",
    "\n",
    "john_mayer"
   ]
  },
  {
   "cell_type": "code",
   "execution_count": 5,
   "id": "c3c7b478",
   "metadata": {},
   "outputs": [
    {
     "data": {
      "text/plain": [
       "Musician(name='John Mayer', instrument='Guitar', genre='Blues', years_active=27, is_active=True)"
      ]
     },
     "execution_count": 5,
     "metadata": {},
     "output_type": "execute_result"
    }
   ],
   "source": [
    "# Change an attribute\n",
    "john_mayer.genre = \"Blues\"\n",
    "\n",
    "john_mayer"
   ]
  },
  {
   "cell_type": "code",
   "execution_count": null,
   "id": "c8c6fd99",
   "metadata": {},
   "outputs": [],
   "source": []
  }
 ],
 "metadata": {
  "kernelspec": {
   "display_name": ".venv (3.13.2)",
   "language": "python",
   "name": "python3"
  },
  "language_info": {
   "codemirror_mode": {
    "name": "ipython",
    "version": 3
   },
   "file_extension": ".py",
   "mimetype": "text/x-python",
   "name": "python",
   "nbconvert_exporter": "python",
   "pygments_lexer": "ipython3",
   "version": "3.13.2"
  }
 },
 "nbformat": 4,
 "nbformat_minor": 5
}
