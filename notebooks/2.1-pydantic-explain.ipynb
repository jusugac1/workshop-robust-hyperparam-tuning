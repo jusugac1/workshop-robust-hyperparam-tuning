{
 "cells": [
  {
   "cell_type": "markdown",
   "id": "4cd87221",
   "metadata": {},
   "source": [
    "# Explain pydantic"
   ]
  },
  {
   "cell_type": "markdown",
   "id": "66be30e0",
   "metadata": {},
   "source": [
    "Pydantic is python library used for data validation.\n",
    "\n",
    "What are the advantages of Pydantic ?\n",
    "- **Powered by type hints** — with Pydantic, schema validation and serialization are controlled by type annotations; less to learn, less code to write, and seamless integration with your IDE and static analysis tools.\n",
    "- **Speed** — Pydantic's core validation logic is written in Rust. As a result, Pydantic is among the fastest data validation libraries for Python.\n",
    "- **JSON Schema** — Pydantic models can emit JSON Schema, allowing for easy integration with other tools.\n",
    "- **Strict and Lax mode** — Pydantic can run in either strict mode (where data is not converted) or lax mode where Pydantic tries to coerce data to the correct type where appropriate.\n",
    "- **Dataclasses, TypedDicts and more** — Pydantic supports validation of many standard library types including `dataclass` and `TypedDict`.\n",
    "- **Customisation** — Pydantic allows custom validators and serializers to alter how data is processed in many powerful ways.\n",
    "- **Ecosystem** — around 8,000 packages on PyPI use Pydantic, including massively popular libraries like FastAPI, huggingface, Django Ninja, SQLModel, & LangChain.\n",
    "- **Battle tested** — Pydantic is downloaded over 360M times/month and is used by all FAANG companies and 20 of the 25 largest companies on NASDAQ. If you're trying to do something with Pydantic, someone else has probably already done it."
   ]
  },
  {
   "cell_type": "markdown",
   "id": "95a2a221",
   "metadata": {},
   "source": [
    "**Table of contents**:\n",
    "1. [Pydantic class](#1-pydantic-examples)\n",
    "   1. [Pydantic in general](#11-pydantic-in-general)\n",
    "   2. [Fields](#12-fields)\n",
    "   3. [Define a pydantic object](#13-define-a-pydantic-object)\n",
    "   4. [Protect fields](#14-protect-fields)\n",
    "2. [Validation](#2-validation)\n",
    "   1. [Field validators](#21-field-validators)\n",
    "   2. [Model validators](#22-model-validators)"
   ]
  },
  {
   "cell_type": "markdown",
   "id": "561ce991",
   "metadata": {},
   "source": [
    "# 1. Pydantic class"
   ]
  },
  {
   "cell_type": "markdown",
   "id": "95ddaa1f",
   "metadata": {},
   "source": [
    "## 1.1 Pydantic in general"
   ]
  },
  {
   "cell_type": "markdown",
   "id": "d380dec3",
   "metadata": {},
   "source": [
    "Pydantic is a good way to create a python class and validate its attributes.\n",
    "\n",
    "One of the primary ways of defining schema in Pydantic is via models. `Models` are simply classes which inherit from `BaseModel` and define fields as annotated attributes. Models share many similarities with Python's dataclasses, but have been designed with some subtle-yet-important differences that streamline certain workflows related to validation, serialization, and JSON schema generation. You can find more discussion of this in the Dataclasses section of the docs.\n",
    "\n",
    "Untrusted data can be passed to a model and, after parsing and validation, Pydantic guarantees that the fields of the resultant model instance will conform to the field types defined on the model."
   ]
  },
  {
   "cell_type": "code",
   "execution_count": 1,
   "id": "d24bc9ee",
   "metadata": {},
   "outputs": [],
   "source": [
    "from pydantic import BaseModel, ConfigDict\n",
    "\n",
    "\n",
    "class User(BaseModel):\n",
    "    id: int\n",
    "    name: str = 'Jane Doe'\n",
    "\n",
    "    model_config = ConfigDict(str_max_length=10)"
   ]
  },
  {
   "cell_type": "markdown",
   "id": "a3634f76",
   "metadata": {},
   "source": [
    "## 1.2 Fields"
   ]
  },
  {
   "cell_type": "markdown",
   "id": "73f9130c",
   "metadata": {},
   "source": [
    "Attributes of Pydantic class are defined as fields.\n",
    "\n",
    "These fields can have different types. You can use the standard types library but also Strict types from the Pydantic library and custom data types:\n",
    "- Standard Library Types: Types from the python standard library.\n",
    "- Strict Types: Types that enable you to prevent coercion from compatible types.\n",
    "- Custom Data Types: Create your own custom data types.\n",
    "- Field Type Conversions: Strict and lax conversion between different field types."
   ]
  },
  {
   "cell_type": "code",
   "execution_count": 2,
   "id": "e174b51b",
   "metadata": {},
   "outputs": [],
   "source": [
    "from pydantic import BaseModel, ConfigDict, StrictBool, StrictInt, StrictStr\n",
    "\n",
    "\n",
    "class User(BaseModel):\n",
    "    id: StrictInt\n",
    "    name: StrictStr = 'Jane Doe'\n",
    "    is_active: StrictBool = True\n",
    "\n",
    "    model_config = ConfigDict(str_max_length=10)"
   ]
  },
  {
   "cell_type": "markdown",
   "id": "558918d6",
   "metadata": {},
   "source": [
    "Fields can be customized in a number of ways using the `Field()` function. You can add a default value, a pattern for strings, description of the attribute, etc."
   ]
  },
  {
   "cell_type": "code",
   "execution_count": 3,
   "id": "e47c4599",
   "metadata": {},
   "outputs": [],
   "source": [
    "from pydantic import BaseModel, Field, ConfigDict, StrictInt, StrictStr\n",
    "\n",
    "class User(BaseModel):\n",
    "    id: StrictInt\n",
    "    name: StrictStr = Field(\n",
    "        default=\"Jane Doe\",\n",
    "        pattern=r\"[A-Z]{1}[a-z]+ [A-Z]{1}[a-z]\",\n",
    "        description=\"The user's full name.\",\n",
    "    )\n",
    "\n",
    "    model_config = ConfigDict(str_max_length=10)"
   ]
  },
  {
   "cell_type": "markdown",
   "id": "99941282",
   "metadata": {},
   "source": [
    "## 1.3 Define a pydantic object"
   ]
  },
  {
   "cell_type": "markdown",
   "id": "6b10c17a",
   "metadata": {},
   "source": [
    "Let's define our first pydantic class. For this class, we will define one to store information about musicians."
   ]
  },
  {
   "cell_type": "code",
   "execution_count": 4,
   "id": "e5feb8fc",
   "metadata": {},
   "outputs": [],
   "source": [
    "from pydantic import BaseModel, Field, StrictBool, StrictStr, ValidationError\n",
    "\n",
    "class Musician(BaseModel):\n",
    "    \"\"\"Class representing a musician with validated fields.\"\"\"\n",
    "\n",
    "    name: StrictStr = Field(\n",
    "        pattern=r\"[A-Z]{1}[a-z]+ [A-Z]{1}[a-z]\",\n",
    "        description=\"The name of the musician. First and last name, capitalized.\"\n",
    "    )\n",
    "    instrument: StrictStr = Field(\n",
    "        pattern=r\"(Guitar|Bass|Drums|Vocals|Keyboard)\",\n",
    "        description=\"The instrument played by the musician.\",\n",
    "    )\n",
    "    genre: StrictStr = Field(\n",
    "        pattern=r\"[A-Za-z]+\",\n",
    "        description=\"The genre of music the musician is associated with.\"\n",
    "    )\n",
    "    years_active: int = Field(\n",
    "        ge=0,\n",
    "        le=100,\n",
    "        description=\"Number of years the musician has been active in their career.\",\n",
    "    )\n",
    "    is_active: StrictBool = Field(\n",
    "        default=True,\n",
    "        description=\"Indicates if the musician is currently active.\",\n",
    "    )"
   ]
  },
  {
   "cell_type": "code",
   "execution_count": 5,
   "id": "e0f775a1",
   "metadata": {},
   "outputs": [
    {
     "data": {
      "text/plain": [
       "Musician(name='John Mayer', instrument='Guitar', genre='Rock', years_active=27, is_active=True)"
      ]
     },
     "execution_count": 5,
     "metadata": {},
     "output_type": "execute_result"
    }
   ],
   "source": [
    "john_mayer = Musician(\n",
    "    name=\"John Mayer\",\n",
    "    instrument=\"Guitar\",\n",
    "    genre=\"Rock\",\n",
    "    years_active=27,\n",
    ")\n",
    "\n",
    "john_mayer"
   ]
  },
  {
   "cell_type": "code",
   "execution_count": 6,
   "id": "4e60b840",
   "metadata": {},
   "outputs": [
    {
     "name": "stdout",
     "output_type": "stream",
     "text": [
      "Error: 1 validation error for Musician\n",
      "instrument\n",
      "  String should match pattern '(Guitar|Bass|Drums|Vocals|Keyboard)' [type=string_pattern_mismatch, input_value='Trumpet', input_type=str]\n",
      "    For further information visit https://errors.pydantic.dev/2.12/v/string_pattern_mismatch\n"
     ]
    }
   ],
   "source": [
    "try:\n",
    "    miles_davis = Musician(\n",
    "        name=\"Miles Davis\",\n",
    "        instrument=\"Trumpet\",\n",
    "        genre=\"Jazz\",\n",
    "        years_active=33,\n",
    "    )\n",
    "except ValidationError as e:\n",
    "    print(f\"Error: {e}\")"
   ]
  },
  {
   "cell_type": "markdown",
   "id": "4d659595",
   "metadata": {},
   "source": [
    "## 1.4 Protect fields"
   ]
  },
  {
   "cell_type": "code",
   "execution_count": 7,
   "id": "c3c7b478",
   "metadata": {},
   "outputs": [
    {
     "data": {
      "text/plain": [
       "Musician(name='John Mayer', instrument='Guitar', genre='Blues', years_active=27, is_active=True)"
      ]
     },
     "execution_count": 7,
     "metadata": {},
     "output_type": "execute_result"
    }
   ],
   "source": [
    "# Change an attribute\n",
    "john_mayer.genre = \"Blues\"\n",
    "\n",
    "john_mayer"
   ]
  },
  {
   "cell_type": "markdown",
   "id": "c8c6fd99",
   "metadata": {},
   "source": [
    "However, if you want to protect it, you can freeze the fields setting the parameter `frozen=True`:"
   ]
  },
  {
   "cell_type": "code",
   "execution_count": 8,
   "id": "22701d21",
   "metadata": {},
   "outputs": [],
   "source": [
    "from pydantic import ValidationError\n",
    "\n",
    "class Musician(BaseModel):\n",
    "    \"\"\"Class representing a musician with validated fields.\"\"\"\n",
    "\n",
    "    name: StrictStr = Field(\n",
    "        pattern=r\"[A-Z]{1}[a-z]+ [A-Z]{1}[a-z]\",\n",
    "        description=\"The name of the musician. First and last name, capitalized.\",\n",
    "        frozen=True,\n",
    "    )\n",
    "    instrument: StrictStr = Field(\n",
    "        pattern=r\"(Guitar|Bass|Drums|Vocals|Keyboard)\",\n",
    "        description=\"The instrument played by the musician.\",\n",
    "        frozen=True,\n",
    "    )\n",
    "    genre: StrictStr = Field(\n",
    "        pattern=r\"[A-Za-z]+\",\n",
    "        description=\"The genre of music the musician is associated with.\",\n",
    "        frozen=True,\n",
    "    )\n",
    "    years_active: int = Field(\n",
    "        ge=0,\n",
    "        le=100,\n",
    "        description=\"Number of years the musician has been active in their career.\",\n",
    "    )\n",
    "    is_active: StrictBool = Field(\n",
    "        default=True,\n",
    "        description=\"Indicates if the musician is currently active.\",\n",
    "    )\n",
    "\n",
    "john_mayer = Musician(\n",
    "    name=\"John Mayer\",\n",
    "    instrument=\"Guitar\",\n",
    "    genre=\"Rock\",\n",
    "    years_active=27,\n",
    ")"
   ]
  },
  {
   "cell_type": "code",
   "execution_count": 9,
   "id": "2c1aa26a",
   "metadata": {},
   "outputs": [
    {
     "name": "stdout",
     "output_type": "stream",
     "text": [
      "Error: 1 validation error for Musician\n",
      "instrument\n",
      "  Field is frozen [type=frozen_field, input_value='Piano', input_type=str]\n",
      "    For further information visit https://errors.pydantic.dev/2.12/v/frozen_field\n"
     ]
    }
   ],
   "source": [
    "try:\n",
    "    john_mayer.instrument = \"Piano\"\n",
    "except ValidationError as e:\n",
    "    print(f\"Error: {e}\")"
   ]
  },
  {
   "cell_type": "markdown",
   "id": "2b05609c",
   "metadata": {},
   "source": [
    "# 2. Validation"
   ]
  },
  {
   "cell_type": "markdown",
   "id": "b33ea0e5",
   "metadata": {},
   "source": [
    "## 2.1 Field validators"
   ]
  },
  {
   "cell_type": "markdown",
   "id": "b3ddf0c9",
   "metadata": {},
   "source": [
    "In its simplest form, a field validator is a callable taking the value to be validated as an argument and returning the validated value. The callable can perform checks for specific conditions (see raising validation errors) and make changes to the validated value (coercion or mutation).\n",
    "\n",
    "Four different types of validators can be used. They can all be defined using the annotated pattern or using the `field_validator()` decorator, applied on a class method:\n",
    "\n",
    "- __After validators__: run after Pydantic's internal validation. They are generally more type safe and thus easier to implement."
   ]
  },
  {
   "cell_type": "code",
   "execution_count": 10,
   "id": "96539295",
   "metadata": {},
   "outputs": [],
   "source": [
    "from pydantic import field_validator\n",
    "\n",
    "class Musician(BaseModel):\n",
    "    \"\"\"Class representing a musician with validated fields.\"\"\"\n",
    "\n",
    "    name: StrictStr = Field(\n",
    "        pattern=r\"[A-Z]{1}[a-z]+ [A-Z]{1}[a-z]\",\n",
    "        description=\"The name of the musician. First and last name, capitalized.\",\n",
    "        frozen=True,\n",
    "    )\n",
    "    instrument: StrictStr = Field(\n",
    "        pattern=r\"(Guitar|Bass|Drums|Vocals|Keyboard)\",\n",
    "        description=\"The instrument played by the musician.\",\n",
    "        frozen=True,\n",
    "    )\n",
    "    genre: StrictStr = Field(\n",
    "        pattern=r\"[A-Za-z]+\",\n",
    "        description=\"The genre of music the musician is associated with.\",\n",
    "        frozen=True,\n",
    "    )\n",
    "    years_active: int = Field(\n",
    "        ge=0,\n",
    "        le=100,\n",
    "        description=\"Number of years the musician has been active in their career.\",\n",
    "    )\n",
    "    is_active: StrictBool = Field(\n",
    "        default=True,\n",
    "        description=\"Indicates if the musician is currently active.\",\n",
    "    )\n",
    "    list_of_albums: list[StrictStr] = Field(\n",
    "        default_factory=list,\n",
    "        description=\"A list of the musician's albums.\",\n",
    "    )\n",
    "\n",
    "    @field_validator('list_of_albums', mode='after')\n",
    "    def check_albums_not_empty(cls, v):\n",
    "        if not v:\n",
    "            raise ValueError(\"The list of albums cannot be empty.\")\n",
    "        return v"
   ]
  },
  {
   "cell_type": "code",
   "execution_count": null,
   "id": "8fbd844f",
   "metadata": {},
   "outputs": [
    {
     "name": "stdout",
     "output_type": "stream",
     "text": [
      "Error: 1 validation error for Musician\n",
      "list_of_albums\n",
      "  Value error, The list of albums cannot be empty. [type=value_error, input_value=[], input_type=list]\n",
      "    For further information visit https://errors.pydantic.dev/2.12/v/value_error\n"
     ]
    }
   ],
   "source": [
    "try:\n",
    "    juan_pablo = Musician(\n",
    "        name=\"Juan Pablo\",\n",
    "        instrument=\"Vocals\",\n",
    "        genre=\"Reggaeton\",\n",
    "        years_active=2,\n",
    "        list_of_albums=[],\n",
    "    )\n",
    "except ValidationError as e:\n",
    "    print(f\"Error: {e}\")"
   ]
  },
  {
   "cell_type": "markdown",
   "id": "3200b305",
   "metadata": {},
   "source": [
    "- __Before validators__: run before Pydantic's internal parsing and validation (e.g. coercion of a str to an int). These are more flexible than after validators, but they also have to deal with the raw input, which in theory could be any arbitrary object. You should also avoid mutating the value directly if you are raising a validation error later in your validator function, as the mutated value may be passed to other validators if using unions.\n",
    "The value returned from this callable is then validated against the provided type annotation by Pydantic."
   ]
  },
  {
   "cell_type": "code",
   "execution_count": 28,
   "id": "349c586d",
   "metadata": {},
   "outputs": [],
   "source": [
    "class Musician(BaseModel):\n",
    "    \"\"\"Class representing a musician with validated fields.\"\"\"\n",
    "\n",
    "    name: StrictStr = Field(\n",
    "        pattern=r\"[A-Z]{1}[a-z]+ [A-Z]{1}[a-z]\",\n",
    "        description=\"The name of the musician. First and last name, capitalized.\",\n",
    "        frozen=True,\n",
    "    )\n",
    "    instrument: StrictStr = Field(\n",
    "        pattern=r\"(Guitar|Bass|Drums|Vocals|Keyboard)\",\n",
    "        description=\"The instrument played by the musician.\",\n",
    "        frozen=True,\n",
    "    )\n",
    "    genre: StrictStr = Field(\n",
    "        pattern=r\"[A-Za-z]+\",\n",
    "        description=\"The genre of music the musician is associated with.\",\n",
    "        frozen=True,\n",
    "    )\n",
    "    years_active: int = Field(\n",
    "        ge=0,\n",
    "        le=100,\n",
    "        description=\"Number of years the musician has been active in their career.\",\n",
    "    )\n",
    "    is_active: StrictBool = Field(\n",
    "        default=True,\n",
    "        description=\"Indicates if the musician is currently active.\",\n",
    "    )\n",
    "    list_of_albums: list[StrictStr] = Field(\n",
    "        default_factory=list,\n",
    "        description=\"A list of the musician's albums.\",\n",
    "    )\n",
    "\n",
    "    @field_validator('list_of_albums', mode='before')\n",
    "    def check_albums_not_empty(cls, v):\n",
    "        if not v:\n",
    "            raise ValueError(\"The list of albums cannot be empty.\")\n",
    "        return v"
   ]
  },
  {
   "cell_type": "code",
   "execution_count": 29,
   "id": "f4d3c854",
   "metadata": {},
   "outputs": [
    {
     "name": "stdout",
     "output_type": "stream",
     "text": [
      "Error: 2 validation errors for Musician\n",
      "genre\n",
      "  Field required [type=missing, input_value={'name': 'Juan Pablo', 'i...2, 'list_of_albums': []}, input_type=dict]\n",
      "    For further information visit https://errors.pydantic.dev/2.11/v/missing\n",
      "list_of_albums\n",
      "  Value error, The list of albums cannot be empty. [type=value_error, input_value=[], input_type=list]\n",
      "    For further information visit https://errors.pydantic.dev/2.11/v/value_error\n"
     ]
    }
   ],
   "source": [
    "try:\n",
    "    juan_pablo = Musician(\n",
    "        name=\"Juan Pablo\",\n",
    "        instrument=\"Vocals\",\n",
    "        years_active=2,\n",
    "        list_of_albums=[],\n",
    "    )\n",
    "except ValidationError as e:\n",
    "    print(f\"Error: {e}\")"
   ]
  },
  {
   "cell_type": "markdown",
   "id": "a49f793e",
   "metadata": {},
   "source": [
    "## 2.2 Model validators"
   ]
  },
  {
   "cell_type": "markdown",
   "id": "d889159a",
   "metadata": {},
   "source": [
    "Validation can also be performed on the entire model's data using the `model_validator()` decorator.\n",
    "\n",
    "Three different types of model validators can be used:\n",
    "\n",
    "- __After validators__: run after the whole model has been validated. As such, they are defined as instance methods and can be seen as post-initialization hooks. Important note: the validated instance should be returned."
   ]
  },
  {
   "cell_type": "code",
   "execution_count": 30,
   "id": "b64c4c36",
   "metadata": {},
   "outputs": [],
   "source": [
    "from typing_extensions import Self\n",
    "\n",
    "from pydantic import BaseModel, model_validator\n",
    "\n",
    "\n",
    "class UserModel(BaseModel):\n",
    "    username: str\n",
    "    password: str\n",
    "    password_repeat: str\n",
    "\n",
    "    @model_validator(mode='after')\n",
    "    def check_passwords_match(self) -> Self:\n",
    "        if self.password != self.password_repeat:\n",
    "            raise ValueError('Passwords do not match')\n",
    "        return self"
   ]
  },
  {
   "cell_type": "code",
   "execution_count": 31,
   "id": "ffc4712b",
   "metadata": {},
   "outputs": [
    {
     "name": "stdout",
     "output_type": "stream",
     "text": [
      "Error: 1 validation error for UserModel\n",
      "  Value error, Passwords do not match [type=value_error, input_value={'username': 'user1', 'pa...t': 'securepassword123'}, input_type=dict]\n",
      "    For further information visit https://errors.pydantic.dev/2.11/v/value_error\n"
     ]
    }
   ],
   "source": [
    "try:\n",
    "    UserModel(\n",
    "        username=\"user1\",\n",
    "        password=\"securepassword\",\n",
    "        password_repeat=\"securepassword123\",\n",
    "    )\n",
    "except ValidationError as e:\n",
    "    print(f\"Error: {e}\")"
   ]
  },
  {
   "cell_type": "markdown",
   "id": "e26666ae",
   "metadata": {},
   "source": [
    "- __Before validators__: are run before the model is instantiated. These are more flexible than after validators, but they also have to deal with the raw input, which in theory could be any arbitrary object. You should also avoid mutating the value directly if you are raising a validation error later in your validator function, as the mutated value may be passed to other validators if using unions."
   ]
  },
  {
   "cell_type": "code",
   "execution_count": 32,
   "id": "ba81a135",
   "metadata": {},
   "outputs": [],
   "source": [
    "from typing import Any\n",
    "\n",
    "from pydantic import BaseModel, model_validator\n",
    "\n",
    "\n",
    "class UserModel(BaseModel):\n",
    "    username: str\n",
    "\n",
    "    @model_validator(mode='before')\n",
    "    @classmethod\n",
    "    def check_card_number_not_present(cls, data: Any) -> Any:  \n",
    "        if isinstance(data, dict):  \n",
    "            if 'card_number' in data:\n",
    "                raise ValueError(\"'card_number' should not be included\")\n",
    "        return data"
   ]
  },
  {
   "cell_type": "code",
   "execution_count": 33,
   "id": "3afdc51f",
   "metadata": {},
   "outputs": [
    {
     "name": "stdout",
     "output_type": "stream",
     "text": [
      "Error: 1 validation error for UserModel\n",
      "  Value error, 'card_number' should not be included [type=value_error, input_value={'username': 'user2', 'ca...: '1234-5678-9012-3456'}, input_type=dict]\n",
      "    For further information visit https://errors.pydantic.dev/2.11/v/value_error\n"
     ]
    }
   ],
   "source": [
    "try:\n",
    "    UserModel(\n",
    "        username=\"user2\",\n",
    "        card_number=\"1234-5678-9012-3456\",\n",
    "    )\n",
    "except ValidationError as e:\n",
    "    print(f\"Error: {e}\")"
   ]
  },
  {
   "cell_type": "markdown",
   "id": "25526ec1",
   "metadata": {},
   "source": [
    "__Ordering of validators__:\n",
    "\n",
    "When using the annotated pattern, the order in which validators are applied is defined as follows: before and wrap validators are run from right to left, and after validators are then run from left to right.\n",
    "Internally, validators defined using the decorator are converted to their annotated form counterpart and added last after the existing metadata for the field. This means that the same ordering logic applies."
   ]
  },
  {
   "cell_type": "markdown",
   "id": "e97f0bb5",
   "metadata": {},
   "source": []
  }
 ],
 "metadata": {
  "kernelspec": {
   "display_name": ".venv (3.13.2)",
   "language": "python",
   "name": "python3"
  },
  "language_info": {
   "codemirror_mode": {
    "name": "ipython",
    "version": 3
   },
   "file_extension": ".py",
   "mimetype": "text/x-python",
   "name": "python",
   "nbconvert_exporter": "python",
   "pygments_lexer": "ipython3",
   "version": "3.13.2"
  }
 },
 "nbformat": 4,
 "nbformat_minor": 5
}
