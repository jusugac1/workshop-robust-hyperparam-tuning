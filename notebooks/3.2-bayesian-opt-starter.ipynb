{
 "cells": [
  {
   "cell_type": "markdown",
   "id": "207642ca",
   "metadata": {},
   "source": [
    "## Table of Contents\n",
    "\n",
    "1. [Defining the optimization problem: search space and objective](#1-defining-the-optimization-problem-search-space-and-objective)  \n",
    "2. [First touch with Optuna for optimization](#2-first-touch-with-optuna-for-optimization)  \n",
    "3. [Analyzing the optimization results](#3-analyzing-the-optimization-results)  \n",
    "4. [Setting up baselines with enqueue trials](#4-setting-up-baselines-with-enqueue-trials)\n",
    "\n"
   ]
  },
  {
   "cell_type": "markdown",
   "id": "51993523",
   "metadata": {},
   "source": [
    "## 1. Defining the optimization problem: search space and objective"
   ]
  },
  {
   "cell_type": "markdown",
   "id": "da214f2c",
   "metadata": {},
   "source": [
    "## 2. First touch with Optuna for optimization"
   ]
  },
  {
   "cell_type": "markdown",
   "id": "5a616123",
   "metadata": {},
   "source": [
    "## 3. Analyzing the optimization results"
   ]
  },
  {
   "cell_type": "markdown",
   "id": "a8c0fcce",
   "metadata": {},
   "source": [
    "## 4. Setting up baselines with enqueue trials"
   ]
  }
 ],
 "metadata": {
  "language_info": {
   "name": "python"
  }
 },
 "nbformat": 4,
 "nbformat_minor": 5
}
