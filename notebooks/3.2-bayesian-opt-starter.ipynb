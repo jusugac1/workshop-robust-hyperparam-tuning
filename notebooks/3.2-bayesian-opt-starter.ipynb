{
 "cells": [
  {
   "cell_type": "markdown",
   "id": "207642ca",
   "metadata": {},
   "source": [
    "## Table of Contents\n",
    "\n",
    "This notebook provides basic examples of how to use Optuna for hyperparameter tuning. The following sections explain de step-by-step procedure:\n",
    "\n",
    "1. [Defining the optimization problem: search space and objective](#1-defining-the-optimization-problem-search-space-and-objective)  \n",
    "2. [First touch with Optuna for optimization](#2-first-touch-with-optuna-for-optimization)\n",
    "3. [Analyzing the optimization results](#3-analyzing-the-optimization-results)\n",
    "4. [Setting up baselines with enqueue trials](#4-setting-up-baselines-with-enqueue-trials)\n",
    "5. [Use of multivariate samplers](#5-use-of-multivariate-samplers)"
   ]
  },
  {
   "cell_type": "markdown",
   "id": "3bb0ba1f",
   "metadata": {},
   "source": [
    "## Imports"
   ]
  },
  {
   "cell_type": "code",
   "execution_count": 1,
   "id": "93588332",
   "metadata": {},
   "outputs": [],
   "source": [
    "from pathlib import Path\n",
    "import sys\n",
    "sys.path.insert(0, str(Path.cwd().parent))  # adjust .parent depth so 'src' is findable"
   ]
  },
  {
   "cell_type": "code",
   "execution_count": 2,
   "id": "d4fd912c",
   "metadata": {},
   "outputs": [
    {
     "name": "stderr",
     "output_type": "stream",
     "text": [
      "/Users/jpusuga/Library/CloudStorage/OneDrive-Personnel/workshops/workshop-robust-hyperparam-tuning/.venv/lib/python3.13/site-packages/tqdm/auto.py:21: TqdmWarning: IProgress not found. Please update jupyter and ipywidgets. See https://ipywidgets.readthedocs.io/en/stable/user_install.html\n",
      "  from .autonotebook import tqdm as notebook_tqdm\n"
     ]
    }
   ],
   "source": [
    "import os\n",
    "import optuna\n",
    "import pandas as pd\n",
    "\n",
    "from src.train_utils import retrieve_data_w_features\n",
    "\n",
    "from sklearn.pipeline import Pipeline\n",
    "from sklearn.compose import ColumnTransformer\n",
    "from sklearn.preprocessing import OneHotEncoder\n",
    "from sklearn.impute import SimpleImputer\n",
    "from sklearn.ensemble import RandomForestRegressor\n",
    "from sklearn.metrics import root_mean_squared_error\n",
    "import optuna\n",
    "import plotly"
   ]
  },
  {
   "cell_type": "markdown",
   "id": "3925132b",
   "metadata": {},
   "source": [
    "## Options"
   ]
  },
  {
   "cell_type": "code",
   "execution_count": 3,
   "id": "64b99f1a",
   "metadata": {},
   "outputs": [],
   "source": [
    "path_data = \"../data/01_raw\""
   ]
  },
  {
   "cell_type": "markdown",
   "id": "8ed1e01d",
   "metadata": {},
   "source": [
    "## Dataset"
   ]
  },
  {
   "cell_type": "code",
   "execution_count": 4,
   "id": "380c001f",
   "metadata": {},
   "outputs": [],
   "source": [
    "df = pd.read_parquet(os.path.join(path_data, \"fremotor1prem0304.parquet\"))\n",
    "cols_to_drop = [\"IDpol\", \"Year\", \"train_set\", \"val_set\", \"test_set\", \"big_train_set\"]\n",
    "\n",
    "X_big_train, y_big_train = retrieve_data_w_features(df=df, features_to_drop=cols_to_drop, split=\"big_train_set\")\n",
    "X_train, y_train = retrieve_data_w_features(df=df, features_to_drop=cols_to_drop, split=\"train_set\")\n",
    "X_val, y_val = retrieve_data_w_features(df=df, features_to_drop=cols_to_drop, split=\"val_set\")\n",
    "X_test, y_test = retrieve_data_w_features(df=df, features_to_drop=cols_to_drop, split=\"test_set\")"
   ]
  },
  {
   "cell_type": "markdown",
   "id": "51993523",
   "metadata": {},
   "source": [
    "## 1. Defining the optimization problem: search space and objective\n",
    "\n",
    "To use Optuna, two things must be defined:\n",
    "\n",
    "1. The sample space from which the hyperparameters will be sampled\n",
    "2. The objective function that will allow to determine that a certain solution is better or worse and the others\n",
    "\n",
    "For this example, a simple `RandomForestRegressor` will be used on the dataset.\n",
    "\n",
    "For the sample space, the following hyperparameters will be optimized:\n",
    "- `max_depth`: discrete (int).\n",
    "- `n_estimators`: discrete (int).\n",
    "- `min_samples_in_leaf`: continuous (float) (can be discrete (int) too!). If continuous, it is interpreted as an amount of samples equal to `ceil(min_samples_split * n_samples)\n",
    "- `max_features`: categorical (fixed categories).\n",
    "\n",
    "🎯 The objective will be to `minimize` the validation `RMSE` "
   ]
  },
  {
   "cell_type": "code",
   "execution_count": 53,
   "id": "90b36462",
   "metadata": {},
   "outputs": [
    {
     "data": {
      "text/plain": [
       "Index(['DrivAge', 'BonusMalus', 'LicenceNb', 'VehAge'], dtype='object')"
      ]
     },
     "execution_count": 53,
     "metadata": {},
     "output_type": "execute_result"
    }
   ],
   "source": [
    "X_big_train.select_dtypes(include=[\"float64\", \"float32\", \"int64\", \"int32\"]).columns"
   ]
  },
  {
   "cell_type": "code",
   "execution_count": 51,
   "id": "6dc40fda",
   "metadata": {},
   "outputs": [
    {
     "data": {
      "text/plain": [
       "Index(['DrivGender', 'MaritalStatus', 'PayFreq', 'JobCode', 'VehClass',\n",
       "       'VehPower', 'VehGas', 'VehUsage', 'Garage', 'Area', 'Region', 'Channel',\n",
       "       'Marketing'],\n",
       "      dtype='object')"
      ]
     },
     "execution_count": 51,
     "metadata": {},
     "output_type": "execute_result"
    }
   ],
   "source": [
    "X_big_train.select_dtypes(include=[\"object\", \"category\"]).columns"
   ]
  },
  {
   "cell_type": "code",
   "execution_count": null,
   "id": "6dbd0a7a",
   "metadata": {},
   "outputs": [],
   "source": []
  },
  {
   "cell_type": "code",
   "execution_count": 41,
   "id": "0cf655ba",
   "metadata": {},
   "outputs": [
    {
     "data": {
      "text/plain": [
       "DrivAge           float64\n",
       "DrivGender       category\n",
       "MaritalStatus    category\n",
       "BonusMalus        float64\n",
       "LicenceNb         float64\n",
       "PayFreq          category\n",
       "JobCode          category\n",
       "VehAge            float64\n",
       "VehClass         category\n",
       "VehPower         category\n",
       "VehGas           category\n",
       "VehUsage         category\n",
       "Garage           category\n",
       "Area             category\n",
       "Region           category\n",
       "Channel          category\n",
       "Marketing        category\n",
       "dtype: object"
      ]
     },
     "execution_count": 41,
     "metadata": {},
     "output_type": "execute_result"
    }
   ],
   "source": [
    "X_big_train.dtypes"
   ]
  },
  {
   "cell_type": "code",
   "execution_count": 12,
   "id": "edecf7af",
   "metadata": {},
   "outputs": [],
   "source": [
    "def training_objective(trial:optuna.trial.Trial) -> float:\n",
    "    max_depth = trial.suggest_int(\"max_depth\", 1, 5)\n",
    "    n_estimators = trial.suggest_int(\"n_estimators\", 50, 300)\n",
    "    min_samples_split = trial.suggest_float(\"min_samples_split\", 0.001, 0.05)\n",
    "    max_features = trial.suggest_categorical(\"max_features\", [\"log2\", \"sqrt\"])\n",
    "    model = RandomForestRegressor(\n",
    "        max_depth=max_depth,\n",
    "        n_estimators=n_estimators,\n",
    "        min_samples_split=min_samples_split,\n",
    "        max_features=max_features,\n",
    "        random_state=42,\n",
    "        n_jobs=-1,\n",
    "    )\n",
    "    model.fit(X_train, y_train)\n",
    "    val_predictions = model.predict(X_val)\n",
    "    return root_mean_squared_error(y_true=y_val, y_pred=val_predictions)"
   ]
  },
  {
   "cell_type": "markdown",
   "id": "da214f2c",
   "metadata": {},
   "source": [
    "## 2. First touch with Optuna for optimization"
   ]
  },
  {
   "cell_type": "code",
   "execution_count": 6,
   "id": "162d83f6",
   "metadata": {},
   "outputs": [
    {
     "data": {
      "text/html": [
       "<style>#sk-container-id-1 {\n",
       "  /* Definition of color scheme common for light and dark mode */\n",
       "  --sklearn-color-text: #000;\n",
       "  --sklearn-color-text-muted: #666;\n",
       "  --sklearn-color-line: gray;\n",
       "  /* Definition of color scheme for unfitted estimators */\n",
       "  --sklearn-color-unfitted-level-0: #fff5e6;\n",
       "  --sklearn-color-unfitted-level-1: #f6e4d2;\n",
       "  --sklearn-color-unfitted-level-2: #ffe0b3;\n",
       "  --sklearn-color-unfitted-level-3: chocolate;\n",
       "  /* Definition of color scheme for fitted estimators */\n",
       "  --sklearn-color-fitted-level-0: #f0f8ff;\n",
       "  --sklearn-color-fitted-level-1: #d4ebff;\n",
       "  --sklearn-color-fitted-level-2: #b3dbfd;\n",
       "  --sklearn-color-fitted-level-3: cornflowerblue;\n",
       "\n",
       "  /* Specific color for light theme */\n",
       "  --sklearn-color-text-on-default-background: var(--sg-text-color, var(--theme-code-foreground, var(--jp-content-font-color1, black)));\n",
       "  --sklearn-color-background: var(--sg-background-color, var(--theme-background, var(--jp-layout-color0, white)));\n",
       "  --sklearn-color-border-box: var(--sg-text-color, var(--theme-code-foreground, var(--jp-content-font-color1, black)));\n",
       "  --sklearn-color-icon: #696969;\n",
       "\n",
       "  @media (prefers-color-scheme: dark) {\n",
       "    /* Redefinition of color scheme for dark theme */\n",
       "    --sklearn-color-text-on-default-background: var(--sg-text-color, var(--theme-code-foreground, var(--jp-content-font-color1, white)));\n",
       "    --sklearn-color-background: var(--sg-background-color, var(--theme-background, var(--jp-layout-color0, #111)));\n",
       "    --sklearn-color-border-box: var(--sg-text-color, var(--theme-code-foreground, var(--jp-content-font-color1, white)));\n",
       "    --sklearn-color-icon: #878787;\n",
       "  }\n",
       "}\n",
       "\n",
       "#sk-container-id-1 {\n",
       "  color: var(--sklearn-color-text);\n",
       "}\n",
       "\n",
       "#sk-container-id-1 pre {\n",
       "  padding: 0;\n",
       "}\n",
       "\n",
       "#sk-container-id-1 input.sk-hidden--visually {\n",
       "  border: 0;\n",
       "  clip: rect(1px 1px 1px 1px);\n",
       "  clip: rect(1px, 1px, 1px, 1px);\n",
       "  height: 1px;\n",
       "  margin: -1px;\n",
       "  overflow: hidden;\n",
       "  padding: 0;\n",
       "  position: absolute;\n",
       "  width: 1px;\n",
       "}\n",
       "\n",
       "#sk-container-id-1 div.sk-dashed-wrapped {\n",
       "  border: 1px dashed var(--sklearn-color-line);\n",
       "  margin: 0 0.4em 0.5em 0.4em;\n",
       "  box-sizing: border-box;\n",
       "  padding-bottom: 0.4em;\n",
       "  background-color: var(--sklearn-color-background);\n",
       "}\n",
       "\n",
       "#sk-container-id-1 div.sk-container {\n",
       "  /* jupyter's `normalize.less` sets `[hidden] { display: none; }`\n",
       "     but bootstrap.min.css set `[hidden] { display: none !important; }`\n",
       "     so we also need the `!important` here to be able to override the\n",
       "     default hidden behavior on the sphinx rendered scikit-learn.org.\n",
       "     See: https://github.com/scikit-learn/scikit-learn/issues/21755 */\n",
       "  display: inline-block !important;\n",
       "  position: relative;\n",
       "}\n",
       "\n",
       "#sk-container-id-1 div.sk-text-repr-fallback {\n",
       "  display: none;\n",
       "}\n",
       "\n",
       "div.sk-parallel-item,\n",
       "div.sk-serial,\n",
       "div.sk-item {\n",
       "  /* draw centered vertical line to link estimators */\n",
       "  background-image: linear-gradient(var(--sklearn-color-text-on-default-background), var(--sklearn-color-text-on-default-background));\n",
       "  background-size: 2px 100%;\n",
       "  background-repeat: no-repeat;\n",
       "  background-position: center center;\n",
       "}\n",
       "\n",
       "/* Parallel-specific style estimator block */\n",
       "\n",
       "#sk-container-id-1 div.sk-parallel-item::after {\n",
       "  content: \"\";\n",
       "  width: 100%;\n",
       "  border-bottom: 2px solid var(--sklearn-color-text-on-default-background);\n",
       "  flex-grow: 1;\n",
       "}\n",
       "\n",
       "#sk-container-id-1 div.sk-parallel {\n",
       "  display: flex;\n",
       "  align-items: stretch;\n",
       "  justify-content: center;\n",
       "  background-color: var(--sklearn-color-background);\n",
       "  position: relative;\n",
       "}\n",
       "\n",
       "#sk-container-id-1 div.sk-parallel-item {\n",
       "  display: flex;\n",
       "  flex-direction: column;\n",
       "}\n",
       "\n",
       "#sk-container-id-1 div.sk-parallel-item:first-child::after {\n",
       "  align-self: flex-end;\n",
       "  width: 50%;\n",
       "}\n",
       "\n",
       "#sk-container-id-1 div.sk-parallel-item:last-child::after {\n",
       "  align-self: flex-start;\n",
       "  width: 50%;\n",
       "}\n",
       "\n",
       "#sk-container-id-1 div.sk-parallel-item:only-child::after {\n",
       "  width: 0;\n",
       "}\n",
       "\n",
       "/* Serial-specific style estimator block */\n",
       "\n",
       "#sk-container-id-1 div.sk-serial {\n",
       "  display: flex;\n",
       "  flex-direction: column;\n",
       "  align-items: center;\n",
       "  background-color: var(--sklearn-color-background);\n",
       "  padding-right: 1em;\n",
       "  padding-left: 1em;\n",
       "}\n",
       "\n",
       "\n",
       "/* Toggleable style: style used for estimator/Pipeline/ColumnTransformer box that is\n",
       "clickable and can be expanded/collapsed.\n",
       "- Pipeline and ColumnTransformer use this feature and define the default style\n",
       "- Estimators will overwrite some part of the style using the `sk-estimator` class\n",
       "*/\n",
       "\n",
       "/* Pipeline and ColumnTransformer style (default) */\n",
       "\n",
       "#sk-container-id-1 div.sk-toggleable {\n",
       "  /* Default theme specific background. It is overwritten whether we have a\n",
       "  specific estimator or a Pipeline/ColumnTransformer */\n",
       "  background-color: var(--sklearn-color-background);\n",
       "}\n",
       "\n",
       "/* Toggleable label */\n",
       "#sk-container-id-1 label.sk-toggleable__label {\n",
       "  cursor: pointer;\n",
       "  display: flex;\n",
       "  width: 100%;\n",
       "  margin-bottom: 0;\n",
       "  padding: 0.5em;\n",
       "  box-sizing: border-box;\n",
       "  text-align: center;\n",
       "  align-items: start;\n",
       "  justify-content: space-between;\n",
       "  gap: 0.5em;\n",
       "}\n",
       "\n",
       "#sk-container-id-1 label.sk-toggleable__label .caption {\n",
       "  font-size: 0.6rem;\n",
       "  font-weight: lighter;\n",
       "  color: var(--sklearn-color-text-muted);\n",
       "}\n",
       "\n",
       "#sk-container-id-1 label.sk-toggleable__label-arrow:before {\n",
       "  /* Arrow on the left of the label */\n",
       "  content: \"▸\";\n",
       "  float: left;\n",
       "  margin-right: 0.25em;\n",
       "  color: var(--sklearn-color-icon);\n",
       "}\n",
       "\n",
       "#sk-container-id-1 label.sk-toggleable__label-arrow:hover:before {\n",
       "  color: var(--sklearn-color-text);\n",
       "}\n",
       "\n",
       "/* Toggleable content - dropdown */\n",
       "\n",
       "#sk-container-id-1 div.sk-toggleable__content {\n",
       "  display: none;\n",
       "  text-align: left;\n",
       "  /* unfitted */\n",
       "  background-color: var(--sklearn-color-unfitted-level-0);\n",
       "}\n",
       "\n",
       "#sk-container-id-1 div.sk-toggleable__content.fitted {\n",
       "  /* fitted */\n",
       "  background-color: var(--sklearn-color-fitted-level-0);\n",
       "}\n",
       "\n",
       "#sk-container-id-1 div.sk-toggleable__content pre {\n",
       "  margin: 0.2em;\n",
       "  border-radius: 0.25em;\n",
       "  color: var(--sklearn-color-text);\n",
       "  /* unfitted */\n",
       "  background-color: var(--sklearn-color-unfitted-level-0);\n",
       "}\n",
       "\n",
       "#sk-container-id-1 div.sk-toggleable__content.fitted pre {\n",
       "  /* unfitted */\n",
       "  background-color: var(--sklearn-color-fitted-level-0);\n",
       "}\n",
       "\n",
       "#sk-container-id-1 input.sk-toggleable__control:checked~div.sk-toggleable__content {\n",
       "  /* Expand drop-down */\n",
       "  display: block;\n",
       "  width: 100%;\n",
       "  overflow: visible;\n",
       "}\n",
       "\n",
       "#sk-container-id-1 input.sk-toggleable__control:checked~label.sk-toggleable__label-arrow:before {\n",
       "  content: \"▾\";\n",
       "}\n",
       "\n",
       "/* Pipeline/ColumnTransformer-specific style */\n",
       "\n",
       "#sk-container-id-1 div.sk-label input.sk-toggleable__control:checked~label.sk-toggleable__label {\n",
       "  color: var(--sklearn-color-text);\n",
       "  background-color: var(--sklearn-color-unfitted-level-2);\n",
       "}\n",
       "\n",
       "#sk-container-id-1 div.sk-label.fitted input.sk-toggleable__control:checked~label.sk-toggleable__label {\n",
       "  background-color: var(--sklearn-color-fitted-level-2);\n",
       "}\n",
       "\n",
       "/* Estimator-specific style */\n",
       "\n",
       "/* Colorize estimator box */\n",
       "#sk-container-id-1 div.sk-estimator input.sk-toggleable__control:checked~label.sk-toggleable__label {\n",
       "  /* unfitted */\n",
       "  background-color: var(--sklearn-color-unfitted-level-2);\n",
       "}\n",
       "\n",
       "#sk-container-id-1 div.sk-estimator.fitted input.sk-toggleable__control:checked~label.sk-toggleable__label {\n",
       "  /* fitted */\n",
       "  background-color: var(--sklearn-color-fitted-level-2);\n",
       "}\n",
       "\n",
       "#sk-container-id-1 div.sk-label label.sk-toggleable__label,\n",
       "#sk-container-id-1 div.sk-label label {\n",
       "  /* The background is the default theme color */\n",
       "  color: var(--sklearn-color-text-on-default-background);\n",
       "}\n",
       "\n",
       "/* On hover, darken the color of the background */\n",
       "#sk-container-id-1 div.sk-label:hover label.sk-toggleable__label {\n",
       "  color: var(--sklearn-color-text);\n",
       "  background-color: var(--sklearn-color-unfitted-level-2);\n",
       "}\n",
       "\n",
       "/* Label box, darken color on hover, fitted */\n",
       "#sk-container-id-1 div.sk-label.fitted:hover label.sk-toggleable__label.fitted {\n",
       "  color: var(--sklearn-color-text);\n",
       "  background-color: var(--sklearn-color-fitted-level-2);\n",
       "}\n",
       "\n",
       "/* Estimator label */\n",
       "\n",
       "#sk-container-id-1 div.sk-label label {\n",
       "  font-family: monospace;\n",
       "  font-weight: bold;\n",
       "  display: inline-block;\n",
       "  line-height: 1.2em;\n",
       "}\n",
       "\n",
       "#sk-container-id-1 div.sk-label-container {\n",
       "  text-align: center;\n",
       "}\n",
       "\n",
       "/* Estimator-specific */\n",
       "#sk-container-id-1 div.sk-estimator {\n",
       "  font-family: monospace;\n",
       "  border: 1px dotted var(--sklearn-color-border-box);\n",
       "  border-radius: 0.25em;\n",
       "  box-sizing: border-box;\n",
       "  margin-bottom: 0.5em;\n",
       "  /* unfitted */\n",
       "  background-color: var(--sklearn-color-unfitted-level-0);\n",
       "}\n",
       "\n",
       "#sk-container-id-1 div.sk-estimator.fitted {\n",
       "  /* fitted */\n",
       "  background-color: var(--sklearn-color-fitted-level-0);\n",
       "}\n",
       "\n",
       "/* on hover */\n",
       "#sk-container-id-1 div.sk-estimator:hover {\n",
       "  /* unfitted */\n",
       "  background-color: var(--sklearn-color-unfitted-level-2);\n",
       "}\n",
       "\n",
       "#sk-container-id-1 div.sk-estimator.fitted:hover {\n",
       "  /* fitted */\n",
       "  background-color: var(--sklearn-color-fitted-level-2);\n",
       "}\n",
       "\n",
       "/* Specification for estimator info (e.g. \"i\" and \"?\") */\n",
       "\n",
       "/* Common style for \"i\" and \"?\" */\n",
       "\n",
       ".sk-estimator-doc-link,\n",
       "a:link.sk-estimator-doc-link,\n",
       "a:visited.sk-estimator-doc-link {\n",
       "  float: right;\n",
       "  font-size: smaller;\n",
       "  line-height: 1em;\n",
       "  font-family: monospace;\n",
       "  background-color: var(--sklearn-color-background);\n",
       "  border-radius: 1em;\n",
       "  height: 1em;\n",
       "  width: 1em;\n",
       "  text-decoration: none !important;\n",
       "  margin-left: 0.5em;\n",
       "  text-align: center;\n",
       "  /* unfitted */\n",
       "  border: var(--sklearn-color-unfitted-level-1) 1pt solid;\n",
       "  color: var(--sklearn-color-unfitted-level-1);\n",
       "}\n",
       "\n",
       ".sk-estimator-doc-link.fitted,\n",
       "a:link.sk-estimator-doc-link.fitted,\n",
       "a:visited.sk-estimator-doc-link.fitted {\n",
       "  /* fitted */\n",
       "  border: var(--sklearn-color-fitted-level-1) 1pt solid;\n",
       "  color: var(--sklearn-color-fitted-level-1);\n",
       "}\n",
       "\n",
       "/* On hover */\n",
       "div.sk-estimator:hover .sk-estimator-doc-link:hover,\n",
       ".sk-estimator-doc-link:hover,\n",
       "div.sk-label-container:hover .sk-estimator-doc-link:hover,\n",
       ".sk-estimator-doc-link:hover {\n",
       "  /* unfitted */\n",
       "  background-color: var(--sklearn-color-unfitted-level-3);\n",
       "  color: var(--sklearn-color-background);\n",
       "  text-decoration: none;\n",
       "}\n",
       "\n",
       "div.sk-estimator.fitted:hover .sk-estimator-doc-link.fitted:hover,\n",
       ".sk-estimator-doc-link.fitted:hover,\n",
       "div.sk-label-container:hover .sk-estimator-doc-link.fitted:hover,\n",
       ".sk-estimator-doc-link.fitted:hover {\n",
       "  /* fitted */\n",
       "  background-color: var(--sklearn-color-fitted-level-3);\n",
       "  color: var(--sklearn-color-background);\n",
       "  text-decoration: none;\n",
       "}\n",
       "\n",
       "/* Span, style for the box shown on hovering the info icon */\n",
       ".sk-estimator-doc-link span {\n",
       "  display: none;\n",
       "  z-index: 9999;\n",
       "  position: relative;\n",
       "  font-weight: normal;\n",
       "  right: .2ex;\n",
       "  padding: .5ex;\n",
       "  margin: .5ex;\n",
       "  width: min-content;\n",
       "  min-width: 20ex;\n",
       "  max-width: 50ex;\n",
       "  color: var(--sklearn-color-text);\n",
       "  box-shadow: 2pt 2pt 4pt #999;\n",
       "  /* unfitted */\n",
       "  background: var(--sklearn-color-unfitted-level-0);\n",
       "  border: .5pt solid var(--sklearn-color-unfitted-level-3);\n",
       "}\n",
       "\n",
       ".sk-estimator-doc-link.fitted span {\n",
       "  /* fitted */\n",
       "  background: var(--sklearn-color-fitted-level-0);\n",
       "  border: var(--sklearn-color-fitted-level-3);\n",
       "}\n",
       "\n",
       ".sk-estimator-doc-link:hover span {\n",
       "  display: block;\n",
       "}\n",
       "\n",
       "/* \"?\"-specific style due to the `<a>` HTML tag */\n",
       "\n",
       "#sk-container-id-1 a.estimator_doc_link {\n",
       "  float: right;\n",
       "  font-size: 1rem;\n",
       "  line-height: 1em;\n",
       "  font-family: monospace;\n",
       "  background-color: var(--sklearn-color-background);\n",
       "  border-radius: 1rem;\n",
       "  height: 1rem;\n",
       "  width: 1rem;\n",
       "  text-decoration: none;\n",
       "  /* unfitted */\n",
       "  color: var(--sklearn-color-unfitted-level-1);\n",
       "  border: var(--sklearn-color-unfitted-level-1) 1pt solid;\n",
       "}\n",
       "\n",
       "#sk-container-id-1 a.estimator_doc_link.fitted {\n",
       "  /* fitted */\n",
       "  border: var(--sklearn-color-fitted-level-1) 1pt solid;\n",
       "  color: var(--sklearn-color-fitted-level-1);\n",
       "}\n",
       "\n",
       "/* On hover */\n",
       "#sk-container-id-1 a.estimator_doc_link:hover {\n",
       "  /* unfitted */\n",
       "  background-color: var(--sklearn-color-unfitted-level-3);\n",
       "  color: var(--sklearn-color-background);\n",
       "  text-decoration: none;\n",
       "}\n",
       "\n",
       "#sk-container-id-1 a.estimator_doc_link.fitted:hover {\n",
       "  /* fitted */\n",
       "  background-color: var(--sklearn-color-fitted-level-3);\n",
       "}\n",
       "\n",
       ".estimator-table summary {\n",
       "    padding: .5rem;\n",
       "    font-family: monospace;\n",
       "    cursor: pointer;\n",
       "}\n",
       "\n",
       ".estimator-table details[open] {\n",
       "    padding-left: 0.1rem;\n",
       "    padding-right: 0.1rem;\n",
       "    padding-bottom: 0.3rem;\n",
       "}\n",
       "\n",
       ".estimator-table .parameters-table {\n",
       "    margin-left: auto !important;\n",
       "    margin-right: auto !important;\n",
       "}\n",
       "\n",
       ".estimator-table .parameters-table tr:nth-child(odd) {\n",
       "    background-color: #fff;\n",
       "}\n",
       "\n",
       ".estimator-table .parameters-table tr:nth-child(even) {\n",
       "    background-color: #f6f6f6;\n",
       "}\n",
       "\n",
       ".estimator-table .parameters-table tr:hover {\n",
       "    background-color: #e0e0e0;\n",
       "}\n",
       "\n",
       ".estimator-table table td {\n",
       "    border: 1px solid rgba(106, 105, 104, 0.232);\n",
       "}\n",
       "\n",
       ".user-set td {\n",
       "    color:rgb(255, 94, 0);\n",
       "    text-align: left;\n",
       "}\n",
       "\n",
       ".user-set td.value pre {\n",
       "    color:rgb(255, 94, 0) !important;\n",
       "    background-color: transparent !important;\n",
       "}\n",
       "\n",
       ".default td {\n",
       "    color: black;\n",
       "    text-align: left;\n",
       "}\n",
       "\n",
       ".user-set td i,\n",
       ".default td i {\n",
       "    color: black;\n",
       "}\n",
       "\n",
       ".copy-paste-icon {\n",
       "    background-image: url(data:image/svg+xml;base64,PHN2ZyB4bWxucz0iaHR0cDovL3d3dy53My5vcmcvMjAwMC9zdmciIHZpZXdCb3g9IjAgMCA0NDggNTEyIj48IS0tIUZvbnQgQXdlc29tZSBGcmVlIDYuNy4yIGJ5IEBmb250YXdlc29tZSAtIGh0dHBzOi8vZm9udGF3ZXNvbWUuY29tIExpY2Vuc2UgLSBodHRwczovL2ZvbnRhd2Vzb21lLmNvbS9saWNlbnNlL2ZyZWUgQ29weXJpZ2h0IDIwMjUgRm9udGljb25zLCBJbmMuLS0+PHBhdGggZD0iTTIwOCAwTDMzMi4xIDBjMTIuNyAwIDI0LjkgNS4xIDMzLjkgMTQuMWw2Ny45IDY3LjljOSA5IDE0LjEgMjEuMiAxNC4xIDMzLjlMNDQ4IDMzNmMwIDI2LjUtMjEuNSA0OC00OCA0OGwtMTkyIDBjLTI2LjUgMC00OC0yMS41LTQ4LTQ4bDAtMjg4YzAtMjYuNSAyMS41LTQ4IDQ4LTQ4ek00OCAxMjhsODAgMCAwIDY0LTY0IDAgMCAyNTYgMTkyIDAgMC0zMiA2NCAwIDAgNDhjMCAyNi41LTIxLjUgNDgtNDggNDhMNDggNTEyYy0yNi41IDAtNDgtMjEuNS00OC00OEwwIDE3NmMwLTI2LjUgMjEuNS00OCA0OC00OHoiLz48L3N2Zz4=);\n",
       "    background-repeat: no-repeat;\n",
       "    background-size: 14px 14px;\n",
       "    background-position: 0;\n",
       "    display: inline-block;\n",
       "    width: 14px;\n",
       "    height: 14px;\n",
       "    cursor: pointer;\n",
       "}\n",
       "</style><body><div id=\"sk-container-id-1\" class=\"sk-top-container\"><div class=\"sk-text-repr-fallback\"><pre>ColumnTransformer(transformers=[(&#x27;cat&#x27;,\n",
       "                                 Pipeline(steps=[(&#x27;imputer&#x27;,\n",
       "                                                  SimpleImputer(fill_value=&#x27;unk&#x27;,\n",
       "                                                                strategy=&#x27;constant&#x27;)),\n",
       "                                                 (&#x27;encoder&#x27;,\n",
       "                                                  OneHotEncoder(handle_unknown=&#x27;ignore&#x27;))]),\n",
       "                                 [&#x27;DrivGender&#x27;, &#x27;MaritalStatus&#x27;, &#x27;PayFreq&#x27;,\n",
       "                                  &#x27;JobCode&#x27;, &#x27;VehClass&#x27;, &#x27;VehPower&#x27;, &#x27;VehGas&#x27;,\n",
       "                                  &#x27;VehUsage&#x27;, &#x27;Garage&#x27;, &#x27;Area&#x27;, &#x27;Region&#x27;,\n",
       "                                  &#x27;Channel&#x27;, &#x27;Marketing&#x27;]),\n",
       "                                (&#x27;num&#x27;, &#x27;passthrough&#x27;,\n",
       "                                 [&#x27;DrivAge&#x27;, &#x27;BonusMalus&#x27;, &#x27;LicenceNb&#x27;,\n",
       "                                  &#x27;VehAge&#x27;])])</pre><b>In a Jupyter environment, please rerun this cell to show the HTML representation or trust the notebook. <br />On GitHub, the HTML representation is unable to render, please try loading this page with nbviewer.org.</b></div><div class=\"sk-container\" hidden><div class=\"sk-item sk-dashed-wrapped\"><div class=\"sk-label-container\"><div class=\"sk-label  sk-toggleable\"><input class=\"sk-toggleable__control sk-hidden--visually\" id=\"sk-estimator-id-1\" type=\"checkbox\" ><label for=\"sk-estimator-id-1\" class=\"sk-toggleable__label  sk-toggleable__label-arrow\"><div><div>ColumnTransformer</div></div><div><a class=\"sk-estimator-doc-link \" rel=\"noreferrer\" target=\"_blank\" href=\"https://scikit-learn.org/1.7/modules/generated/sklearn.compose.ColumnTransformer.html\">?<span>Documentation for ColumnTransformer</span></a><span class=\"sk-estimator-doc-link \">i<span>Not fitted</span></span></div></label><div class=\"sk-toggleable__content \" data-param-prefix=\"\">\n",
       "        <div class=\"estimator-table\">\n",
       "            <details>\n",
       "                <summary>Parameters</summary>\n",
       "                <table class=\"parameters-table\">\n",
       "                  <tbody>\n",
       "                    \n",
       "        <tr class=\"user-set\">\n",
       "            <td><i class=\"copy-paste-icon\"\n",
       "                 onclick=\"copyToClipboard('transformers',\n",
       "                          this.parentElement.nextElementSibling)\"\n",
       "            ></i></td>\n",
       "            <td class=\"param\">transformers&nbsp;</td>\n",
       "            <td class=\"value\">[(&#x27;cat&#x27;, ...), (&#x27;num&#x27;, ...)]</td>\n",
       "        </tr>\n",
       "    \n",
       "\n",
       "        <tr class=\"default\">\n",
       "            <td><i class=\"copy-paste-icon\"\n",
       "                 onclick=\"copyToClipboard('remainder',\n",
       "                          this.parentElement.nextElementSibling)\"\n",
       "            ></i></td>\n",
       "            <td class=\"param\">remainder&nbsp;</td>\n",
       "            <td class=\"value\">&#x27;drop&#x27;</td>\n",
       "        </tr>\n",
       "    \n",
       "\n",
       "        <tr class=\"default\">\n",
       "            <td><i class=\"copy-paste-icon\"\n",
       "                 onclick=\"copyToClipboard('sparse_threshold',\n",
       "                          this.parentElement.nextElementSibling)\"\n",
       "            ></i></td>\n",
       "            <td class=\"param\">sparse_threshold&nbsp;</td>\n",
       "            <td class=\"value\">0.3</td>\n",
       "        </tr>\n",
       "    \n",
       "\n",
       "        <tr class=\"default\">\n",
       "            <td><i class=\"copy-paste-icon\"\n",
       "                 onclick=\"copyToClipboard('n_jobs',\n",
       "                          this.parentElement.nextElementSibling)\"\n",
       "            ></i></td>\n",
       "            <td class=\"param\">n_jobs&nbsp;</td>\n",
       "            <td class=\"value\">None</td>\n",
       "        </tr>\n",
       "    \n",
       "\n",
       "        <tr class=\"default\">\n",
       "            <td><i class=\"copy-paste-icon\"\n",
       "                 onclick=\"copyToClipboard('transformer_weights',\n",
       "                          this.parentElement.nextElementSibling)\"\n",
       "            ></i></td>\n",
       "            <td class=\"param\">transformer_weights&nbsp;</td>\n",
       "            <td class=\"value\">None</td>\n",
       "        </tr>\n",
       "    \n",
       "\n",
       "        <tr class=\"default\">\n",
       "            <td><i class=\"copy-paste-icon\"\n",
       "                 onclick=\"copyToClipboard('verbose',\n",
       "                          this.parentElement.nextElementSibling)\"\n",
       "            ></i></td>\n",
       "            <td class=\"param\">verbose&nbsp;</td>\n",
       "            <td class=\"value\">False</td>\n",
       "        </tr>\n",
       "    \n",
       "\n",
       "        <tr class=\"default\">\n",
       "            <td><i class=\"copy-paste-icon\"\n",
       "                 onclick=\"copyToClipboard('verbose_feature_names_out',\n",
       "                          this.parentElement.nextElementSibling)\"\n",
       "            ></i></td>\n",
       "            <td class=\"param\">verbose_feature_names_out&nbsp;</td>\n",
       "            <td class=\"value\">True</td>\n",
       "        </tr>\n",
       "    \n",
       "\n",
       "        <tr class=\"default\">\n",
       "            <td><i class=\"copy-paste-icon\"\n",
       "                 onclick=\"copyToClipboard('force_int_remainder_cols',\n",
       "                          this.parentElement.nextElementSibling)\"\n",
       "            ></i></td>\n",
       "            <td class=\"param\">force_int_remainder_cols&nbsp;</td>\n",
       "            <td class=\"value\">&#x27;deprecated&#x27;</td>\n",
       "        </tr>\n",
       "    \n",
       "                  </tbody>\n",
       "                </table>\n",
       "            </details>\n",
       "        </div>\n",
       "    </div></div></div><div class=\"sk-parallel\"><div class=\"sk-parallel-item\"><div class=\"sk-item\"><div class=\"sk-label-container\"><div class=\"sk-label  sk-toggleable\"><input class=\"sk-toggleable__control sk-hidden--visually\" id=\"sk-estimator-id-2\" type=\"checkbox\" ><label for=\"sk-estimator-id-2\" class=\"sk-toggleable__label  sk-toggleable__label-arrow\"><div><div>cat</div></div></label><div class=\"sk-toggleable__content \" data-param-prefix=\"cat__\"><pre>[&#x27;DrivGender&#x27;, &#x27;MaritalStatus&#x27;, &#x27;PayFreq&#x27;, &#x27;JobCode&#x27;, &#x27;VehClass&#x27;, &#x27;VehPower&#x27;, &#x27;VehGas&#x27;, &#x27;VehUsage&#x27;, &#x27;Garage&#x27;, &#x27;Area&#x27;, &#x27;Region&#x27;, &#x27;Channel&#x27;, &#x27;Marketing&#x27;]</pre></div></div></div><div class=\"sk-serial\"><div class=\"sk-item\"><div class=\"sk-serial\"><div class=\"sk-item\"><div class=\"sk-estimator  sk-toggleable\"><input class=\"sk-toggleable__control sk-hidden--visually\" id=\"sk-estimator-id-3\" type=\"checkbox\" ><label for=\"sk-estimator-id-3\" class=\"sk-toggleable__label  sk-toggleable__label-arrow\"><div><div>SimpleImputer</div></div><div><a class=\"sk-estimator-doc-link \" rel=\"noreferrer\" target=\"_blank\" href=\"https://scikit-learn.org/1.7/modules/generated/sklearn.impute.SimpleImputer.html\">?<span>Documentation for SimpleImputer</span></a></div></label><div class=\"sk-toggleable__content \" data-param-prefix=\"cat__imputer__\">\n",
       "        <div class=\"estimator-table\">\n",
       "            <details>\n",
       "                <summary>Parameters</summary>\n",
       "                <table class=\"parameters-table\">\n",
       "                  <tbody>\n",
       "                    \n",
       "        <tr class=\"default\">\n",
       "            <td><i class=\"copy-paste-icon\"\n",
       "                 onclick=\"copyToClipboard('missing_values',\n",
       "                          this.parentElement.nextElementSibling)\"\n",
       "            ></i></td>\n",
       "            <td class=\"param\">missing_values&nbsp;</td>\n",
       "            <td class=\"value\">nan</td>\n",
       "        </tr>\n",
       "    \n",
       "\n",
       "        <tr class=\"user-set\">\n",
       "            <td><i class=\"copy-paste-icon\"\n",
       "                 onclick=\"copyToClipboard('strategy',\n",
       "                          this.parentElement.nextElementSibling)\"\n",
       "            ></i></td>\n",
       "            <td class=\"param\">strategy&nbsp;</td>\n",
       "            <td class=\"value\">&#x27;constant&#x27;</td>\n",
       "        </tr>\n",
       "    \n",
       "\n",
       "        <tr class=\"user-set\">\n",
       "            <td><i class=\"copy-paste-icon\"\n",
       "                 onclick=\"copyToClipboard('fill_value',\n",
       "                          this.parentElement.nextElementSibling)\"\n",
       "            ></i></td>\n",
       "            <td class=\"param\">fill_value&nbsp;</td>\n",
       "            <td class=\"value\">&#x27;unk&#x27;</td>\n",
       "        </tr>\n",
       "    \n",
       "\n",
       "        <tr class=\"default\">\n",
       "            <td><i class=\"copy-paste-icon\"\n",
       "                 onclick=\"copyToClipboard('copy',\n",
       "                          this.parentElement.nextElementSibling)\"\n",
       "            ></i></td>\n",
       "            <td class=\"param\">copy&nbsp;</td>\n",
       "            <td class=\"value\">True</td>\n",
       "        </tr>\n",
       "    \n",
       "\n",
       "        <tr class=\"default\">\n",
       "            <td><i class=\"copy-paste-icon\"\n",
       "                 onclick=\"copyToClipboard('add_indicator',\n",
       "                          this.parentElement.nextElementSibling)\"\n",
       "            ></i></td>\n",
       "            <td class=\"param\">add_indicator&nbsp;</td>\n",
       "            <td class=\"value\">False</td>\n",
       "        </tr>\n",
       "    \n",
       "\n",
       "        <tr class=\"default\">\n",
       "            <td><i class=\"copy-paste-icon\"\n",
       "                 onclick=\"copyToClipboard('keep_empty_features',\n",
       "                          this.parentElement.nextElementSibling)\"\n",
       "            ></i></td>\n",
       "            <td class=\"param\">keep_empty_features&nbsp;</td>\n",
       "            <td class=\"value\">False</td>\n",
       "        </tr>\n",
       "    \n",
       "                  </tbody>\n",
       "                </table>\n",
       "            </details>\n",
       "        </div>\n",
       "    </div></div></div><div class=\"sk-item\"><div class=\"sk-estimator  sk-toggleable\"><input class=\"sk-toggleable__control sk-hidden--visually\" id=\"sk-estimator-id-4\" type=\"checkbox\" ><label for=\"sk-estimator-id-4\" class=\"sk-toggleable__label  sk-toggleable__label-arrow\"><div><div>OneHotEncoder</div></div><div><a class=\"sk-estimator-doc-link \" rel=\"noreferrer\" target=\"_blank\" href=\"https://scikit-learn.org/1.7/modules/generated/sklearn.preprocessing.OneHotEncoder.html\">?<span>Documentation for OneHotEncoder</span></a></div></label><div class=\"sk-toggleable__content \" data-param-prefix=\"cat__encoder__\">\n",
       "        <div class=\"estimator-table\">\n",
       "            <details>\n",
       "                <summary>Parameters</summary>\n",
       "                <table class=\"parameters-table\">\n",
       "                  <tbody>\n",
       "                    \n",
       "        <tr class=\"default\">\n",
       "            <td><i class=\"copy-paste-icon\"\n",
       "                 onclick=\"copyToClipboard('categories',\n",
       "                          this.parentElement.nextElementSibling)\"\n",
       "            ></i></td>\n",
       "            <td class=\"param\">categories&nbsp;</td>\n",
       "            <td class=\"value\">&#x27;auto&#x27;</td>\n",
       "        </tr>\n",
       "    \n",
       "\n",
       "        <tr class=\"default\">\n",
       "            <td><i class=\"copy-paste-icon\"\n",
       "                 onclick=\"copyToClipboard('drop',\n",
       "                          this.parentElement.nextElementSibling)\"\n",
       "            ></i></td>\n",
       "            <td class=\"param\">drop&nbsp;</td>\n",
       "            <td class=\"value\">None</td>\n",
       "        </tr>\n",
       "    \n",
       "\n",
       "        <tr class=\"default\">\n",
       "            <td><i class=\"copy-paste-icon\"\n",
       "                 onclick=\"copyToClipboard('sparse_output',\n",
       "                          this.parentElement.nextElementSibling)\"\n",
       "            ></i></td>\n",
       "            <td class=\"param\">sparse_output&nbsp;</td>\n",
       "            <td class=\"value\">True</td>\n",
       "        </tr>\n",
       "    \n",
       "\n",
       "        <tr class=\"default\">\n",
       "            <td><i class=\"copy-paste-icon\"\n",
       "                 onclick=\"copyToClipboard('dtype',\n",
       "                          this.parentElement.nextElementSibling)\"\n",
       "            ></i></td>\n",
       "            <td class=\"param\">dtype&nbsp;</td>\n",
       "            <td class=\"value\">&lt;class &#x27;numpy.float64&#x27;&gt;</td>\n",
       "        </tr>\n",
       "    \n",
       "\n",
       "        <tr class=\"user-set\">\n",
       "            <td><i class=\"copy-paste-icon\"\n",
       "                 onclick=\"copyToClipboard('handle_unknown',\n",
       "                          this.parentElement.nextElementSibling)\"\n",
       "            ></i></td>\n",
       "            <td class=\"param\">handle_unknown&nbsp;</td>\n",
       "            <td class=\"value\">&#x27;ignore&#x27;</td>\n",
       "        </tr>\n",
       "    \n",
       "\n",
       "        <tr class=\"default\">\n",
       "            <td><i class=\"copy-paste-icon\"\n",
       "                 onclick=\"copyToClipboard('min_frequency',\n",
       "                          this.parentElement.nextElementSibling)\"\n",
       "            ></i></td>\n",
       "            <td class=\"param\">min_frequency&nbsp;</td>\n",
       "            <td class=\"value\">None</td>\n",
       "        </tr>\n",
       "    \n",
       "\n",
       "        <tr class=\"default\">\n",
       "            <td><i class=\"copy-paste-icon\"\n",
       "                 onclick=\"copyToClipboard('max_categories',\n",
       "                          this.parentElement.nextElementSibling)\"\n",
       "            ></i></td>\n",
       "            <td class=\"param\">max_categories&nbsp;</td>\n",
       "            <td class=\"value\">None</td>\n",
       "        </tr>\n",
       "    \n",
       "\n",
       "        <tr class=\"default\">\n",
       "            <td><i class=\"copy-paste-icon\"\n",
       "                 onclick=\"copyToClipboard('feature_name_combiner',\n",
       "                          this.parentElement.nextElementSibling)\"\n",
       "            ></i></td>\n",
       "            <td class=\"param\">feature_name_combiner&nbsp;</td>\n",
       "            <td class=\"value\">&#x27;concat&#x27;</td>\n",
       "        </tr>\n",
       "    \n",
       "                  </tbody>\n",
       "                </table>\n",
       "            </details>\n",
       "        </div>\n",
       "    </div></div></div></div></div></div></div></div><div class=\"sk-parallel-item\"><div class=\"sk-item\"><div class=\"sk-label-container\"><div class=\"sk-label  sk-toggleable\"><input class=\"sk-toggleable__control sk-hidden--visually\" id=\"sk-estimator-id-5\" type=\"checkbox\" ><label for=\"sk-estimator-id-5\" class=\"sk-toggleable__label  sk-toggleable__label-arrow\"><div><div>num</div></div></label><div class=\"sk-toggleable__content \" data-param-prefix=\"num__\"><pre>[&#x27;DrivAge&#x27;, &#x27;BonusMalus&#x27;, &#x27;LicenceNb&#x27;, &#x27;VehAge&#x27;]</pre></div></div></div><div class=\"sk-serial\"><div class=\"sk-item\"><div class=\"sk-estimator  sk-toggleable\"><input class=\"sk-toggleable__control sk-hidden--visually\" id=\"sk-estimator-id-6\" type=\"checkbox\" ><label for=\"sk-estimator-id-6\" class=\"sk-toggleable__label  sk-toggleable__label-arrow\"><div><div>passthrough</div></div></label><div class=\"sk-toggleable__content \" data-param-prefix=\"num__\"><pre>passthrough</pre></div></div></div></div></div></div></div></div></div></div><script>function copyToClipboard(text, element) {\n",
       "    // Get the parameter prefix from the closest toggleable content\n",
       "    const toggleableContent = element.closest('.sk-toggleable__content');\n",
       "    const paramPrefix = toggleableContent ? toggleableContent.dataset.paramPrefix : '';\n",
       "    const fullParamName = paramPrefix ? `${paramPrefix}${text}` : text;\n",
       "\n",
       "    const originalStyle = element.style;\n",
       "    const computedStyle = window.getComputedStyle(element);\n",
       "    const originalWidth = computedStyle.width;\n",
       "    const originalHTML = element.innerHTML.replace('Copied!', '');\n",
       "\n",
       "    navigator.clipboard.writeText(fullParamName)\n",
       "        .then(() => {\n",
       "            element.style.width = originalWidth;\n",
       "            element.style.color = 'green';\n",
       "            element.innerHTML = \"Copied!\";\n",
       "\n",
       "            setTimeout(() => {\n",
       "                element.innerHTML = originalHTML;\n",
       "                element.style = originalStyle;\n",
       "            }, 2000);\n",
       "        })\n",
       "        .catch(err => {\n",
       "            console.error('Failed to copy:', err);\n",
       "            element.style.color = 'red';\n",
       "            element.innerHTML = \"Failed!\";\n",
       "            setTimeout(() => {\n",
       "                element.innerHTML = originalHTML;\n",
       "                element.style = originalStyle;\n",
       "            }, 2000);\n",
       "        });\n",
       "    return false;\n",
       "}\n",
       "\n",
       "document.querySelectorAll('.fa-regular.fa-copy').forEach(function(element) {\n",
       "    const toggleableContent = element.closest('.sk-toggleable__content');\n",
       "    const paramPrefix = toggleableContent ? toggleableContent.dataset.paramPrefix : '';\n",
       "    const paramName = element.parentElement.nextElementSibling.textContent.trim();\n",
       "    const fullParamName = paramPrefix ? `${paramPrefix}${paramName}` : paramName;\n",
       "\n",
       "    element.setAttribute('title', fullParamName);\n",
       "});\n",
       "</script></body>"
      ],
      "text/plain": [
       "ColumnTransformer(transformers=[('cat',\n",
       "                                 Pipeline(steps=[('imputer',\n",
       "                                                  SimpleImputer(fill_value='unk',\n",
       "                                                                strategy='constant')),\n",
       "                                                 ('encoder',\n",
       "                                                  OneHotEncoder(handle_unknown='ignore'))]),\n",
       "                                 ['DrivGender', 'MaritalStatus', 'PayFreq',\n",
       "                                  'JobCode', 'VehClass', 'VehPower', 'VehGas',\n",
       "                                  'VehUsage', 'Garage', 'Area', 'Region',\n",
       "                                  'Channel', 'Marketing']),\n",
       "                                ('num', 'passthrough',\n",
       "                                 ['DrivAge', 'BonusMalus', 'LicenceNb',\n",
       "                                  'VehAge'])])"
      ]
     },
     "execution_count": 6,
     "metadata": {},
     "output_type": "execute_result"
    }
   ],
   "source": [
    "categorical_features = [\n",
    "    'DrivGender', 'MaritalStatus', 'PayFreq', 'JobCode', 'VehClass',\n",
    "    'VehPower', 'VehGas', 'VehUsage', 'Garage', 'Area', 'Region',\n",
    "    'Channel', 'Marketing'\n",
    "]\n",
    "numeric_features = ['DrivAge', 'BonusMalus', 'LicenceNb', 'VehAge']\n",
    "\n",
    "categorical_transformer = Pipeline(steps=[\n",
    "    ('imputer', SimpleImputer(strategy='constant', fill_value='unk')),\n",
    "    ('encoder', OneHotEncoder(handle_unknown='ignore'))\n",
    "])\n",
    "\n",
    "numeric_transformer = 'passthrough'\n",
    "\n",
    "preprocessor = ColumnTransformer(\n",
    "    transformers=[\n",
    "        ('cat', categorical_transformer, categorical_features),\n",
    "        ('num', numeric_transformer, numeric_features)\n",
    "    ]\n",
    ")\n",
    "preprocessor"
   ]
  },
  {
   "cell_type": "code",
   "execution_count": 20,
   "id": "de9a2f9f",
   "metadata": {},
   "outputs": [],
   "source": [
    "def training_objective(trial: optuna.trial.Trial) -> float:\n",
    "    # Suggest hyperparameters\n",
    "    # max_depth = trial.suggest_int(\"max_depth\", 1, 6)\n",
    "    n_estimators = trial.suggest_int(\"n_estimators\", 50, 300)\n",
    "    min_samples_split = trial.suggest_float(\"min_samples_split\", 0.001, 0.05)\n",
    "    max_features = trial.suggest_categorical(\"max_features\", [\"log2\", \"sqrt\"])\n",
    "\n",
    "    # Define model\n",
    "    model = RandomForestRegressor(\n",
    "        # max_depth=max_depth,\n",
    "        n_estimators=n_estimators,\n",
    "        min_samples_split=min_samples_split,\n",
    "        max_features=max_features,\n",
    "        random_state=42,\n",
    "        n_jobs=-1,\n",
    "    )\n",
    "\n",
    "    # Build full pipeline\n",
    "    pipeline = Pipeline(steps=[\n",
    "        ('preprocessor', preprocessor),\n",
    "        ('model', model)\n",
    "    ])\n",
    "\n",
    "    # Fit and evaluate\n",
    "    pipeline.fit(X_train, y_train)\n",
    "    val_predictions = pipeline.predict(X_val)\n",
    "    return root_mean_squared_error(y_true=y_val, y_pred=val_predictions)"
   ]
  },
  {
   "cell_type": "code",
   "execution_count": 21,
   "id": "70a0736a",
   "metadata": {},
   "outputs": [
    {
     "name": "stderr",
     "output_type": "stream",
     "text": [
      "[I 2025-10-17 17:25:34,237] A new study created in memory with name: basic_rf_opt\n",
      "[I 2025-10-17 17:25:34,478] Trial 0 finished with value: 157.81148667635904 and parameters: {'n_estimators': 144, 'min_samples_split': 0.047585001014085894, 'max_features': 'log2'}. Best is trial 0 with value: 157.81148667635904.\n",
      "[I 2025-10-17 17:25:34,694] Trial 1 finished with value: 137.12248283927266 and parameters: {'n_estimators': 89, 'min_samples_split': 0.00864373149647393, 'max_features': 'sqrt'}. Best is trial 1 with value: 137.12248283927266.\n",
      "[I 2025-10-17 17:25:34,984] Trial 2 finished with value: 150.3841166251167 and parameters: {'n_estimators': 200, 'min_samples_split': 0.03569555631200623, 'max_features': 'sqrt'}. Best is trial 1 with value: 137.12248283927266.\n",
      "[I 2025-10-17 17:25:35,420] Trial 3 finished with value: 138.53487115284938 and parameters: {'n_estimators': 258, 'min_samples_split': 0.011404616423235533, 'max_features': 'sqrt'}. Best is trial 1 with value: 137.12248283927266.\n",
      "[I 2025-10-17 17:25:35,612] Trial 4 finished with value: 152.1385455868423 and parameters: {'n_estimators': 126, 'min_samples_split': 0.026713065149979655, 'max_features': 'log2'}. Best is trial 1 with value: 137.12248283927266.\n",
      "[I 2025-10-17 17:25:36,021] Trial 5 finished with value: 135.86391815703828 and parameters: {'n_estimators': 203, 'min_samples_split': 0.00783519917195005, 'max_features': 'sqrt'}. Best is trial 5 with value: 135.86391815703828.\n",
      "[I 2025-10-17 17:25:36,286] Trial 6 finished with value: 152.2203943048038 and parameters: {'n_estimators': 164, 'min_samples_split': 0.03947362210825767, 'max_features': 'sqrt'}. Best is trial 5 with value: 135.86391815703828.\n",
      "[I 2025-10-17 17:25:36,780] Trial 7 finished with value: 135.0055606294151 and parameters: {'n_estimators': 198, 'min_samples_split': 0.003276070223279889, 'max_features': 'log2'}. Best is trial 7 with value: 135.0055606294151.\n",
      "[I 2025-10-17 17:25:36,908] Trial 8 finished with value: 158.9003417265714 and parameters: {'n_estimators': 66, 'min_samples_split': 0.04749539132541333, 'max_features': 'log2'}. Best is trial 7 with value: 135.0055606294151.\n",
      "[I 2025-10-17 17:25:37,179] Trial 9 finished with value: 138.46684905459554 and parameters: {'n_estimators': 126, 'min_samples_split': 0.00578593358631281, 'max_features': 'log2'}. Best is trial 7 with value: 135.0055606294151.\n",
      "[I 2025-10-17 17:25:37,587] Trial 10 finished with value: 147.78061849019198 and parameters: {'n_estimators': 289, 'min_samples_split': 0.01882265600745992, 'max_features': 'log2'}. Best is trial 7 with value: 135.0055606294151.\n",
      "[I 2025-10-17 17:25:38,332] Trial 11 finished with value: 126.25251798371075 and parameters: {'n_estimators': 212, 'min_samples_split': 0.0017392882161094449, 'max_features': 'sqrt'}. Best is trial 11 with value: 126.25251798371075.\n",
      "[I 2025-10-17 17:25:39,200] Trial 12 finished with value: 125.89348652306647 and parameters: {'n_estimators': 235, 'min_samples_split': 0.0015331057414783625, 'max_features': 'sqrt'}. Best is trial 12 with value: 125.89348652306647.\n",
      "[I 2025-10-17 17:25:39,571] Trial 13 finished with value: 142.35500218246733 and parameters: {'n_estimators': 235, 'min_samples_split': 0.01781939338455666, 'max_features': 'sqrt'}. Best is trial 12 with value: 125.89348652306647.\n",
      "[I 2025-10-17 17:25:40,350] Trial 14 finished with value: 127.45866594210699 and parameters: {'n_estimators': 250, 'min_samples_split': 0.0023815634040706304, 'max_features': 'sqrt'}. Best is trial 12 with value: 125.89348652306647.\n",
      "[I 2025-10-17 17:25:40,808] Trial 15 finished with value: 140.86560500284617 and parameters: {'n_estimators': 284, 'min_samples_split': 0.014968022956496907, 'max_features': 'sqrt'}. Best is trial 12 with value: 125.89348652306647.\n",
      "[I 2025-10-17 17:25:41,143] Trial 16 finished with value: 146.56558650815933 and parameters: {'n_estimators': 218, 'min_samples_split': 0.0263837378716276, 'max_features': 'sqrt'}. Best is trial 12 with value: 125.89348652306647.\n",
      "[I 2025-10-17 17:25:41,772] Trial 17 finished with value: 127.20366625011512 and parameters: {'n_estimators': 182, 'min_samples_split': 0.0019190553445413063, 'max_features': 'sqrt'}. Best is trial 12 with value: 125.89348652306647.\n",
      "[I 2025-10-17 17:25:42,171] Trial 18 finished with value: 144.58601377621062 and parameters: {'n_estimators': 266, 'min_samples_split': 0.021846511772530976, 'max_features': 'sqrt'}. Best is trial 12 with value: 125.89348652306647.\n",
      "[I 2025-10-17 17:25:42,571] Trial 19 finished with value: 139.9546682515958 and parameters: {'n_estimators': 228, 'min_samples_split': 0.01294987308231485, 'max_features': 'sqrt'}. Best is trial 12 with value: 125.89348652306647.\n",
      "[I 2025-10-17 17:25:42,987] Trial 20 finished with value: 150.02382538726306 and parameters: {'n_estimators': 300, 'min_samples_split': 0.03659098539082342, 'max_features': 'sqrt'}. Best is trial 12 with value: 125.89348652306647.\n",
      "[I 2025-10-17 17:25:43,594] Trial 21 finished with value: 127.47516200830836 and parameters: {'n_estimators': 176, 'min_samples_split': 0.0020374912759023246, 'max_features': 'sqrt'}. Best is trial 12 with value: 125.89348652306647.\n",
      "[I 2025-10-17 17:25:43,976] Trial 22 finished with value: 134.36947242781267 and parameters: {'n_estimators': 167, 'min_samples_split': 0.007056538646082279, 'max_features': 'sqrt'}. Best is trial 12 with value: 125.89348652306647.\n",
      "[I 2025-10-17 17:25:44,384] Trial 23 finished with value: 137.73762303106466 and parameters: {'n_estimators': 185, 'min_samples_split': 0.010425634050831387, 'max_features': 'sqrt'}. Best is trial 12 with value: 125.89348652306647.\n",
      "[I 2025-10-17 17:25:44,910] Trial 24 finished with value: 132.3119658908825 and parameters: {'n_estimators': 224, 'min_samples_split': 0.005195608380756285, 'max_features': 'sqrt'}. Best is trial 12 with value: 125.89348652306647.\n",
      "[I 2025-10-17 17:25:45,531] Trial 25 finished with value: 125.48947491990567 and parameters: {'n_estimators': 150, 'min_samples_split': 0.0014445718974857656, 'max_features': 'sqrt'}. Best is trial 25 with value: 125.48947491990567.\n",
      "[I 2025-10-17 17:25:46,175] Trial 26 finished with value: 125.46306794502692 and parameters: {'n_estimators': 147, 'min_samples_split': 0.001326368465118944, 'max_features': 'sqrt'}. Best is trial 26 with value: 125.46306794502692.\n",
      "[I 2025-10-17 17:25:46,383] Trial 27 finished with value: 142.1405475316354 and parameters: {'n_estimators': 102, 'min_samples_split': 0.015015019516811856, 'max_features': 'sqrt'}. Best is trial 26 with value: 125.46306794502692.\n",
      "[I 2025-10-17 17:25:46,731] Trial 28 finished with value: 133.5848625522615 and parameters: {'n_estimators': 143, 'min_samples_split': 0.005945447769859647, 'max_features': 'sqrt'}. Best is trial 26 with value: 125.46306794502692.\n",
      "[I 2025-10-17 17:25:46,953] Trial 29 finished with value: 152.97182588290488 and parameters: {'n_estimators': 149, 'min_samples_split': 0.03183710463546096, 'max_features': 'log2'}. Best is trial 26 with value: 125.46306794502692.\n",
      "[I 2025-10-17 17:25:47,220] Trial 30 finished with value: 138.16615238812864 and parameters: {'n_estimators': 113, 'min_samples_split': 0.010955571473382714, 'max_features': 'sqrt'}. Best is trial 26 with value: 125.46306794502692.\n",
      "[I 2025-10-17 17:25:47,896] Trial 31 finished with value: 124.93226710877444 and parameters: {'n_estimators': 152, 'min_samples_split': 0.001088962045535446, 'max_features': 'sqrt'}. Best is trial 31 with value: 124.93226710877444.\n",
      "[I 2025-10-17 17:25:48,546] Trial 32 finished with value: 124.70245791986953 and parameters: {'n_estimators': 151, 'min_samples_split': 0.0011915010505687137, 'max_features': 'sqrt'}. Best is trial 32 with value: 124.70245791986953.\n",
      "[I 2025-10-17 17:25:48,865] Trial 33 finished with value: 136.76765039066368 and parameters: {'n_estimators': 150, 'min_samples_split': 0.00899377664216133, 'max_features': 'sqrt'}. Best is trial 32 with value: 124.70245791986953.\n",
      "[I 2025-10-17 17:25:49,214] Trial 34 finished with value: 131.65950689782508 and parameters: {'n_estimators': 136, 'min_samples_split': 0.004808061094468541, 'max_features': 'sqrt'}. Best is trial 32 with value: 124.70245791986953.\n",
      "[I 2025-10-17 17:25:49,404] Trial 35 finished with value: 136.2819319892996 and parameters: {'n_estimators': 81, 'min_samples_split': 0.00807921987452741, 'max_features': 'sqrt'}. Best is trial 32 with value: 124.70245791986953.\n",
      "[I 2025-10-17 17:25:49,808] Trial 36 finished with value: 132.10953430942024 and parameters: {'n_estimators': 160, 'min_samples_split': 0.004740048587701737, 'max_features': 'sqrt'}. Best is trial 32 with value: 124.70245791986953.\n",
      "[I 2025-10-17 17:25:50,025] Trial 37 finished with value: 140.42027424956805 and parameters: {'n_estimators': 110, 'min_samples_split': 0.013083111646041961, 'max_features': 'sqrt'}. Best is trial 32 with value: 124.70245791986953.\n",
      "[I 2025-10-17 17:25:50,266] Trial 38 finished with value: 142.32249535688135 and parameters: {'n_estimators': 129, 'min_samples_split': 0.0090082191956469, 'max_features': 'log2'}. Best is trial 32 with value: 124.70245791986953.\n",
      "[I 2025-10-17 17:25:50,430] Trial 39 finished with value: 154.51256993178185 and parameters: {'n_estimators': 95, 'min_samples_split': 0.04687727926884616, 'max_features': 'sqrt'}. Best is trial 32 with value: 124.70245791986953.\n",
      "[I 2025-10-17 17:25:50,692] Trial 40 finished with value: 144.8561636910792 and parameters: {'n_estimators': 158, 'min_samples_split': 0.023298814837866236, 'max_features': 'sqrt'}. Best is trial 32 with value: 124.70245791986953.\n",
      "[I 2025-10-17 17:25:51,376] Trial 41 finished with value: 126.26202386782651 and parameters: {'n_estimators': 191, 'min_samples_split': 0.001723801502392531, 'max_features': 'sqrt'}. Best is trial 32 with value: 124.70245791986953.\n",
      "[I 2025-10-17 17:25:51,906] Trial 42 finished with value: 125.36880902818095 and parameters: {'n_estimators': 117, 'min_samples_split': 0.0010960801029166584, 'max_features': 'sqrt'}. Best is trial 32 with value: 124.70245791986953.\n",
      "[I 2025-10-17 17:25:52,091] Trial 43 finished with value: 131.58917728965403 and parameters: {'n_estimators': 50, 'min_samples_split': 0.0038193798509961563, 'max_features': 'sqrt'}. Best is trial 32 with value: 124.70245791986953.\n",
      "[I 2025-10-17 17:25:52,569] Trial 44 finished with value: 129.2566085823035 and parameters: {'n_estimators': 120, 'min_samples_split': 0.0010083613094797649, 'max_features': 'log2'}. Best is trial 32 with value: 124.70245791986953.\n",
      "[I 2025-10-17 17:25:52,882] Trial 45 finished with value: 134.052538133279 and parameters: {'n_estimators': 141, 'min_samples_split': 0.006984409581058687, 'max_features': 'sqrt'}. Best is trial 32 with value: 124.70245791986953.\n",
      "[I 2025-10-17 17:25:53,325] Trial 46 finished with value: 131.32554826818787 and parameters: {'n_estimators': 172, 'min_samples_split': 0.004133262643297666, 'max_features': 'sqrt'}. Best is trial 32 with value: 124.70245791986953.\n",
      "[I 2025-10-17 17:25:53,649] Trial 47 finished with value: 136.04381800177353 and parameters: {'n_estimators': 132, 'min_samples_split': 0.0038095375035037283, 'max_features': 'log2'}. Best is trial 32 with value: 124.70245791986953.\n",
      "[I 2025-10-17 17:25:53,894] Trial 48 finished with value: 149.30435394762026 and parameters: {'n_estimators': 156, 'min_samples_split': 0.031443229780492445, 'max_features': 'sqrt'}. Best is trial 32 with value: 124.70245791986953.\n",
      "[I 2025-10-17 17:25:54,047] Trial 49 finished with value: 153.50847523077607 and parameters: {'n_estimators': 80, 'min_samples_split': 0.04458826455383917, 'max_features': 'sqrt'}. Best is trial 32 with value: 124.70245791986953.\n",
      "[I 2025-10-17 17:25:54,302] Trial 50 finished with value: 136.91397223266512 and parameters: {'n_estimators': 119, 'min_samples_split': 0.009313022337057268, 'max_features': 'sqrt'}. Best is trial 32 with value: 124.70245791986953.\n",
      "[I 2025-10-17 17:25:55,110] Trial 51 finished with value: 124.89248723191035 and parameters: {'n_estimators': 193, 'min_samples_split': 0.001135923616199382, 'max_features': 'sqrt'}. Best is trial 32 with value: 124.70245791986953.\n",
      "[I 2025-10-17 17:25:56,027] Trial 52 finished with value: 124.68194678206295 and parameters: {'n_estimators': 208, 'min_samples_split': 0.00103139822375655, 'max_features': 'sqrt'}. Best is trial 52 with value: 124.68194678206295.\n",
      "[I 2025-10-17 17:25:56,442] Trial 53 finished with value: 133.86033706626995 and parameters: {'n_estimators': 193, 'min_samples_split': 0.006647726967969101, 'max_features': 'sqrt'}. Best is trial 52 with value: 124.68194678206295.\n",
      "[I 2025-10-17 17:25:57,005] Trial 54 finished with value: 129.35558919696618 and parameters: {'n_estimators': 199, 'min_samples_split': 0.0030579738197876213, 'max_features': 'sqrt'}. Best is trial 52 with value: 124.68194678206295.\n",
      "[I 2025-10-17 17:25:57,779] Trial 55 finished with value: 124.74263441166089 and parameters: {'n_estimators': 178, 'min_samples_split': 0.0010455877004191033, 'max_features': 'sqrt'}. Best is trial 52 with value: 124.68194678206295.\n",
      "[I 2025-10-17 17:25:58,359] Trial 56 finished with value: 130.13518656654074 and parameters: {'n_estimators': 214, 'min_samples_split': 0.0034170236777503146, 'max_features': 'sqrt'}. Best is trial 52 with value: 124.68194678206295.\n",
      "[I 2025-10-17 17:25:58,738] Trial 57 finished with value: 134.09060351410218 and parameters: {'n_estimators': 176, 'min_samples_split': 0.006528536963109678, 'max_features': 'sqrt'}. Best is trial 52 with value: 124.68194678206295.\n",
      "[I 2025-10-17 17:25:59,076] Trial 58 finished with value: 144.68006934267754 and parameters: {'n_estimators': 206, 'min_samples_split': 0.01287646304071924, 'max_features': 'log2'}. Best is trial 52 with value: 124.68194678206295.\n",
      "[I 2025-10-17 17:25:59,645] Trial 59 finished with value: 132.15861018046485 and parameters: {'n_estimators': 247, 'min_samples_split': 0.005018163934356392, 'max_features': 'sqrt'}. Best is trial 52 with value: 124.68194678206295.\n",
      "[I 2025-10-17 17:26:00,155] Trial 60 finished with value: 129.66002045881743 and parameters: {'n_estimators': 183, 'min_samples_split': 0.003245308727419003, 'max_features': 'sqrt'}. Best is trial 52 with value: 124.68194678206295.\n",
      "[I 2025-10-17 17:26:00,854] Trial 61 finished with value: 124.68327767497351 and parameters: {'n_estimators': 168, 'min_samples_split': 0.001159484765488005, 'max_features': 'sqrt'}. Best is trial 52 with value: 124.68194678206295.\n",
      "[I 2025-10-17 17:26:01,595] Trial 62 finished with value: 124.48777032097253 and parameters: {'n_estimators': 168, 'min_samples_split': 0.0010088048426395771, 'max_features': 'sqrt'}. Best is trial 62 with value: 124.48777032097253.\n",
      "[I 2025-10-17 17:26:02,118] Trial 63 finished with value: 128.42618427231145 and parameters: {'n_estimators': 166, 'min_samples_split': 0.0026699661387710833, 'max_features': 'sqrt'}. Best is trial 62 with value: 124.48777032097253.\n",
      "[I 2025-10-17 17:26:02,571] Trial 64 finished with value: 133.6300310903315 and parameters: {'n_estimators': 205, 'min_samples_split': 0.005856828026686848, 'max_features': 'sqrt'}. Best is trial 62 with value: 124.48777032097253.\n",
      "[I 2025-10-17 17:26:02,960] Trial 65 finished with value: 135.34393332271003 and parameters: {'n_estimators': 190, 'min_samples_split': 0.007433739813602898, 'max_features': 'sqrt'}. Best is trial 62 with value: 124.48777032097253.\n",
      "[I 2025-10-17 17:26:03,475] Trial 66 finished with value: 129.5107565452126 and parameters: {'n_estimators': 175, 'min_samples_split': 0.0030417294062398447, 'max_features': 'sqrt'}. Best is trial 62 with value: 124.48777032097253.\n",
      "[I 2025-10-17 17:26:03,886] Trial 67 finished with value: 131.78239944097746 and parameters: {'n_estimators': 167, 'min_samples_split': 0.004795607321370394, 'max_features': 'sqrt'}. Best is trial 62 with value: 124.48777032097253.\n",
      "[I 2025-10-17 17:26:04,240] Trial 68 finished with value: 143.30578032184678 and parameters: {'n_estimators': 223, 'min_samples_split': 0.019036061666125374, 'max_features': 'sqrt'}. Best is trial 62 with value: 124.48777032097253.\n",
      "[I 2025-10-17 17:26:04,800] Trial 69 finished with value: 127.98942742070068 and parameters: {'n_estimators': 179, 'min_samples_split': 0.0025332503762814772, 'max_features': 'sqrt'}. Best is trial 62 with value: 124.48777032097253.\n",
      "[I 2025-10-17 17:26:05,231] Trial 70 finished with value: 137.13794984454253 and parameters: {'n_estimators': 233, 'min_samples_split': 0.009698804886351036, 'max_features': 'sqrt'}. Best is trial 62 with value: 124.48777032097253.\n",
      "[I 2025-10-17 17:26:05,935] Trial 71 finished with value: 124.47382517037292 and parameters: {'n_estimators': 158, 'min_samples_split': 0.0010271642883765233, 'max_features': 'sqrt'}. Best is trial 71 with value: 124.47382517037292.\n",
      "[I 2025-10-17 17:26:06,598] Trial 72 finished with value: 124.97551970575181 and parameters: {'n_estimators': 160, 'min_samples_split': 0.0012440420529824829, 'max_features': 'sqrt'}. Best is trial 71 with value: 124.47382517037292.\n",
      "[I 2025-10-17 17:26:07,021] Trial 73 finished with value: 133.43159979524503 and parameters: {'n_estimators': 185, 'min_samples_split': 0.005527889217223924, 'max_features': 'sqrt'}. Best is trial 71 with value: 124.47382517037292.\n",
      "[I 2025-10-17 17:26:07,514] Trial 74 finished with value: 128.41499090227586 and parameters: {'n_estimators': 154, 'min_samples_split': 0.0025788107858162996, 'max_features': 'sqrt'}. Best is trial 71 with value: 124.47382517037292.\n",
      "[I 2025-10-17 17:26:08,147] Trial 75 finished with value: 124.5880575981534 and parameters: {'n_estimators': 140, 'min_samples_split': 0.0010056044592901448, 'max_features': 'sqrt'}. Best is trial 71 with value: 124.47382517037292.\n",
      "[I 2025-10-17 17:26:08,515] Trial 76 finished with value: 131.479731285743 and parameters: {'n_estimators': 137, 'min_samples_split': 0.004387505724410649, 'max_features': 'sqrt'}. Best is trial 71 with value: 124.47382517037292.\n",
      "[I 2025-10-17 17:26:08,832] Trial 77 finished with value: 140.6446119129084 and parameters: {'n_estimators': 171, 'min_samples_split': 0.008165658927877203, 'max_features': 'log2'}. Best is trial 71 with value: 124.47382517037292.\n",
      "[I 2025-10-17 17:26:09,485] Trial 78 finished with value: 127.90243151028848 and parameters: {'n_estimators': 208, 'min_samples_split': 0.0023334569143036938, 'max_features': 'sqrt'}. Best is trial 71 with value: 124.47382517037292.\n",
      "[I 2025-10-17 17:26:09,871] Trial 79 finished with value: 132.9420399608624 and parameters: {'n_estimators': 164, 'min_samples_split': 0.005797897159860333, 'max_features': 'sqrt'}. Best is trial 71 with value: 124.47382517037292.\n",
      "[I 2025-10-17 17:26:10,373] Trial 80 finished with value: 130.67937380592613 and parameters: {'n_estimators': 195, 'min_samples_split': 0.003987201387186924, 'max_features': 'sqrt'}. Best is trial 71 with value: 124.47382517037292.\n",
      "[I 2025-10-17 17:26:10,910] Trial 81 finished with value: 126.44715521544953 and parameters: {'n_estimators': 144, 'min_samples_split': 0.0017211008759489888, 'max_features': 'sqrt'}. Best is trial 71 with value: 124.47382517037292.\n",
      "[I 2025-10-17 17:26:11,419] Trial 82 finished with value: 127.92680870421775 and parameters: {'n_estimators': 155, 'min_samples_split': 0.0024317726864244897, 'max_features': 'sqrt'}. Best is trial 71 with value: 124.47382517037292.\n",
      "[I 2025-10-17 17:26:11,976] Trial 83 finished with value: 125.27989182758591 and parameters: {'n_estimators': 139, 'min_samples_split': 0.0014258446210148952, 'max_features': 'sqrt'}. Best is trial 71 with value: 124.47382517037292.\n",
      "[I 2025-10-17 17:26:12,212] Trial 84 finished with value: 147.1831481266478 and parameters: {'n_estimators': 150, 'min_samples_split': 0.028633101656893475, 'max_features': 'sqrt'}. Best is trial 71 with value: 124.47382517037292.\n",
      "[I 2025-10-17 17:26:12,635] Trial 85 finished with value: 131.3312050677185 and parameters: {'n_estimators': 164, 'min_samples_split': 0.004329716902393253, 'max_features': 'sqrt'}. Best is trial 71 with value: 124.47382517037292.\n",
      "[I 2025-10-17 17:26:13,239] Trial 86 finished with value: 124.62753959936984 and parameters: {'n_estimators': 132, 'min_samples_split': 0.0010137175831970394, 'max_features': 'sqrt'}. Best is trial 71 with value: 124.47382517037292.\n",
      "[I 2025-10-17 17:26:13,436] Trial 87 finished with value: 152.14328386402343 and parameters: {'n_estimators': 125, 'min_samples_split': 0.04094529171190016, 'max_features': 'sqrt'}. Best is trial 71 with value: 124.47382517037292.\n",
      "[I 2025-10-17 17:26:13,742] Trial 88 finished with value: 130.51700174504802 and parameters: {'n_estimators': 104, 'min_samples_split': 0.003616421017938511, 'max_features': 'sqrt'}. Best is trial 71 with value: 124.47382517037292.\n",
      "[I 2025-10-17 17:26:14,098] Trial 89 finished with value: 140.5497765998048 and parameters: {'n_estimators': 188, 'min_samples_split': 0.0075422185637515566, 'max_features': 'log2'}. Best is trial 71 with value: 124.47382517037292.\n",
      "[I 2025-10-17 17:26:14,941] Trial 90 finished with value: 124.8917216530514 and parameters: {'n_estimators': 201, 'min_samples_split': 0.0011436175369976328, 'max_features': 'sqrt'}. Best is trial 71 with value: 124.47382517037292.\n",
      "[I 2025-10-17 17:26:15,807] Trial 91 finished with value: 124.55888915040514 and parameters: {'n_estimators': 200, 'min_samples_split': 0.0010286785490750555, 'max_features': 'sqrt'}. Best is trial 71 with value: 124.47382517037292.\n",
      "[I 2025-10-17 17:26:16,773] Trial 92 finished with value: 124.59372745003213 and parameters: {'n_estimators': 220, 'min_samples_split': 0.0010008304500797327, 'max_features': 'sqrt'}. Best is trial 71 with value: 124.47382517037292.\n",
      "[I 2025-10-17 17:26:17,405] Trial 93 finished with value: 128.74808016053615 and parameters: {'n_estimators': 217, 'min_samples_split': 0.00277203921200913, 'max_features': 'sqrt'}. Best is trial 71 with value: 124.47382517037292.\n",
      "[I 2025-10-17 17:26:17,951] Trial 94 finished with value: 132.38724300081498 and parameters: {'n_estimators': 239, 'min_samples_split': 0.005360534924262165, 'max_features': 'sqrt'}. Best is trial 71 with value: 124.47382517037292.\n",
      "[I 2025-10-17 17:26:18,354] Trial 95 finished with value: 129.55326940763362 and parameters: {'n_estimators': 134, 'min_samples_split': 0.0033388133843647474, 'max_features': 'sqrt'}. Best is trial 71 with value: 124.47382517037292.\n",
      "[I 2025-10-17 17:26:19,050] Trial 96 finished with value: 127.57008946213183 and parameters: {'n_estimators': 223, 'min_samples_split': 0.0022743532678001256, 'max_features': 'sqrt'}. Best is trial 71 with value: 124.47382517037292.\n",
      "[I 2025-10-17 17:26:19,390] Trial 97 finished with value: 133.8411633487875 and parameters: {'n_estimators': 145, 'min_samples_split': 0.006499288334941668, 'max_features': 'sqrt'}. Best is trial 71 with value: 124.47382517037292.\n",
      "[I 2025-10-17 17:26:19,722] Trial 98 finished with value: 131.68517074415692 and parameters: {'n_estimators': 127, 'min_samples_split': 0.004547056238388665, 'max_features': 'sqrt'}. Best is trial 71 with value: 124.47382517037292.\n",
      "[I 2025-10-17 17:26:20,623] Trial 99 finished with value: 124.64131343996733 and parameters: {'n_estimators': 209, 'min_samples_split': 0.0010562178872490008, 'max_features': 'sqrt'}. Best is trial 71 with value: 124.47382517037292.\n"
     ]
    }
   ],
   "source": [
    "from optuna.samplers import TPESampler\n",
    "\n",
    "study = optuna.create_study(study_name=\"basic_rf_opt\", direction=\"minimize\", sampler=TPESampler(seed=42, n_startup_trials=10))\n",
    "study.optimize(training_objective, n_trials=100)"
   ]
  },
  {
   "cell_type": "code",
   "execution_count": 22,
   "id": "e1c154f6",
   "metadata": {},
   "outputs": [
    {
     "name": "stdout",
     "output_type": "stream",
     "text": [
      "Big Train RMSE: 98.8327925597008\n",
      "Test RMSE: 117.9205853197179\n"
     ]
    }
   ],
   "source": [
    "# Train final model with best hyperparameters\n",
    "best_params = study.best_params\n",
    "final_model = RandomForestRegressor(**best_params, random_state=42, n_jobs=-1)\n",
    "final_pipeline = Pipeline(steps=[\n",
    "    ('preprocessor', preprocessor),\n",
    "    ('model', final_model)\n",
    "])\n",
    "final_pipeline.fit(X_big_train, y_big_train)\n",
    "test_predictions = final_pipeline.predict(X_test)\n",
    "big_train_predictions = final_pipeline.predict(X_big_train)\n",
    "big_train_rmse = root_mean_squared_error(y_true=y_big_train, y_pred=big_train_predictions)\n",
    "print(f\"Big Train RMSE: {big_train_rmse}\")\n",
    "test_rmse = root_mean_squared_error(y_true=y_test, y_pred=test_predictions)\n",
    "print(f\"Test RMSE: {test_rmse}\")"
   ]
  },
  {
   "cell_type": "code",
   "execution_count": 23,
   "id": "6eb3c78b",
   "metadata": {},
   "outputs": [
    {
     "data": {
      "application/vnd.plotly.v1+json": {
       "config": {
        "plotlyServerURL": "https://plot.ly"
       },
       "data": [
        {
         "mode": "markers",
         "name": "Validation RMSE",
         "type": "scatter",
         "x": [
          0,
          1,
          2,
          3,
          4,
          5,
          6,
          7,
          8,
          9,
          10,
          11,
          12,
          13,
          14,
          15,
          16,
          17,
          18,
          19,
          20,
          21,
          22,
          23,
          24,
          25,
          26,
          27,
          28,
          29,
          30,
          31,
          32,
          33,
          34,
          35,
          36,
          37,
          38,
          39,
          40,
          41,
          42,
          43,
          44,
          45,
          46,
          47,
          48,
          49,
          50,
          51,
          52,
          53,
          54,
          55,
          56,
          57,
          58,
          59,
          60,
          61,
          62,
          63,
          64,
          65,
          66,
          67,
          68,
          69,
          70,
          71,
          72,
          73,
          74,
          75,
          76,
          77,
          78,
          79,
          80,
          81,
          82,
          83,
          84,
          85,
          86,
          87,
          88,
          89,
          90,
          91,
          92,
          93,
          94,
          95,
          96,
          97,
          98,
          99
         ],
         "y": [
          157.81148667635904,
          137.12248283927266,
          150.3841166251167,
          138.53487115284938,
          152.1385455868423,
          135.86391815703828,
          152.2203943048038,
          135.0055606294151,
          158.9003417265714,
          138.46684905459554,
          147.78061849019198,
          126.25251798371075,
          125.89348652306647,
          142.35500218246733,
          127.45866594210699,
          140.86560500284617,
          146.56558650815933,
          127.20366625011512,
          144.58601377621062,
          139.9546682515958,
          150.02382538726306,
          127.47516200830836,
          134.36947242781267,
          137.73762303106466,
          132.3119658908825,
          125.48947491990567,
          125.46306794502692,
          142.1405475316354,
          133.5848625522615,
          152.97182588290488,
          138.16615238812864,
          124.93226710877444,
          124.70245791986953,
          136.76765039066368,
          131.65950689782508,
          136.2819319892996,
          132.10953430942024,
          140.42027424956805,
          142.32249535688135,
          154.51256993178185,
          144.8561636910792,
          126.26202386782651,
          125.36880902818095,
          131.58917728965403,
          129.2566085823035,
          134.052538133279,
          131.32554826818787,
          136.04381800177353,
          149.30435394762026,
          153.50847523077607,
          136.91397223266512,
          124.89248723191035,
          124.68194678206295,
          133.86033706626995,
          129.35558919696618,
          124.74263441166089,
          130.13518656654074,
          134.09060351410218,
          144.68006934267754,
          132.15861018046485,
          129.66002045881743,
          124.68327767497351,
          124.48777032097253,
          128.42618427231145,
          133.6300310903315,
          135.34393332271003,
          129.5107565452126,
          131.78239944097746,
          143.30578032184678,
          127.98942742070068,
          137.13794984454253,
          124.47382517037292,
          124.97551970575181,
          133.43159979524503,
          128.41499090227586,
          124.5880575981534,
          131.479731285743,
          140.6446119129084,
          127.90243151028848,
          132.9420399608624,
          130.67937380592613,
          126.44715521544953,
          127.92680870421775,
          125.27989182758591,
          147.1831481266478,
          131.3312050677185,
          124.62753959936984,
          152.14328386402343,
          130.51700174504802,
          140.5497765998048,
          124.8917216530514,
          124.55888915040514,
          124.59372745003213,
          128.74808016053615,
          132.38724300081498,
          129.55326940763362,
          127.57008946213183,
          133.8411633487875,
          131.68517074415692,
          124.64131343996733
         ]
        },
        {
         "mode": "lines",
         "name": "Best Value",
         "type": "scatter",
         "x": [
          0,
          1,
          2,
          3,
          4,
          5,
          6,
          7,
          8,
          9,
          10,
          11,
          12,
          13,
          14,
          15,
          16,
          17,
          18,
          19,
          20,
          21,
          22,
          23,
          24,
          25,
          26,
          27,
          28,
          29,
          30,
          31,
          32,
          33,
          34,
          35,
          36,
          37,
          38,
          39,
          40,
          41,
          42,
          43,
          44,
          45,
          46,
          47,
          48,
          49,
          50,
          51,
          52,
          53,
          54,
          55,
          56,
          57,
          58,
          59,
          60,
          61,
          62,
          63,
          64,
          65,
          66,
          67,
          68,
          69,
          70,
          71,
          72,
          73,
          74,
          75,
          76,
          77,
          78,
          79,
          80,
          81,
          82,
          83,
          84,
          85,
          86,
          87,
          88,
          89,
          90,
          91,
          92,
          93,
          94,
          95,
          96,
          97,
          98,
          99
         ],
         "y": [
          157.81148667635904,
          137.12248283927266,
          137.12248283927266,
          137.12248283927266,
          137.12248283927266,
          135.86391815703828,
          135.86391815703828,
          135.0055606294151,
          135.0055606294151,
          135.0055606294151,
          135.0055606294151,
          126.25251798371075,
          125.89348652306647,
          125.89348652306647,
          125.89348652306647,
          125.89348652306647,
          125.89348652306647,
          125.89348652306647,
          125.89348652306647,
          125.89348652306647,
          125.89348652306647,
          125.89348652306647,
          125.89348652306647,
          125.89348652306647,
          125.89348652306647,
          125.48947491990567,
          125.46306794502692,
          125.46306794502692,
          125.46306794502692,
          125.46306794502692,
          125.46306794502692,
          124.93226710877444,
          124.70245791986953,
          124.70245791986953,
          124.70245791986953,
          124.70245791986953,
          124.70245791986953,
          124.70245791986953,
          124.70245791986953,
          124.70245791986953,
          124.70245791986953,
          124.70245791986953,
          124.70245791986953,
          124.70245791986953,
          124.70245791986953,
          124.70245791986953,
          124.70245791986953,
          124.70245791986953,
          124.70245791986953,
          124.70245791986953,
          124.70245791986953,
          124.70245791986953,
          124.68194678206295,
          124.68194678206295,
          124.68194678206295,
          124.68194678206295,
          124.68194678206295,
          124.68194678206295,
          124.68194678206295,
          124.68194678206295,
          124.68194678206295,
          124.68194678206295,
          124.48777032097253,
          124.48777032097253,
          124.48777032097253,
          124.48777032097253,
          124.48777032097253,
          124.48777032097253,
          124.48777032097253,
          124.48777032097253,
          124.48777032097253,
          124.47382517037292,
          124.47382517037292,
          124.47382517037292,
          124.47382517037292,
          124.47382517037292,
          124.47382517037292,
          124.47382517037292,
          124.47382517037292,
          124.47382517037292,
          124.47382517037292,
          124.47382517037292,
          124.47382517037292,
          124.47382517037292,
          124.47382517037292,
          124.47382517037292,
          124.47382517037292,
          124.47382517037292,
          124.47382517037292,
          124.47382517037292,
          124.47382517037292,
          124.47382517037292,
          124.47382517037292,
          124.47382517037292,
          124.47382517037292,
          124.47382517037292,
          124.47382517037292,
          124.47382517037292,
          124.47382517037292,
          124.47382517037292
         ]
        },
        {
         "marker": {
          "color": "#cccccc"
         },
         "mode": "markers",
         "name": "Infeasible Trial",
         "showlegend": false,
         "type": "scatter",
         "x": [],
         "y": []
        }
       ],
       "layout": {
        "template": {
         "data": {
          "bar": [
           {
            "error_x": {
             "color": "#2a3f5f"
            },
            "error_y": {
             "color": "#2a3f5f"
            },
            "marker": {
             "line": {
              "color": "#E5ECF6",
              "width": 0.5
             },
             "pattern": {
              "fillmode": "overlay",
              "size": 10,
              "solidity": 0.2
             }
            },
            "type": "bar"
           }
          ],
          "barpolar": [
           {
            "marker": {
             "line": {
              "color": "#E5ECF6",
              "width": 0.5
             },
             "pattern": {
              "fillmode": "overlay",
              "size": 10,
              "solidity": 0.2
             }
            },
            "type": "barpolar"
           }
          ],
          "carpet": [
           {
            "aaxis": {
             "endlinecolor": "#2a3f5f",
             "gridcolor": "white",
             "linecolor": "white",
             "minorgridcolor": "white",
             "startlinecolor": "#2a3f5f"
            },
            "baxis": {
             "endlinecolor": "#2a3f5f",
             "gridcolor": "white",
             "linecolor": "white",
             "minorgridcolor": "white",
             "startlinecolor": "#2a3f5f"
            },
            "type": "carpet"
           }
          ],
          "choropleth": [
           {
            "colorbar": {
             "outlinewidth": 0,
             "ticks": ""
            },
            "type": "choropleth"
           }
          ],
          "contour": [
           {
            "colorbar": {
             "outlinewidth": 0,
             "ticks": ""
            },
            "colorscale": [
             [
              0,
              "#0d0887"
             ],
             [
              0.1111111111111111,
              "#46039f"
             ],
             [
              0.2222222222222222,
              "#7201a8"
             ],
             [
              0.3333333333333333,
              "#9c179e"
             ],
             [
              0.4444444444444444,
              "#bd3786"
             ],
             [
              0.5555555555555556,
              "#d8576b"
             ],
             [
              0.6666666666666666,
              "#ed7953"
             ],
             [
              0.7777777777777778,
              "#fb9f3a"
             ],
             [
              0.8888888888888888,
              "#fdca26"
             ],
             [
              1,
              "#f0f921"
             ]
            ],
            "type": "contour"
           }
          ],
          "contourcarpet": [
           {
            "colorbar": {
             "outlinewidth": 0,
             "ticks": ""
            },
            "type": "contourcarpet"
           }
          ],
          "heatmap": [
           {
            "colorbar": {
             "outlinewidth": 0,
             "ticks": ""
            },
            "colorscale": [
             [
              0,
              "#0d0887"
             ],
             [
              0.1111111111111111,
              "#46039f"
             ],
             [
              0.2222222222222222,
              "#7201a8"
             ],
             [
              0.3333333333333333,
              "#9c179e"
             ],
             [
              0.4444444444444444,
              "#bd3786"
             ],
             [
              0.5555555555555556,
              "#d8576b"
             ],
             [
              0.6666666666666666,
              "#ed7953"
             ],
             [
              0.7777777777777778,
              "#fb9f3a"
             ],
             [
              0.8888888888888888,
              "#fdca26"
             ],
             [
              1,
              "#f0f921"
             ]
            ],
            "type": "heatmap"
           }
          ],
          "histogram": [
           {
            "marker": {
             "pattern": {
              "fillmode": "overlay",
              "size": 10,
              "solidity": 0.2
             }
            },
            "type": "histogram"
           }
          ],
          "histogram2d": [
           {
            "colorbar": {
             "outlinewidth": 0,
             "ticks": ""
            },
            "colorscale": [
             [
              0,
              "#0d0887"
             ],
             [
              0.1111111111111111,
              "#46039f"
             ],
             [
              0.2222222222222222,
              "#7201a8"
             ],
             [
              0.3333333333333333,
              "#9c179e"
             ],
             [
              0.4444444444444444,
              "#bd3786"
             ],
             [
              0.5555555555555556,
              "#d8576b"
             ],
             [
              0.6666666666666666,
              "#ed7953"
             ],
             [
              0.7777777777777778,
              "#fb9f3a"
             ],
             [
              0.8888888888888888,
              "#fdca26"
             ],
             [
              1,
              "#f0f921"
             ]
            ],
            "type": "histogram2d"
           }
          ],
          "histogram2dcontour": [
           {
            "colorbar": {
             "outlinewidth": 0,
             "ticks": ""
            },
            "colorscale": [
             [
              0,
              "#0d0887"
             ],
             [
              0.1111111111111111,
              "#46039f"
             ],
             [
              0.2222222222222222,
              "#7201a8"
             ],
             [
              0.3333333333333333,
              "#9c179e"
             ],
             [
              0.4444444444444444,
              "#bd3786"
             ],
             [
              0.5555555555555556,
              "#d8576b"
             ],
             [
              0.6666666666666666,
              "#ed7953"
             ],
             [
              0.7777777777777778,
              "#fb9f3a"
             ],
             [
              0.8888888888888888,
              "#fdca26"
             ],
             [
              1,
              "#f0f921"
             ]
            ],
            "type": "histogram2dcontour"
           }
          ],
          "mesh3d": [
           {
            "colorbar": {
             "outlinewidth": 0,
             "ticks": ""
            },
            "type": "mesh3d"
           }
          ],
          "parcoords": [
           {
            "line": {
             "colorbar": {
              "outlinewidth": 0,
              "ticks": ""
             }
            },
            "type": "parcoords"
           }
          ],
          "pie": [
           {
            "automargin": true,
            "type": "pie"
           }
          ],
          "scatter": [
           {
            "fillpattern": {
             "fillmode": "overlay",
             "size": 10,
             "solidity": 0.2
            },
            "type": "scatter"
           }
          ],
          "scatter3d": [
           {
            "line": {
             "colorbar": {
              "outlinewidth": 0,
              "ticks": ""
             }
            },
            "marker": {
             "colorbar": {
              "outlinewidth": 0,
              "ticks": ""
             }
            },
            "type": "scatter3d"
           }
          ],
          "scattercarpet": [
           {
            "marker": {
             "colorbar": {
              "outlinewidth": 0,
              "ticks": ""
             }
            },
            "type": "scattercarpet"
           }
          ],
          "scattergeo": [
           {
            "marker": {
             "colorbar": {
              "outlinewidth": 0,
              "ticks": ""
             }
            },
            "type": "scattergeo"
           }
          ],
          "scattergl": [
           {
            "marker": {
             "colorbar": {
              "outlinewidth": 0,
              "ticks": ""
             }
            },
            "type": "scattergl"
           }
          ],
          "scattermap": [
           {
            "marker": {
             "colorbar": {
              "outlinewidth": 0,
              "ticks": ""
             }
            },
            "type": "scattermap"
           }
          ],
          "scattermapbox": [
           {
            "marker": {
             "colorbar": {
              "outlinewidth": 0,
              "ticks": ""
             }
            },
            "type": "scattermapbox"
           }
          ],
          "scatterpolar": [
           {
            "marker": {
             "colorbar": {
              "outlinewidth": 0,
              "ticks": ""
             }
            },
            "type": "scatterpolar"
           }
          ],
          "scatterpolargl": [
           {
            "marker": {
             "colorbar": {
              "outlinewidth": 0,
              "ticks": ""
             }
            },
            "type": "scatterpolargl"
           }
          ],
          "scatterternary": [
           {
            "marker": {
             "colorbar": {
              "outlinewidth": 0,
              "ticks": ""
             }
            },
            "type": "scatterternary"
           }
          ],
          "surface": [
           {
            "colorbar": {
             "outlinewidth": 0,
             "ticks": ""
            },
            "colorscale": [
             [
              0,
              "#0d0887"
             ],
             [
              0.1111111111111111,
              "#46039f"
             ],
             [
              0.2222222222222222,
              "#7201a8"
             ],
             [
              0.3333333333333333,
              "#9c179e"
             ],
             [
              0.4444444444444444,
              "#bd3786"
             ],
             [
              0.5555555555555556,
              "#d8576b"
             ],
             [
              0.6666666666666666,
              "#ed7953"
             ],
             [
              0.7777777777777778,
              "#fb9f3a"
             ],
             [
              0.8888888888888888,
              "#fdca26"
             ],
             [
              1,
              "#f0f921"
             ]
            ],
            "type": "surface"
           }
          ],
          "table": [
           {
            "cells": {
             "fill": {
              "color": "#EBF0F8"
             },
             "line": {
              "color": "white"
             }
            },
            "header": {
             "fill": {
              "color": "#C8D4E3"
             },
             "line": {
              "color": "white"
             }
            },
            "type": "table"
           }
          ]
         },
         "layout": {
          "annotationdefaults": {
           "arrowcolor": "#2a3f5f",
           "arrowhead": 0,
           "arrowwidth": 1
          },
          "autotypenumbers": "strict",
          "coloraxis": {
           "colorbar": {
            "outlinewidth": 0,
            "ticks": ""
           }
          },
          "colorscale": {
           "diverging": [
            [
             0,
             "#8e0152"
            ],
            [
             0.1,
             "#c51b7d"
            ],
            [
             0.2,
             "#de77ae"
            ],
            [
             0.3,
             "#f1b6da"
            ],
            [
             0.4,
             "#fde0ef"
            ],
            [
             0.5,
             "#f7f7f7"
            ],
            [
             0.6,
             "#e6f5d0"
            ],
            [
             0.7,
             "#b8e186"
            ],
            [
             0.8,
             "#7fbc41"
            ],
            [
             0.9,
             "#4d9221"
            ],
            [
             1,
             "#276419"
            ]
           ],
           "sequential": [
            [
             0,
             "#0d0887"
            ],
            [
             0.1111111111111111,
             "#46039f"
            ],
            [
             0.2222222222222222,
             "#7201a8"
            ],
            [
             0.3333333333333333,
             "#9c179e"
            ],
            [
             0.4444444444444444,
             "#bd3786"
            ],
            [
             0.5555555555555556,
             "#d8576b"
            ],
            [
             0.6666666666666666,
             "#ed7953"
            ],
            [
             0.7777777777777778,
             "#fb9f3a"
            ],
            [
             0.8888888888888888,
             "#fdca26"
            ],
            [
             1,
             "#f0f921"
            ]
           ],
           "sequentialminus": [
            [
             0,
             "#0d0887"
            ],
            [
             0.1111111111111111,
             "#46039f"
            ],
            [
             0.2222222222222222,
             "#7201a8"
            ],
            [
             0.3333333333333333,
             "#9c179e"
            ],
            [
             0.4444444444444444,
             "#bd3786"
            ],
            [
             0.5555555555555556,
             "#d8576b"
            ],
            [
             0.6666666666666666,
             "#ed7953"
            ],
            [
             0.7777777777777778,
             "#fb9f3a"
            ],
            [
             0.8888888888888888,
             "#fdca26"
            ],
            [
             1,
             "#f0f921"
            ]
           ]
          },
          "colorway": [
           "#636efa",
           "#EF553B",
           "#00cc96",
           "#ab63fa",
           "#FFA15A",
           "#19d3f3",
           "#FF6692",
           "#B6E880",
           "#FF97FF",
           "#FECB52"
          ],
          "font": {
           "color": "#2a3f5f"
          },
          "geo": {
           "bgcolor": "white",
           "lakecolor": "white",
           "landcolor": "#E5ECF6",
           "showlakes": true,
           "showland": true,
           "subunitcolor": "white"
          },
          "hoverlabel": {
           "align": "left"
          },
          "hovermode": "closest",
          "mapbox": {
           "style": "light"
          },
          "paper_bgcolor": "white",
          "plot_bgcolor": "#E5ECF6",
          "polar": {
           "angularaxis": {
            "gridcolor": "white",
            "linecolor": "white",
            "ticks": ""
           },
           "bgcolor": "#E5ECF6",
           "radialaxis": {
            "gridcolor": "white",
            "linecolor": "white",
            "ticks": ""
           }
          },
          "scene": {
           "xaxis": {
            "backgroundcolor": "#E5ECF6",
            "gridcolor": "white",
            "gridwidth": 2,
            "linecolor": "white",
            "showbackground": true,
            "ticks": "",
            "zerolinecolor": "white"
           },
           "yaxis": {
            "backgroundcolor": "#E5ECF6",
            "gridcolor": "white",
            "gridwidth": 2,
            "linecolor": "white",
            "showbackground": true,
            "ticks": "",
            "zerolinecolor": "white"
           },
           "zaxis": {
            "backgroundcolor": "#E5ECF6",
            "gridcolor": "white",
            "gridwidth": 2,
            "linecolor": "white",
            "showbackground": true,
            "ticks": "",
            "zerolinecolor": "white"
           }
          },
          "shapedefaults": {
           "line": {
            "color": "#2a3f5f"
           }
          },
          "ternary": {
           "aaxis": {
            "gridcolor": "white",
            "linecolor": "white",
            "ticks": ""
           },
           "baxis": {
            "gridcolor": "white",
            "linecolor": "white",
            "ticks": ""
           },
           "bgcolor": "#E5ECF6",
           "caxis": {
            "gridcolor": "white",
            "linecolor": "white",
            "ticks": ""
           }
          },
          "title": {
           "x": 0.05
          },
          "xaxis": {
           "automargin": true,
           "gridcolor": "white",
           "linecolor": "white",
           "ticks": "",
           "title": {
            "standoff": 15
           },
           "zerolinecolor": "white",
           "zerolinewidth": 2
          },
          "yaxis": {
           "automargin": true,
           "gridcolor": "white",
           "linecolor": "white",
           "ticks": "",
           "title": {
            "standoff": 15
           },
           "zerolinecolor": "white",
           "zerolinewidth": 2
          }
         }
        },
        "title": {
         "text": "Optimization History Plot"
        },
        "xaxis": {
         "title": {
          "text": "Trial"
         }
        },
        "yaxis": {
         "title": {
          "text": "Validation RMSE"
         }
        }
       }
      }
     },
     "metadata": {},
     "output_type": "display_data"
    }
   ],
   "source": [
    "optuna.visualization.plot_optimization_history(study=study, target_name=\"Validation RMSE\")"
   ]
  },
  {
   "cell_type": "code",
   "execution_count": 24,
   "id": "817c3f38",
   "metadata": {},
   "outputs": [
    {
     "data": {
      "application/vnd.plotly.v1+json": {
       "config": {
        "plotlyServerURL": "https://plot.ly"
       },
       "data": [
        {
         "cliponaxis": false,
         "hovertemplate": [
          "max_features (CategoricalDistribution): 0.004671780141833483<extra></extra>",
          "n_estimators (IntDistribution): 0.01169456736064762<extra></extra>",
          "min_samples_split (FloatDistribution): 0.983633652497519<extra></extra>"
         ],
         "name": "Objective Value",
         "orientation": "h",
         "text": [
          "<0.01",
          "0.01",
          "0.98"
         ],
         "textposition": "outside",
         "type": "bar",
         "x": [
          0.004671780141833483,
          0.01169456736064762,
          0.983633652497519
         ],
         "y": [
          "max_features",
          "n_estimators",
          "min_samples_split"
         ]
        }
       ],
       "layout": {
        "template": {
         "data": {
          "bar": [
           {
            "error_x": {
             "color": "#2a3f5f"
            },
            "error_y": {
             "color": "#2a3f5f"
            },
            "marker": {
             "line": {
              "color": "#E5ECF6",
              "width": 0.5
             },
             "pattern": {
              "fillmode": "overlay",
              "size": 10,
              "solidity": 0.2
             }
            },
            "type": "bar"
           }
          ],
          "barpolar": [
           {
            "marker": {
             "line": {
              "color": "#E5ECF6",
              "width": 0.5
             },
             "pattern": {
              "fillmode": "overlay",
              "size": 10,
              "solidity": 0.2
             }
            },
            "type": "barpolar"
           }
          ],
          "carpet": [
           {
            "aaxis": {
             "endlinecolor": "#2a3f5f",
             "gridcolor": "white",
             "linecolor": "white",
             "minorgridcolor": "white",
             "startlinecolor": "#2a3f5f"
            },
            "baxis": {
             "endlinecolor": "#2a3f5f",
             "gridcolor": "white",
             "linecolor": "white",
             "minorgridcolor": "white",
             "startlinecolor": "#2a3f5f"
            },
            "type": "carpet"
           }
          ],
          "choropleth": [
           {
            "colorbar": {
             "outlinewidth": 0,
             "ticks": ""
            },
            "type": "choropleth"
           }
          ],
          "contour": [
           {
            "colorbar": {
             "outlinewidth": 0,
             "ticks": ""
            },
            "colorscale": [
             [
              0,
              "#0d0887"
             ],
             [
              0.1111111111111111,
              "#46039f"
             ],
             [
              0.2222222222222222,
              "#7201a8"
             ],
             [
              0.3333333333333333,
              "#9c179e"
             ],
             [
              0.4444444444444444,
              "#bd3786"
             ],
             [
              0.5555555555555556,
              "#d8576b"
             ],
             [
              0.6666666666666666,
              "#ed7953"
             ],
             [
              0.7777777777777778,
              "#fb9f3a"
             ],
             [
              0.8888888888888888,
              "#fdca26"
             ],
             [
              1,
              "#f0f921"
             ]
            ],
            "type": "contour"
           }
          ],
          "contourcarpet": [
           {
            "colorbar": {
             "outlinewidth": 0,
             "ticks": ""
            },
            "type": "contourcarpet"
           }
          ],
          "heatmap": [
           {
            "colorbar": {
             "outlinewidth": 0,
             "ticks": ""
            },
            "colorscale": [
             [
              0,
              "#0d0887"
             ],
             [
              0.1111111111111111,
              "#46039f"
             ],
             [
              0.2222222222222222,
              "#7201a8"
             ],
             [
              0.3333333333333333,
              "#9c179e"
             ],
             [
              0.4444444444444444,
              "#bd3786"
             ],
             [
              0.5555555555555556,
              "#d8576b"
             ],
             [
              0.6666666666666666,
              "#ed7953"
             ],
             [
              0.7777777777777778,
              "#fb9f3a"
             ],
             [
              0.8888888888888888,
              "#fdca26"
             ],
             [
              1,
              "#f0f921"
             ]
            ],
            "type": "heatmap"
           }
          ],
          "histogram": [
           {
            "marker": {
             "pattern": {
              "fillmode": "overlay",
              "size": 10,
              "solidity": 0.2
             }
            },
            "type": "histogram"
           }
          ],
          "histogram2d": [
           {
            "colorbar": {
             "outlinewidth": 0,
             "ticks": ""
            },
            "colorscale": [
             [
              0,
              "#0d0887"
             ],
             [
              0.1111111111111111,
              "#46039f"
             ],
             [
              0.2222222222222222,
              "#7201a8"
             ],
             [
              0.3333333333333333,
              "#9c179e"
             ],
             [
              0.4444444444444444,
              "#bd3786"
             ],
             [
              0.5555555555555556,
              "#d8576b"
             ],
             [
              0.6666666666666666,
              "#ed7953"
             ],
             [
              0.7777777777777778,
              "#fb9f3a"
             ],
             [
              0.8888888888888888,
              "#fdca26"
             ],
             [
              1,
              "#f0f921"
             ]
            ],
            "type": "histogram2d"
           }
          ],
          "histogram2dcontour": [
           {
            "colorbar": {
             "outlinewidth": 0,
             "ticks": ""
            },
            "colorscale": [
             [
              0,
              "#0d0887"
             ],
             [
              0.1111111111111111,
              "#46039f"
             ],
             [
              0.2222222222222222,
              "#7201a8"
             ],
             [
              0.3333333333333333,
              "#9c179e"
             ],
             [
              0.4444444444444444,
              "#bd3786"
             ],
             [
              0.5555555555555556,
              "#d8576b"
             ],
             [
              0.6666666666666666,
              "#ed7953"
             ],
             [
              0.7777777777777778,
              "#fb9f3a"
             ],
             [
              0.8888888888888888,
              "#fdca26"
             ],
             [
              1,
              "#f0f921"
             ]
            ],
            "type": "histogram2dcontour"
           }
          ],
          "mesh3d": [
           {
            "colorbar": {
             "outlinewidth": 0,
             "ticks": ""
            },
            "type": "mesh3d"
           }
          ],
          "parcoords": [
           {
            "line": {
             "colorbar": {
              "outlinewidth": 0,
              "ticks": ""
             }
            },
            "type": "parcoords"
           }
          ],
          "pie": [
           {
            "automargin": true,
            "type": "pie"
           }
          ],
          "scatter": [
           {
            "fillpattern": {
             "fillmode": "overlay",
             "size": 10,
             "solidity": 0.2
            },
            "type": "scatter"
           }
          ],
          "scatter3d": [
           {
            "line": {
             "colorbar": {
              "outlinewidth": 0,
              "ticks": ""
             }
            },
            "marker": {
             "colorbar": {
              "outlinewidth": 0,
              "ticks": ""
             }
            },
            "type": "scatter3d"
           }
          ],
          "scattercarpet": [
           {
            "marker": {
             "colorbar": {
              "outlinewidth": 0,
              "ticks": ""
             }
            },
            "type": "scattercarpet"
           }
          ],
          "scattergeo": [
           {
            "marker": {
             "colorbar": {
              "outlinewidth": 0,
              "ticks": ""
             }
            },
            "type": "scattergeo"
           }
          ],
          "scattergl": [
           {
            "marker": {
             "colorbar": {
              "outlinewidth": 0,
              "ticks": ""
             }
            },
            "type": "scattergl"
           }
          ],
          "scattermap": [
           {
            "marker": {
             "colorbar": {
              "outlinewidth": 0,
              "ticks": ""
             }
            },
            "type": "scattermap"
           }
          ],
          "scattermapbox": [
           {
            "marker": {
             "colorbar": {
              "outlinewidth": 0,
              "ticks": ""
             }
            },
            "type": "scattermapbox"
           }
          ],
          "scatterpolar": [
           {
            "marker": {
             "colorbar": {
              "outlinewidth": 0,
              "ticks": ""
             }
            },
            "type": "scatterpolar"
           }
          ],
          "scatterpolargl": [
           {
            "marker": {
             "colorbar": {
              "outlinewidth": 0,
              "ticks": ""
             }
            },
            "type": "scatterpolargl"
           }
          ],
          "scatterternary": [
           {
            "marker": {
             "colorbar": {
              "outlinewidth": 0,
              "ticks": ""
             }
            },
            "type": "scatterternary"
           }
          ],
          "surface": [
           {
            "colorbar": {
             "outlinewidth": 0,
             "ticks": ""
            },
            "colorscale": [
             [
              0,
              "#0d0887"
             ],
             [
              0.1111111111111111,
              "#46039f"
             ],
             [
              0.2222222222222222,
              "#7201a8"
             ],
             [
              0.3333333333333333,
              "#9c179e"
             ],
             [
              0.4444444444444444,
              "#bd3786"
             ],
             [
              0.5555555555555556,
              "#d8576b"
             ],
             [
              0.6666666666666666,
              "#ed7953"
             ],
             [
              0.7777777777777778,
              "#fb9f3a"
             ],
             [
              0.8888888888888888,
              "#fdca26"
             ],
             [
              1,
              "#f0f921"
             ]
            ],
            "type": "surface"
           }
          ],
          "table": [
           {
            "cells": {
             "fill": {
              "color": "#EBF0F8"
             },
             "line": {
              "color": "white"
             }
            },
            "header": {
             "fill": {
              "color": "#C8D4E3"
             },
             "line": {
              "color": "white"
             }
            },
            "type": "table"
           }
          ]
         },
         "layout": {
          "annotationdefaults": {
           "arrowcolor": "#2a3f5f",
           "arrowhead": 0,
           "arrowwidth": 1
          },
          "autotypenumbers": "strict",
          "coloraxis": {
           "colorbar": {
            "outlinewidth": 0,
            "ticks": ""
           }
          },
          "colorscale": {
           "diverging": [
            [
             0,
             "#8e0152"
            ],
            [
             0.1,
             "#c51b7d"
            ],
            [
             0.2,
             "#de77ae"
            ],
            [
             0.3,
             "#f1b6da"
            ],
            [
             0.4,
             "#fde0ef"
            ],
            [
             0.5,
             "#f7f7f7"
            ],
            [
             0.6,
             "#e6f5d0"
            ],
            [
             0.7,
             "#b8e186"
            ],
            [
             0.8,
             "#7fbc41"
            ],
            [
             0.9,
             "#4d9221"
            ],
            [
             1,
             "#276419"
            ]
           ],
           "sequential": [
            [
             0,
             "#0d0887"
            ],
            [
             0.1111111111111111,
             "#46039f"
            ],
            [
             0.2222222222222222,
             "#7201a8"
            ],
            [
             0.3333333333333333,
             "#9c179e"
            ],
            [
             0.4444444444444444,
             "#bd3786"
            ],
            [
             0.5555555555555556,
             "#d8576b"
            ],
            [
             0.6666666666666666,
             "#ed7953"
            ],
            [
             0.7777777777777778,
             "#fb9f3a"
            ],
            [
             0.8888888888888888,
             "#fdca26"
            ],
            [
             1,
             "#f0f921"
            ]
           ],
           "sequentialminus": [
            [
             0,
             "#0d0887"
            ],
            [
             0.1111111111111111,
             "#46039f"
            ],
            [
             0.2222222222222222,
             "#7201a8"
            ],
            [
             0.3333333333333333,
             "#9c179e"
            ],
            [
             0.4444444444444444,
             "#bd3786"
            ],
            [
             0.5555555555555556,
             "#d8576b"
            ],
            [
             0.6666666666666666,
             "#ed7953"
            ],
            [
             0.7777777777777778,
             "#fb9f3a"
            ],
            [
             0.8888888888888888,
             "#fdca26"
            ],
            [
             1,
             "#f0f921"
            ]
           ]
          },
          "colorway": [
           "#636efa",
           "#EF553B",
           "#00cc96",
           "#ab63fa",
           "#FFA15A",
           "#19d3f3",
           "#FF6692",
           "#B6E880",
           "#FF97FF",
           "#FECB52"
          ],
          "font": {
           "color": "#2a3f5f"
          },
          "geo": {
           "bgcolor": "white",
           "lakecolor": "white",
           "landcolor": "#E5ECF6",
           "showlakes": true,
           "showland": true,
           "subunitcolor": "white"
          },
          "hoverlabel": {
           "align": "left"
          },
          "hovermode": "closest",
          "mapbox": {
           "style": "light"
          },
          "paper_bgcolor": "white",
          "plot_bgcolor": "#E5ECF6",
          "polar": {
           "angularaxis": {
            "gridcolor": "white",
            "linecolor": "white",
            "ticks": ""
           },
           "bgcolor": "#E5ECF6",
           "radialaxis": {
            "gridcolor": "white",
            "linecolor": "white",
            "ticks": ""
           }
          },
          "scene": {
           "xaxis": {
            "backgroundcolor": "#E5ECF6",
            "gridcolor": "white",
            "gridwidth": 2,
            "linecolor": "white",
            "showbackground": true,
            "ticks": "",
            "zerolinecolor": "white"
           },
           "yaxis": {
            "backgroundcolor": "#E5ECF6",
            "gridcolor": "white",
            "gridwidth": 2,
            "linecolor": "white",
            "showbackground": true,
            "ticks": "",
            "zerolinecolor": "white"
           },
           "zaxis": {
            "backgroundcolor": "#E5ECF6",
            "gridcolor": "white",
            "gridwidth": 2,
            "linecolor": "white",
            "showbackground": true,
            "ticks": "",
            "zerolinecolor": "white"
           }
          },
          "shapedefaults": {
           "line": {
            "color": "#2a3f5f"
           }
          },
          "ternary": {
           "aaxis": {
            "gridcolor": "white",
            "linecolor": "white",
            "ticks": ""
           },
           "baxis": {
            "gridcolor": "white",
            "linecolor": "white",
            "ticks": ""
           },
           "bgcolor": "#E5ECF6",
           "caxis": {
            "gridcolor": "white",
            "linecolor": "white",
            "ticks": ""
           }
          },
          "title": {
           "x": 0.05
          },
          "xaxis": {
           "automargin": true,
           "gridcolor": "white",
           "linecolor": "white",
           "ticks": "",
           "title": {
            "standoff": 15
           },
           "zerolinecolor": "white",
           "zerolinewidth": 2
          },
          "yaxis": {
           "automargin": true,
           "gridcolor": "white",
           "linecolor": "white",
           "ticks": "",
           "title": {
            "standoff": 15
           },
           "zerolinecolor": "white",
           "zerolinewidth": 2
          }
         }
        },
        "title": {
         "text": "Hyperparameter Importances"
        },
        "xaxis": {
         "title": {
          "text": "Hyperparameter Importance"
         }
        },
        "yaxis": {
         "title": {
          "text": "Hyperparameter"
         }
        }
       }
      }
     },
     "metadata": {},
     "output_type": "display_data"
    }
   ],
   "source": [
    "optuna.visualization.plot_param_importances(study=study)"
   ]
  },
  {
   "cell_type": "markdown",
   "id": "5a616123",
   "metadata": {},
   "source": [
    "## 3. Analyzing the optimization results"
   ]
  },
  {
   "cell_type": "markdown",
   "id": "a8c0fcce",
   "metadata": {},
   "source": [
    "## 4. Setting up baselines with enqueue trials"
   ]
  },
  {
   "cell_type": "markdown",
   "id": "83102ad4",
   "metadata": {},
   "source": [
    "## 5. Use of multivariate samplers"
   ]
  }
 ],
 "metadata": {
  "kernelspec": {
   "display_name": ".venv",
   "language": "python",
   "name": "python3"
  },
  "language_info": {
   "codemirror_mode": {
    "name": "ipython",
    "version": 3
   },
   "file_extension": ".py",
   "mimetype": "text/x-python",
   "name": "python",
   "nbconvert_exporter": "python",
   "pygments_lexer": "ipython3",
   "version": "3.13.2"
  }
 },
 "nbformat": 4,
 "nbformat_minor": 5
}
