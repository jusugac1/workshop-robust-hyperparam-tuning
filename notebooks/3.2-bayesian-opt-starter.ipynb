{
 "cells": [
  {
   "cell_type": "markdown",
   "id": "207642ca",
   "metadata": {},
   "source": [
    "## Table of Contents\n",
    "\n",
    "1. [Defining the optimization problem: search space and objective](#1-defining-the-optimization-problem-search-space-and-objective)  \n",
    "2. [First touch with Optuna for optimization](#2-first-touch-with-optuna-for-optimization)  \n",
    "3. [Analyzing the optimization results](#3-analyzing-the-optimization-results)  \n",
    "4. [Setting up baselines with enqueue trials](#4-setting-up-baselines-with-enqueue-trials)\n",
    "\n"
   ]
  },
  {
   "cell_type": "markdown",
   "id": "3bb0ba1f",
   "metadata": {},
   "source": [
    "## Imports"
   ]
  },
  {
   "cell_type": "code",
   "execution_count": 2,
   "id": "d4fd912c",
   "metadata": {},
   "outputs": [],
   "source": [
    "import os\n",
    "import optuna\n",
    "import pandas as pd\n",
    "\n",
    "from sklearn.ensemble import RandomForestRegressor"
   ]
  },
  {
   "cell_type": "markdown",
   "id": "3925132b",
   "metadata": {},
   "source": [
    "## Options"
   ]
  },
  {
   "cell_type": "code",
   "execution_count": 3,
   "id": "64b99f1a",
   "metadata": {},
   "outputs": [],
   "source": [
    "path_data = \"../data/01_raw\""
   ]
  },
  {
   "cell_type": "markdown",
   "id": "8ed1e01d",
   "metadata": {},
   "source": [
    "## Dataset"
   ]
  },
  {
   "cell_type": "code",
   "execution_count": 4,
   "id": "380c001f",
   "metadata": {},
   "outputs": [],
   "source": [
    "df = pd.read_parquet(os.path.join(path_data, \"fremotor1prem0304.parquet\"))"
   ]
  },
  {
   "cell_type": "markdown",
   "id": "51993523",
   "metadata": {},
   "source": [
    "## 1. Defining the optimization problem: search space and objective"
   ]
  },
  {
   "cell_type": "markdown",
   "id": "da214f2c",
   "metadata": {},
   "source": [
    "## 2. First touch with Optuna for optimization"
   ]
  },
  {
   "cell_type": "markdown",
   "id": "5a616123",
   "metadata": {},
   "source": [
    "## 3. Analyzing the optimization results"
   ]
  },
  {
   "cell_type": "markdown",
   "id": "a8c0fcce",
   "metadata": {},
   "source": [
    "## 4. Setting up baselines with enqueue trials"
   ]
  }
 ],
 "metadata": {
  "kernelspec": {
   "display_name": ".venv",
   "language": "python",
   "name": "python3"
  },
  "language_info": {
   "codemirror_mode": {
    "name": "ipython",
    "version": 3
   },
   "file_extension": ".py",
   "mimetype": "text/x-python",
   "name": "python",
   "nbconvert_exporter": "python",
   "pygments_lexer": "ipython3",
   "version": "3.13.2"
  }
 },
 "nbformat": 4,
 "nbformat_minor": 5
}
