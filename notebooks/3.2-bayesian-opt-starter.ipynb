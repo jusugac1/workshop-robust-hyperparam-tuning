{
 "cells": [
  {
   "cell_type": "markdown",
   "id": "207642ca",
   "metadata": {},
   "source": [
    "## Table of Contents\n",
    "\n",
    "This notebook provides basic examples of how to use Optuna for hyperparameter tuning. The following sections explain de step-by-step procedure:\n",
    "\n",
    "1. [Defining the optimization problem: search space and objective](#1-defining-the-optimization-problem-search-space-and-objective)  \n",
    "2. [First touch with Optuna for optimization](#2-first-touch-with-optuna-for-optimization)\n",
    "3. [Analyzing the optimization results](#3-analyzing-the-optimization-results)\n",
    "4. [Setting up baselines with enqueue trials](#4-setting-up-baselines-with-enqueue-trials)"
   ]
  },
  {
   "cell_type": "markdown",
   "id": "3bb0ba1f",
   "metadata": {},
   "source": [
    "## Imports"
   ]
  },
  {
   "cell_type": "code",
   "execution_count": 2,
   "id": "93588332",
   "metadata": {},
   "outputs": [],
   "source": [
    "from pathlib import Path\n",
    "import sys\n",
    "sys.path.insert(0, str(Path.cwd().parent))  # adjust .parent depth so 'src' is findable"
   ]
  },
  {
   "cell_type": "code",
   "execution_count": 3,
   "id": "d4fd912c",
   "metadata": {},
   "outputs": [
    {
     "name": "stderr",
     "output_type": "stream",
     "text": [
      "/Users/jpusuga/Library/CloudStorage/OneDrive-Personnel/workshops/workshop-robust-hyperparam-tuning/.venv/lib/python3.13/site-packages/tqdm/auto.py:21: TqdmWarning: IProgress not found. Please update jupyter and ipywidgets. See https://ipywidgets.readthedocs.io/en/stable/user_install.html\n",
      "  from .autonotebook import tqdm as notebook_tqdm\n"
     ]
    }
   ],
   "source": [
    "import os\n",
    "import optuna\n",
    "import pandas as pd\n",
    "\n",
    "from src.train_utils import retrieve_data_w_features\n",
    "\n",
    "from sklearn.ensemble import HistGradientBoostingRegressor\n",
    "from sklearn.metrics import root_mean_squared_error"
   ]
  },
  {
   "cell_type": "markdown",
   "id": "3925132b",
   "metadata": {},
   "source": [
    "## Options"
   ]
  },
  {
   "cell_type": "code",
   "execution_count": 4,
   "id": "64b99f1a",
   "metadata": {},
   "outputs": [],
   "source": [
    "path_data = \"../data/01_raw\""
   ]
  },
  {
   "cell_type": "markdown",
   "id": "8ed1e01d",
   "metadata": {},
   "source": [
    "## Dataset"
   ]
  },
  {
   "cell_type": "code",
   "execution_count": 5,
   "id": "380c001f",
   "metadata": {},
   "outputs": [],
   "source": [
    "df = pd.read_parquet(os.path.join(path_data, \"fremotor1prem0304.parquet\"))\n",
    "cols_to_drop = [\"IDpol\", \"Year\", \"train_set\", \"val_set\", \"test_set\", \"big_train_set\"]\n",
    "categorical_features = [\n",
    "    \"DrivAge\",\n",
    "    \"DrivGender\",\n",
    "    \"MaritalStatus\",\n",
    "    \"PayFreq\",\n",
    "    \"JobCode\",\n",
    "    \"VehClass\",\n",
    "    \"VehPower\",\n",
    "    \"VehGas\",\n",
    "    \"VehUsage\",\n",
    "    \"Garage\",\n",
    "    \"Area\",\n",
    "    \"Region\",\n",
    "    \"Channel\",\n",
    "    \"Marketing\"\n",
    "]\n",
    "\n",
    "X_big_train, y_big_train = retrieve_data_w_features(df=df, features_to_drop=cols_to_drop, split=\"big_train_set\")\n",
    "X_train, y_train = retrieve_data_w_features(df=df, features_to_drop=cols_to_drop, split=\"train_set\")\n",
    "X_val, y_val = retrieve_data_w_features(df=df, features_to_drop=cols_to_drop, split=\"val_set\")\n",
    "X_test, y_test = retrieve_data_w_features(df=df, features_to_drop=cols_to_drop, split=\"test_set\")"
   ]
  },
  {
   "cell_type": "markdown",
   "id": "51993523",
   "metadata": {},
   "source": [
    "## 1. Defining the Optimization Problem: Search Space and Objective\n",
    "\n",
    "To use Optuna, we must define two main elements:\n",
    "\n",
    "1. **The search space**:  \n",
    "   The set of hyperparameters over which Optuna will explore different configurations.\n",
    "\n",
    "2. **The objective function**:  \n",
    "   A metric that determines how good a given set of hyperparameters is.  \n",
    "   Optuna will try to optimize this metric by running multiple trials.\n",
    "\n",
    "---\n",
    "\n",
    "In this example, we will use a `HistGradientBoostingRegressor` trained on our dataset.\n",
    "\n",
    "### Hyperparameters to Optimize\n",
    "We define a search space including:\n",
    "\n",
    "- `max_depth` — *(int, discrete)*: Maximum depth of individual trees.\n",
    "- `learning_rate` — *(float, continuous)*: Shrinks the contribution of each new tree.  \n",
    "- `l2_regularization` — *(float, continuous)*: Penalizes tree complexity to reduce overfitting.\n",
    "\n",
    "> 📌 For the sake of the example in this tutorial, l2_regularization is treated as categorical choices.\n",
    "\n",
    "---\n",
    "\n",
    "### Optimization Objective\n",
    "\n",
    "🎯 The goal is to **minimize** the **validation RMSE** (Root Mean Squared Error).\n",
    "\n",
    "A lower RMSE indicates a model that predicts the target variable more accurately on unseen data.\n"
   ]
  },
  {
   "cell_type": "code",
   "execution_count": 11,
   "id": "edecf7af",
   "metadata": {},
   "outputs": [],
   "source": [
    "def training_objective(trial:optuna.trial.Trial) -> float:\n",
    "    max_depth = trial.suggest_int(\"max_depth\", 1, 20)\n",
    "    learning_rate = trial.suggest_float(\"learning_rate\", 0.001, 0.9, log=True)\n",
    "    l2_regularization = trial.suggest_categorical(\"l2_regularization\", [0.0, 0.1, 1.0, 10.0, 50.0])\n",
    "    model = HistGradientBoostingRegressor(\n",
    "        max_depth=max_depth,\n",
    "        learning_rate=learning_rate,\n",
    "        l2_regularization=l2_regularization,\n",
    "        categorical_features=categorical_features,\n",
    "        early_stopping=True,\n",
    "        random_state=42,\n",
    "    )\n",
    "    model.fit(X=X_train, y=y_train, X_val=X_val, y_val=y_val)\n",
    "    val_predictions = model.predict(X_val)\n",
    "    return root_mean_squared_error(y_true=y_val, y_pred=val_predictions)"
   ]
  },
  {
   "cell_type": "markdown",
   "id": "bd3fefc4",
   "metadata": {},
   "source": [
    "### Understanding the Sample Space and Objective Definition\n",
    "\n",
    "#### Sample space\n",
    "\n",
    "In Optuna, the sample space is defined using different `trial.suggest_*` methods depending on the type of hyperparameter.\n",
    "\n",
    "There are **three main types**:\n",
    "\n",
    "1. **Discrete hyperparameters**  \n",
    "   Use `trial.suggest_int()`.  \n",
    "   It samples integer values from a finite range.  \n",
    "   Example:  \n",
    "   `trial.suggest_int(\"max_depth\", 1, 10)` → samples an integer between **1 and 10**.\n",
    "\n",
    "2. **Continuous hyperparameters**  \n",
    "   Use `trial.suggest_float()`.  \n",
    "   This samples real values from a continuous interval.  \n",
    "   Example:  \n",
    "   `trial.suggest_float(\"learning_rate\", 0.001, 0.9)` → samples a real value in **[0.001, 0.9]**.\n",
    "\n",
    "Two optional arguments may be added for discrete and continuous hyperparameters:\n",
    "- `step` → forces a discretization of the interval\n",
    "- `log=True` → performs sampling on a **logarithmic scale**, favoring smaller values\n",
    "\n",
    "⚠️ `step` and `log=True` **cannot** be used together.\n",
    "\n",
    "3. **Categorical hyperparameters**  \n",
    "   Use `trial.suggest_categorical()`.  \n",
    "   It samples from a predefined set of values.  \n",
    "   Example:  \n",
    "   `trial.suggest_categorical(\"l2_regularization\", [0.0, 0.1, 1.0, 10.0, 50.0])`.\n",
    "\n",
    "#### Objective\n",
    "\n",
    "The objective is the value returned by the `training_objective()` function.  \n",
    "In our case, this corresponds to the **validation RMSE**: the lower it is, the better the configuration.\n",
    "\n",
    "Since Optuna uses this value to guide the optimization process, the `training_objective()` function must always return a single numeric score — here, the RMSE — so Optuna can correctly compare and rank different trials."
   ]
  },
  {
   "cell_type": "markdown",
   "id": "da214f2c",
   "metadata": {},
   "source": [
    "## 2. First touch with Optuna for optimization"
   ]
  },
  {
   "cell_type": "markdown",
   "id": "606eb47e",
   "metadata": {},
   "source": [
    "So we have defined both our sample space and our objective. ✅\n",
    "\n",
    "### Creating and Running the Optuna Study\n",
    "\n",
    "We can now **create and run the Optuna study** to start hyperparameter optimization.\n",
    "\n",
    "We use `optuna.create_study()` and specify:\n",
    "- the **study name**,\n",
    "- the **optimization direction** (**\"minimize\"** since we aim for the lowest RMSE),\n",
    "- and the **sampler** that explores the search space.\n",
    "\n",
    "In this example, we use the **TPE (Tree-structured Parzen Estimator) sampler**.  \n",
    "We set a random seed for reproducibility and `n_startup_trials=10`, so the first 10 trials are sampled randomly before the TPE model begins exploiting previous results.  \n",
    "We also set `multivariate=True` to allow Optuna to capture potential interactions between hyperparameters. See [here](https://medium.com/optuna/multivariate-tpe-makes-optuna-even-more-powerful-63c4bfbaebe2) for more information\n",
    "\n",
    "📚 Further information about the TPE algorithm can be found [here](https://arxiv.org/abs/2304.11127).\n",
    "\n",
    "Finally, we run the optimization with `study.optimize()`, passing our `training_objective` function and the number of trials to execute.\n"
   ]
  },
  {
   "cell_type": "code",
   "execution_count": 28,
   "id": "70a0736a",
   "metadata": {},
   "outputs": [
    {
     "name": "stderr",
     "output_type": "stream",
     "text": [
      "/Users/jpusuga/Library/CloudStorage/OneDrive-Personnel/workshops/workshop-robust-hyperparam-tuning/.venv/lib/python3.13/site-packages/optuna/_experimental.py:32: ExperimentalWarning:\n",
      "\n",
      "Argument ``multivariate`` is an experimental feature. The interface can change in the future.\n",
      "\n",
      "[I 2025-10-24 19:09:03,418] A new study created in memory with name: basic_hgb_opt\n",
      "[I 2025-10-24 19:09:03,695] Trial 0 finished with value: 116.45111295279241 and parameters: {'max_depth': 8, 'learning_rate': 0.6436364315084161, 'l2_regularization': 0.0}. Best is trial 0 with value: 116.45111295279241.\n",
      "[I 2025-10-24 19:09:04,294] Trial 1 finished with value: 106.64345657837573 and parameters: {'max_depth': 18, 'learning_rate': 0.05968147125797707, 'l2_regularization': 1.0}. Best is trial 1 with value: 106.64345657837573.\n",
      "[I 2025-10-24 19:09:04,577] Trial 2 finished with value: 187.54770248100584 and parameters: {'max_depth': 4, 'learning_rate': 0.003481940932030817, 'l2_regularization': 50.0}. Best is trial 1 with value: 106.64345657837573.\n",
      "[I 2025-10-24 19:09:04,771] Trial 3 finished with value: 169.60875747445698 and parameters: {'max_depth': 3, 'learning_rate': 0.007295686093122071, 'l2_regularization': 1.0}. Best is trial 1 with value: 106.64345657837573.\n",
      "[I 2025-10-24 19:09:05,353] Trial 4 finished with value: 204.30634487071012 and parameters: {'max_depth': 12, 'learning_rate': 0.0013715946543834, 'l2_regularization': 50.0}. Best is trial 1 with value: 106.64345657837573.\n",
      "[I 2025-10-24 19:09:05,919] Trial 5 finished with value: 151.83548391492607 and parameters: {'max_depth': 17, 'learning_rate': 0.007941507417113072, 'l2_regularization': 0.1}. Best is trial 1 with value: 106.64345657837573.\n",
      "[I 2025-10-24 19:09:06,034] Trial 6 finished with value: 118.10157566212587 and parameters: {'max_depth': 1, 'learning_rate': 0.4856830940160751, 'l2_regularization': 0.1}. Best is trial 1 with value: 106.64345657837573.\n",
      "[I 2025-10-24 19:09:06,159] Trial 7 finished with value: 115.39004957560152 and parameters: {'max_depth': 4, 'learning_rate': 0.7317927858928183, 'l2_regularization': 0.1}. Best is trial 1 with value: 106.64345657837573.\n",
      "[I 2025-10-24 19:09:06,307] Trial 8 finished with value: 197.91657752729296 and parameters: {'max_depth': 2, 'learning_rate': 0.0037929830616928737, 'l2_regularization': 50.0}. Best is trial 1 with value: 106.64345657837573.\n",
      "[I 2025-10-24 19:09:06,876] Trial 9 finished with value: 163.76106186541762 and parameters: {'max_depth': 8, 'learning_rate': 0.0067600307410323295, 'l2_regularization': 50.0}. Best is trial 1 with value: 106.64345657837573.\n",
      "[I 2025-10-24 19:09:07,242] Trial 10 finished with value: 107.25766201718629 and parameters: {'max_depth': 18, 'learning_rate': 0.1848970871985383, 'l2_regularization': 1.0}. Best is trial 1 with value: 106.64345657837573.\n",
      "[I 2025-10-24 19:09:07,769] Trial 11 finished with value: 106.86579840666481 and parameters: {'max_depth': 19, 'learning_rate': 0.13879350931215192, 'l2_regularization': 1.0}. Best is trial 1 with value: 106.64345657837573.\n",
      "[I 2025-10-24 19:09:08,374] Trial 12 finished with value: 114.92978892268198 and parameters: {'max_depth': 17, 'learning_rate': 0.025059371248829204, 'l2_regularization': 1.0}. Best is trial 1 with value: 106.64345657837573.\n",
      "[I 2025-10-24 19:09:08,987] Trial 13 finished with value: 106.51426156672777 and parameters: {'max_depth': 10, 'learning_rate': 0.08594758404940435, 'l2_regularization': 1.0}. Best is trial 13 with value: 106.51426156672777.\n",
      "[I 2025-10-24 19:09:09,565] Trial 14 finished with value: 109.08550411279977 and parameters: {'max_depth': 10, 'learning_rate': 0.03972684339331107, 'l2_regularization': 1.0}. Best is trial 13 with value: 106.51426156672777.\n",
      "[I 2025-10-24 19:09:09,876] Trial 15 finished with value: 109.51049774833909 and parameters: {'max_depth': 14, 'learning_rate': 0.30759256231299137, 'l2_regularization': 50.0}. Best is trial 13 with value: 106.51426156672777.\n",
      "[I 2025-10-24 19:09:10,081] Trial 16 finished with value: 110.33462771854597 and parameters: {'max_depth': 11, 'learning_rate': 0.33921584757580836, 'l2_regularization': 1.0}. Best is trial 13 with value: 106.51426156672777.\n",
      "[I 2025-10-24 19:09:10,223] Trial 17 finished with value: 120.48488649594803 and parameters: {'max_depth': 2, 'learning_rate': 0.06267790206576238, 'l2_regularization': 10.0}. Best is trial 13 with value: 106.51426156672777.\n",
      "[I 2025-10-24 19:09:10,789] Trial 18 finished with value: 114.00868465158658 and parameters: {'max_depth': 20, 'learning_rate': 0.0356624848244312, 'l2_regularization': 50.0}. Best is trial 13 with value: 106.51426156672777.\n",
      "[I 2025-10-24 19:09:11,423] Trial 19 finished with value: 146.9471804899667 and parameters: {'max_depth': 15, 'learning_rate': 0.009405098801224582, 'l2_regularization': 10.0}. Best is trial 13 with value: 106.51426156672777.\n",
      "[I 2025-10-24 19:09:12,015] Trial 20 finished with value: 184.41684714976773 and parameters: {'max_depth': 20, 'learning_rate': 0.0032053017593866354, 'l2_regularization': 1.0}. Best is trial 13 with value: 106.51426156672777.\n",
      "[I 2025-10-24 19:09:12,197] Trial 21 finished with value: 110.71081322294846 and parameters: {'max_depth': 19, 'learning_rate': 0.46167920059998824, 'l2_regularization': 0.1}. Best is trial 13 with value: 106.51426156672777.\n",
      "[I 2025-10-24 19:09:12,774] Trial 22 finished with value: 106.23972805435125 and parameters: {'max_depth': 20, 'learning_rate': 0.10703725712140856, 'l2_regularization': 0.0}. Best is trial 22 with value: 106.23972805435125.\n",
      "[I 2025-10-24 19:09:13,348] Trial 23 finished with value: 107.00563833342714 and parameters: {'max_depth': 14, 'learning_rate': 0.06738879842069814, 'l2_regularization': 0.0}. Best is trial 22 with value: 106.23972805435125.\n",
      "[I 2025-10-24 19:09:13,936] Trial 24 finished with value: 113.24731812309949 and parameters: {'max_depth': 20, 'learning_rate': 0.02735989115210933, 'l2_regularization': 0.0}. Best is trial 22 with value: 106.23972805435125.\n",
      "[I 2025-10-24 19:09:14,560] Trial 25 finished with value: 107.27327671081083 and parameters: {'max_depth': 19, 'learning_rate': 0.09040703862515968, 'l2_regularization': 10.0}. Best is trial 22 with value: 106.23972805435125.\n",
      "[I 2025-10-24 19:09:14,745] Trial 26 finished with value: 111.72621774852716 and parameters: {'max_depth': 20, 'learning_rate': 0.4179705769461756, 'l2_regularization': 0.0}. Best is trial 22 with value: 106.23972805435125.\n",
      "[I 2025-10-24 19:09:15,395] Trial 27 finished with value: 108.43535139980486 and parameters: {'max_depth': 11, 'learning_rate': 0.040852592369190255, 'l2_regularization': 0.1}. Best is trial 22 with value: 106.23972805435125.\n",
      "[I 2025-10-24 19:09:15,668] Trial 28 finished with value: 107.71486909175755 and parameters: {'max_depth': 4, 'learning_rate': 0.07367250670012099, 'l2_regularization': 1.0}. Best is trial 22 with value: 106.23972805435125.\n",
      "[I 2025-10-24 19:09:16,272] Trial 29 finished with value: 206.03853153099905 and parameters: {'max_depth': 7, 'learning_rate': 0.0010712947096278532, 'l2_regularization': 0.0}. Best is trial 22 with value: 106.23972805435125.\n",
      "[I 2025-10-24 19:09:16,839] Trial 30 finished with value: 175.1142546839667 and parameters: {'max_depth': 13, 'learning_rate': 0.004327772983792638, 'l2_regularization': 1.0}. Best is trial 22 with value: 106.23972805435125.\n",
      "[I 2025-10-24 19:09:17,401] Trial 31 finished with value: 106.78871621566827 and parameters: {'max_depth': 20, 'learning_rate': 0.05862814611130388, 'l2_regularization': 1.0}. Best is trial 22 with value: 106.23972805435125.\n",
      "[I 2025-10-24 19:09:17,993] Trial 32 finished with value: 109.56734001614623 and parameters: {'max_depth': 20, 'learning_rate': 0.03783876499948317, 'l2_regularization': 0.1}. Best is trial 22 with value: 106.23972805435125.\n",
      "[I 2025-10-24 19:09:18,675] Trial 33 finished with value: 106.57265016415045 and parameters: {'max_depth': 11, 'learning_rate': 0.0851191478596688, 'l2_regularization': 10.0}. Best is trial 22 with value: 106.23972805435125.\n",
      "[I 2025-10-24 19:09:19,244] Trial 34 finished with value: 106.98485220826815 and parameters: {'max_depth': 12, 'learning_rate': 0.06656301540233617, 'l2_regularization': 10.0}. Best is trial 22 with value: 106.23972805435125.\n",
      "[I 2025-10-24 19:09:19,749] Trial 35 finished with value: 106.62087703317414 and parameters: {'max_depth': 7, 'learning_rate': 0.09738742511013647, 'l2_regularization': 10.0}. Best is trial 22 with value: 106.23972805435125.\n",
      "[I 2025-10-24 19:09:19,913] Trial 36 finished with value: 112.83379568377052 and parameters: {'max_depth': 12, 'learning_rate': 0.4832848165957116, 'l2_regularization': 10.0}. Best is trial 22 with value: 106.23972805435125.\n",
      "[I 2025-10-24 19:09:20,456] Trial 37 finished with value: 108.2216730212735 and parameters: {'max_depth': 7, 'learning_rate': 0.0743129155992462, 'l2_regularization': 50.0}. Best is trial 22 with value: 106.23972805435125.\n",
      "[I 2025-10-24 19:09:20,973] Trial 38 finished with value: 107.36702828324992 and parameters: {'max_depth': 7, 'learning_rate': 0.13245801825215728, 'l2_regularization': 10.0}. Best is trial 22 with value: 106.23972805435125.\n",
      "[I 2025-10-24 19:09:21,579] Trial 39 finished with value: 118.19337653433473 and parameters: {'max_depth': 8, 'learning_rate': 0.022672890677354895, 'l2_regularization': 10.0}. Best is trial 22 with value: 106.23972805435125.\n",
      "[I 2025-10-24 19:09:22,203] Trial 40 finished with value: 128.00355516654767 and parameters: {'max_depth': 10, 'learning_rate': 0.014918659722108598, 'l2_regularization': 0.0}. Best is trial 22 with value: 106.23972805435125.\n",
      "[I 2025-10-24 19:09:22,810] Trial 41 finished with value: 106.81958041167422 and parameters: {'max_depth': 12, 'learning_rate': 0.06841733379649337, 'l2_regularization': 1.0}. Best is trial 22 with value: 106.23972805435125.\n",
      "[I 2025-10-24 19:09:23,285] Trial 42 finished with value: 106.63196978347527 and parameters: {'max_depth': 17, 'learning_rate': 0.10959314366291745, 'l2_regularization': 0.0}. Best is trial 22 with value: 106.23972805435125.\n",
      "[I 2025-10-24 19:09:23,785] Trial 43 finished with value: 106.32932502326777 and parameters: {'max_depth': 18, 'learning_rate': 0.14124914813455888, 'l2_regularization': 0.0}. Best is trial 22 with value: 106.23972805435125.\n",
      "[I 2025-10-24 19:09:24,105] Trial 44 finished with value: 107.38123619574282 and parameters: {'max_depth': 7, 'learning_rate': 0.1852644599694422, 'l2_regularization': 0.0}. Best is trial 22 with value: 106.23972805435125.\n",
      "[I 2025-10-24 19:09:24,540] Trial 45 finished with value: 107.11109356303018 and parameters: {'max_depth': 18, 'learning_rate': 0.10543009476990717, 'l2_regularization': 0.0}. Best is trial 22 with value: 106.23972805435125.\n",
      "[I 2025-10-24 19:09:24,718] Trial 46 finished with value: 114.52462122214982 and parameters: {'max_depth': 13, 'learning_rate': 0.5552817791074284, 'l2_regularization': 0.0}. Best is trial 22 with value: 106.23972805435125.\n",
      "[I 2025-10-24 19:09:25,292] Trial 47 finished with value: 108.01266162999403 and parameters: {'max_depth': 11, 'learning_rate': 0.050724294293077225, 'l2_regularization': 10.0}. Best is trial 22 with value: 106.23972805435125.\n",
      "[I 2025-10-24 19:09:25,474] Trial 48 finished with value: 113.49816113862987 and parameters: {'max_depth': 6, 'learning_rate': 0.5347089656296462, 'l2_regularization': 10.0}. Best is trial 22 with value: 106.23972805435125.\n",
      "[I 2025-10-24 19:09:25,770] Trial 49 finished with value: 108.27669857190796 and parameters: {'max_depth': 20, 'learning_rate': 0.20151228966414866, 'l2_regularization': 0.0}. Best is trial 22 with value: 106.23972805435125.\n"
     ]
    }
   ],
   "source": [
    "from optuna.samplers import TPESampler\n",
    "\n",
    "study = optuna.create_study(study_name=\"basic_hgb_opt\",\n",
    "                            direction=\"minimize\",\n",
    "                            sampler=TPESampler(\n",
    "                                seed=42,\n",
    "                                n_startup_trials=10,\n",
    "                                multivariate=True)\n",
    "                            )\n",
    "\n",
    "study.optimize(training_objective, n_trials=50)"
   ]
  },
  {
   "cell_type": "markdown",
   "id": "f2646f64",
   "metadata": {},
   "source": [
    "Now that the optimization is complete, we select the **best hyperparameter configuration** found by Optuna.  \n",
    "We then train a model using these hyperparameters on the **combined training and validation sets** and evaluate its performance on the **test set** to obtain an unbiased estimate of its generalization ability."
   ]
  },
  {
   "cell_type": "code",
   "execution_count": 29,
   "id": "e1c154f6",
   "metadata": {},
   "outputs": [
    {
     "name": "stdout",
     "output_type": "stream",
     "text": [
      "Best hyperparameters: {'max_depth': 20, 'learning_rate': 0.10703725712140856, 'l2_regularization': 0.0}\n",
      "Big Train RMSE: 87.59179936929753\n",
      "Test RMSE: 102.77172642439498\n"
     ]
    }
   ],
   "source": [
    "# Train final model with best hyperparameters\n",
    "best_params = study.best_params\n",
    "print(f\"Best hyperparameters: {best_params}\")\n",
    "final_model = HistGradientBoostingRegressor(**best_params, random_state=42)\n",
    "\n",
    "final_model.fit(X_big_train, y_big_train)\n",
    "test_predictions = final_model.predict(X_test)\n",
    "big_train_predictions = final_model.predict(X_big_train)\n",
    "big_train_rmse = root_mean_squared_error(y_true=y_big_train, y_pred=big_train_predictions)\n",
    "print(f\"Big Train RMSE: {big_train_rmse}\")\n",
    "test_rmse = root_mean_squared_error(y_true=y_test, y_pred=test_predictions)\n",
    "print(f\"Test RMSE: {test_rmse}\")"
   ]
  },
  {
   "cell_type": "markdown",
   "id": "0a969fc7",
   "metadata": {},
   "source": [
    "We can examine the **best hyperparameter configuration** along with the **training and test scores**.  \n",
    "These results indicate that there is overfitting, which we will attempt to reduce in the assignment."
   ]
  },
  {
   "cell_type": "markdown",
   "id": "80f4706d",
   "metadata": {},
   "source": [
    "## 3. Analyzing the optimization results"
   ]
  },
  {
   "cell_type": "markdown",
   "id": "f8d0a73e",
   "metadata": {},
   "source": [
    "We now have a trained model, but several questions about the optimization process may arise, such as:\n",
    "\n",
    "1. How did the model performance evolve across the trials?\n",
    "2. Which hyperparameters had the greatest impact on the defined objective?\n",
    "3. How relevant was the definition of the search space?\n",
    "\n",
    "In this section, we will present techniques and visualizations to help answer these questions.\n",
    "\n",
    "---"
   ]
  },
  {
   "cell_type": "markdown",
   "id": "af035100",
   "metadata": {},
   "source": [
    "1. **How did the model performance evolve across the trials?**\n",
    "\n",
    "To answer this question, we use the `optuna.visualization.plot_optimization_history()` function.  \n",
    "It allows us to visualize how the **objective value** and the **best score so far** evolved over the course of the trials, giving insight into the convergence and efficiency of the optimization process."
   ]
  },
  {
   "cell_type": "code",
   "execution_count": 30,
   "id": "6eb3c78b",
   "metadata": {},
   "outputs": [
    {
     "data": {
      "application/vnd.plotly.v1+json": {
       "config": {
        "plotlyServerURL": "https://plot.ly"
       },
       "data": [
        {
         "mode": "markers",
         "name": "Validation RMSE",
         "type": "scatter",
         "x": [
          0,
          1,
          2,
          3,
          4,
          5,
          6,
          7,
          8,
          9,
          10,
          11,
          12,
          13,
          14,
          15,
          16,
          17,
          18,
          19,
          20,
          21,
          22,
          23,
          24,
          25,
          26,
          27,
          28,
          29,
          30,
          31,
          32,
          33,
          34,
          35,
          36,
          37,
          38,
          39,
          40,
          41,
          42,
          43,
          44,
          45,
          46,
          47,
          48,
          49
         ],
         "y": [
          116.45111295279241,
          106.64345657837573,
          187.54770248100584,
          169.60875747445698,
          204.30634487071012,
          151.83548391492607,
          118.10157566212587,
          115.39004957560152,
          197.91657752729296,
          163.76106186541762,
          107.25766201718629,
          106.86579840666481,
          114.92978892268198,
          106.51426156672777,
          109.08550411279977,
          109.51049774833909,
          110.33462771854597,
          120.48488649594803,
          114.00868465158658,
          146.9471804899667,
          184.41684714976773,
          110.71081322294846,
          106.23972805435125,
          107.00563833342714,
          113.24731812309949,
          107.27327671081083,
          111.72621774852716,
          108.43535139980486,
          107.71486909175755,
          206.03853153099905,
          175.1142546839667,
          106.78871621566827,
          109.56734001614623,
          106.57265016415045,
          106.98485220826815,
          106.62087703317414,
          112.83379568377052,
          108.2216730212735,
          107.36702828324992,
          118.19337653433473,
          128.00355516654767,
          106.81958041167422,
          106.63196978347527,
          106.32932502326777,
          107.38123619574282,
          107.11109356303018,
          114.52462122214982,
          108.01266162999403,
          113.49816113862987,
          108.27669857190796
         ]
        },
        {
         "mode": "lines",
         "name": "Best Value",
         "type": "scatter",
         "x": [
          0,
          1,
          2,
          3,
          4,
          5,
          6,
          7,
          8,
          9,
          10,
          11,
          12,
          13,
          14,
          15,
          16,
          17,
          18,
          19,
          20,
          21,
          22,
          23,
          24,
          25,
          26,
          27,
          28,
          29,
          30,
          31,
          32,
          33,
          34,
          35,
          36,
          37,
          38,
          39,
          40,
          41,
          42,
          43,
          44,
          45,
          46,
          47,
          48,
          49
         ],
         "y": [
          116.45111295279241,
          106.64345657837573,
          106.64345657837573,
          106.64345657837573,
          106.64345657837573,
          106.64345657837573,
          106.64345657837573,
          106.64345657837573,
          106.64345657837573,
          106.64345657837573,
          106.64345657837573,
          106.64345657837573,
          106.64345657837573,
          106.51426156672777,
          106.51426156672777,
          106.51426156672777,
          106.51426156672777,
          106.51426156672777,
          106.51426156672777,
          106.51426156672777,
          106.51426156672777,
          106.51426156672777,
          106.23972805435125,
          106.23972805435125,
          106.23972805435125,
          106.23972805435125,
          106.23972805435125,
          106.23972805435125,
          106.23972805435125,
          106.23972805435125,
          106.23972805435125,
          106.23972805435125,
          106.23972805435125,
          106.23972805435125,
          106.23972805435125,
          106.23972805435125,
          106.23972805435125,
          106.23972805435125,
          106.23972805435125,
          106.23972805435125,
          106.23972805435125,
          106.23972805435125,
          106.23972805435125,
          106.23972805435125,
          106.23972805435125,
          106.23972805435125,
          106.23972805435125,
          106.23972805435125,
          106.23972805435125,
          106.23972805435125
         ]
        },
        {
         "marker": {
          "color": "#cccccc"
         },
         "mode": "markers",
         "name": "Infeasible Trial",
         "showlegend": false,
         "type": "scatter",
         "x": [],
         "y": []
        }
       ],
       "layout": {
        "template": {
         "data": {
          "bar": [
           {
            "error_x": {
             "color": "#2a3f5f"
            },
            "error_y": {
             "color": "#2a3f5f"
            },
            "marker": {
             "line": {
              "color": "#E5ECF6",
              "width": 0.5
             },
             "pattern": {
              "fillmode": "overlay",
              "size": 10,
              "solidity": 0.2
             }
            },
            "type": "bar"
           }
          ],
          "barpolar": [
           {
            "marker": {
             "line": {
              "color": "#E5ECF6",
              "width": 0.5
             },
             "pattern": {
              "fillmode": "overlay",
              "size": 10,
              "solidity": 0.2
             }
            },
            "type": "barpolar"
           }
          ],
          "carpet": [
           {
            "aaxis": {
             "endlinecolor": "#2a3f5f",
             "gridcolor": "white",
             "linecolor": "white",
             "minorgridcolor": "white",
             "startlinecolor": "#2a3f5f"
            },
            "baxis": {
             "endlinecolor": "#2a3f5f",
             "gridcolor": "white",
             "linecolor": "white",
             "minorgridcolor": "white",
             "startlinecolor": "#2a3f5f"
            },
            "type": "carpet"
           }
          ],
          "choropleth": [
           {
            "colorbar": {
             "outlinewidth": 0,
             "ticks": ""
            },
            "type": "choropleth"
           }
          ],
          "contour": [
           {
            "colorbar": {
             "outlinewidth": 0,
             "ticks": ""
            },
            "colorscale": [
             [
              0,
              "#0d0887"
             ],
             [
              0.1111111111111111,
              "#46039f"
             ],
             [
              0.2222222222222222,
              "#7201a8"
             ],
             [
              0.3333333333333333,
              "#9c179e"
             ],
             [
              0.4444444444444444,
              "#bd3786"
             ],
             [
              0.5555555555555556,
              "#d8576b"
             ],
             [
              0.6666666666666666,
              "#ed7953"
             ],
             [
              0.7777777777777778,
              "#fb9f3a"
             ],
             [
              0.8888888888888888,
              "#fdca26"
             ],
             [
              1,
              "#f0f921"
             ]
            ],
            "type": "contour"
           }
          ],
          "contourcarpet": [
           {
            "colorbar": {
             "outlinewidth": 0,
             "ticks": ""
            },
            "type": "contourcarpet"
           }
          ],
          "heatmap": [
           {
            "colorbar": {
             "outlinewidth": 0,
             "ticks": ""
            },
            "colorscale": [
             [
              0,
              "#0d0887"
             ],
             [
              0.1111111111111111,
              "#46039f"
             ],
             [
              0.2222222222222222,
              "#7201a8"
             ],
             [
              0.3333333333333333,
              "#9c179e"
             ],
             [
              0.4444444444444444,
              "#bd3786"
             ],
             [
              0.5555555555555556,
              "#d8576b"
             ],
             [
              0.6666666666666666,
              "#ed7953"
             ],
             [
              0.7777777777777778,
              "#fb9f3a"
             ],
             [
              0.8888888888888888,
              "#fdca26"
             ],
             [
              1,
              "#f0f921"
             ]
            ],
            "type": "heatmap"
           }
          ],
          "histogram": [
           {
            "marker": {
             "pattern": {
              "fillmode": "overlay",
              "size": 10,
              "solidity": 0.2
             }
            },
            "type": "histogram"
           }
          ],
          "histogram2d": [
           {
            "colorbar": {
             "outlinewidth": 0,
             "ticks": ""
            },
            "colorscale": [
             [
              0,
              "#0d0887"
             ],
             [
              0.1111111111111111,
              "#46039f"
             ],
             [
              0.2222222222222222,
              "#7201a8"
             ],
             [
              0.3333333333333333,
              "#9c179e"
             ],
             [
              0.4444444444444444,
              "#bd3786"
             ],
             [
              0.5555555555555556,
              "#d8576b"
             ],
             [
              0.6666666666666666,
              "#ed7953"
             ],
             [
              0.7777777777777778,
              "#fb9f3a"
             ],
             [
              0.8888888888888888,
              "#fdca26"
             ],
             [
              1,
              "#f0f921"
             ]
            ],
            "type": "histogram2d"
           }
          ],
          "histogram2dcontour": [
           {
            "colorbar": {
             "outlinewidth": 0,
             "ticks": ""
            },
            "colorscale": [
             [
              0,
              "#0d0887"
             ],
             [
              0.1111111111111111,
              "#46039f"
             ],
             [
              0.2222222222222222,
              "#7201a8"
             ],
             [
              0.3333333333333333,
              "#9c179e"
             ],
             [
              0.4444444444444444,
              "#bd3786"
             ],
             [
              0.5555555555555556,
              "#d8576b"
             ],
             [
              0.6666666666666666,
              "#ed7953"
             ],
             [
              0.7777777777777778,
              "#fb9f3a"
             ],
             [
              0.8888888888888888,
              "#fdca26"
             ],
             [
              1,
              "#f0f921"
             ]
            ],
            "type": "histogram2dcontour"
           }
          ],
          "mesh3d": [
           {
            "colorbar": {
             "outlinewidth": 0,
             "ticks": ""
            },
            "type": "mesh3d"
           }
          ],
          "parcoords": [
           {
            "line": {
             "colorbar": {
              "outlinewidth": 0,
              "ticks": ""
             }
            },
            "type": "parcoords"
           }
          ],
          "pie": [
           {
            "automargin": true,
            "type": "pie"
           }
          ],
          "scatter": [
           {
            "fillpattern": {
             "fillmode": "overlay",
             "size": 10,
             "solidity": 0.2
            },
            "type": "scatter"
           }
          ],
          "scatter3d": [
           {
            "line": {
             "colorbar": {
              "outlinewidth": 0,
              "ticks": ""
             }
            },
            "marker": {
             "colorbar": {
              "outlinewidth": 0,
              "ticks": ""
             }
            },
            "type": "scatter3d"
           }
          ],
          "scattercarpet": [
           {
            "marker": {
             "colorbar": {
              "outlinewidth": 0,
              "ticks": ""
             }
            },
            "type": "scattercarpet"
           }
          ],
          "scattergeo": [
           {
            "marker": {
             "colorbar": {
              "outlinewidth": 0,
              "ticks": ""
             }
            },
            "type": "scattergeo"
           }
          ],
          "scattergl": [
           {
            "marker": {
             "colorbar": {
              "outlinewidth": 0,
              "ticks": ""
             }
            },
            "type": "scattergl"
           }
          ],
          "scattermap": [
           {
            "marker": {
             "colorbar": {
              "outlinewidth": 0,
              "ticks": ""
             }
            },
            "type": "scattermap"
           }
          ],
          "scattermapbox": [
           {
            "marker": {
             "colorbar": {
              "outlinewidth": 0,
              "ticks": ""
             }
            },
            "type": "scattermapbox"
           }
          ],
          "scatterpolar": [
           {
            "marker": {
             "colorbar": {
              "outlinewidth": 0,
              "ticks": ""
             }
            },
            "type": "scatterpolar"
           }
          ],
          "scatterpolargl": [
           {
            "marker": {
             "colorbar": {
              "outlinewidth": 0,
              "ticks": ""
             }
            },
            "type": "scatterpolargl"
           }
          ],
          "scatterternary": [
           {
            "marker": {
             "colorbar": {
              "outlinewidth": 0,
              "ticks": ""
             }
            },
            "type": "scatterternary"
           }
          ],
          "surface": [
           {
            "colorbar": {
             "outlinewidth": 0,
             "ticks": ""
            },
            "colorscale": [
             [
              0,
              "#0d0887"
             ],
             [
              0.1111111111111111,
              "#46039f"
             ],
             [
              0.2222222222222222,
              "#7201a8"
             ],
             [
              0.3333333333333333,
              "#9c179e"
             ],
             [
              0.4444444444444444,
              "#bd3786"
             ],
             [
              0.5555555555555556,
              "#d8576b"
             ],
             [
              0.6666666666666666,
              "#ed7953"
             ],
             [
              0.7777777777777778,
              "#fb9f3a"
             ],
             [
              0.8888888888888888,
              "#fdca26"
             ],
             [
              1,
              "#f0f921"
             ]
            ],
            "type": "surface"
           }
          ],
          "table": [
           {
            "cells": {
             "fill": {
              "color": "#EBF0F8"
             },
             "line": {
              "color": "white"
             }
            },
            "header": {
             "fill": {
              "color": "#C8D4E3"
             },
             "line": {
              "color": "white"
             }
            },
            "type": "table"
           }
          ]
         },
         "layout": {
          "annotationdefaults": {
           "arrowcolor": "#2a3f5f",
           "arrowhead": 0,
           "arrowwidth": 1
          },
          "autotypenumbers": "strict",
          "coloraxis": {
           "colorbar": {
            "outlinewidth": 0,
            "ticks": ""
           }
          },
          "colorscale": {
           "diverging": [
            [
             0,
             "#8e0152"
            ],
            [
             0.1,
             "#c51b7d"
            ],
            [
             0.2,
             "#de77ae"
            ],
            [
             0.3,
             "#f1b6da"
            ],
            [
             0.4,
             "#fde0ef"
            ],
            [
             0.5,
             "#f7f7f7"
            ],
            [
             0.6,
             "#e6f5d0"
            ],
            [
             0.7,
             "#b8e186"
            ],
            [
             0.8,
             "#7fbc41"
            ],
            [
             0.9,
             "#4d9221"
            ],
            [
             1,
             "#276419"
            ]
           ],
           "sequential": [
            [
             0,
             "#0d0887"
            ],
            [
             0.1111111111111111,
             "#46039f"
            ],
            [
             0.2222222222222222,
             "#7201a8"
            ],
            [
             0.3333333333333333,
             "#9c179e"
            ],
            [
             0.4444444444444444,
             "#bd3786"
            ],
            [
             0.5555555555555556,
             "#d8576b"
            ],
            [
             0.6666666666666666,
             "#ed7953"
            ],
            [
             0.7777777777777778,
             "#fb9f3a"
            ],
            [
             0.8888888888888888,
             "#fdca26"
            ],
            [
             1,
             "#f0f921"
            ]
           ],
           "sequentialminus": [
            [
             0,
             "#0d0887"
            ],
            [
             0.1111111111111111,
             "#46039f"
            ],
            [
             0.2222222222222222,
             "#7201a8"
            ],
            [
             0.3333333333333333,
             "#9c179e"
            ],
            [
             0.4444444444444444,
             "#bd3786"
            ],
            [
             0.5555555555555556,
             "#d8576b"
            ],
            [
             0.6666666666666666,
             "#ed7953"
            ],
            [
             0.7777777777777778,
             "#fb9f3a"
            ],
            [
             0.8888888888888888,
             "#fdca26"
            ],
            [
             1,
             "#f0f921"
            ]
           ]
          },
          "colorway": [
           "#636efa",
           "#EF553B",
           "#00cc96",
           "#ab63fa",
           "#FFA15A",
           "#19d3f3",
           "#FF6692",
           "#B6E880",
           "#FF97FF",
           "#FECB52"
          ],
          "font": {
           "color": "#2a3f5f"
          },
          "geo": {
           "bgcolor": "white",
           "lakecolor": "white",
           "landcolor": "#E5ECF6",
           "showlakes": true,
           "showland": true,
           "subunitcolor": "white"
          },
          "hoverlabel": {
           "align": "left"
          },
          "hovermode": "closest",
          "mapbox": {
           "style": "light"
          },
          "paper_bgcolor": "white",
          "plot_bgcolor": "#E5ECF6",
          "polar": {
           "angularaxis": {
            "gridcolor": "white",
            "linecolor": "white",
            "ticks": ""
           },
           "bgcolor": "#E5ECF6",
           "radialaxis": {
            "gridcolor": "white",
            "linecolor": "white",
            "ticks": ""
           }
          },
          "scene": {
           "xaxis": {
            "backgroundcolor": "#E5ECF6",
            "gridcolor": "white",
            "gridwidth": 2,
            "linecolor": "white",
            "showbackground": true,
            "ticks": "",
            "zerolinecolor": "white"
           },
           "yaxis": {
            "backgroundcolor": "#E5ECF6",
            "gridcolor": "white",
            "gridwidth": 2,
            "linecolor": "white",
            "showbackground": true,
            "ticks": "",
            "zerolinecolor": "white"
           },
           "zaxis": {
            "backgroundcolor": "#E5ECF6",
            "gridcolor": "white",
            "gridwidth": 2,
            "linecolor": "white",
            "showbackground": true,
            "ticks": "",
            "zerolinecolor": "white"
           }
          },
          "shapedefaults": {
           "line": {
            "color": "#2a3f5f"
           }
          },
          "ternary": {
           "aaxis": {
            "gridcolor": "white",
            "linecolor": "white",
            "ticks": ""
           },
           "baxis": {
            "gridcolor": "white",
            "linecolor": "white",
            "ticks": ""
           },
           "bgcolor": "#E5ECF6",
           "caxis": {
            "gridcolor": "white",
            "linecolor": "white",
            "ticks": ""
           }
          },
          "title": {
           "x": 0.05
          },
          "xaxis": {
           "automargin": true,
           "gridcolor": "white",
           "linecolor": "white",
           "ticks": "",
           "title": {
            "standoff": 15
           },
           "zerolinecolor": "white",
           "zerolinewidth": 2
          },
          "yaxis": {
           "automargin": true,
           "gridcolor": "white",
           "linecolor": "white",
           "ticks": "",
           "title": {
            "standoff": 15
           },
           "zerolinecolor": "white",
           "zerolinewidth": 2
          }
         }
        },
        "title": {
         "text": "Optimization History Plot"
        },
        "xaxis": {
         "title": {
          "text": "Trial"
         }
        },
        "yaxis": {
         "title": {
          "text": "Validation RMSE"
         }
        }
       }
      }
     },
     "metadata": {},
     "output_type": "display_data"
    }
   ],
   "source": [
    "optuna.visualization.plot_optimization_history(study=study, target_name=\"Validation RMSE\")"
   ]
  },
  {
   "cell_type": "markdown",
   "id": "79b70715",
   "metadata": {},
   "source": [
    "We can observe that some trials have a very high error at the beginning, during the **pure exploration stage**.  \n",
    "After these initial trials, the performance improves consistently as Optuna starts exploiting information from previous results. However, the score shows little improvement after around **20 trials**.\n",
    "\n",
    "This graph also helps us assess whether the **number of trials** is sufficient or possibly higher than needed for the optimization to converge."
   ]
  },
  {
   "cell_type": "markdown",
   "id": "fb84b186",
   "metadata": {},
   "source": [
    "2. **Which hyperparameters had the greatest impact on the defined objective?**\n",
    "\n",
    "To answer this, we use `optuna.visualization.plot_param_importances()`.  \n",
    "Under the hood, it relies on a **fANOVA importance evaluator**, which trains a RandomForest to predict the objective scores and identifies the hyperparameters that contributed most to performance variations."
   ]
  },
  {
   "cell_type": "code",
   "execution_count": 31,
   "id": "817c3f38",
   "metadata": {},
   "outputs": [
    {
     "data": {
      "application/vnd.plotly.v1+json": {
       "config": {
        "plotlyServerURL": "https://plot.ly"
       },
       "data": [
        {
         "cliponaxis": false,
         "hovertemplate": [
          "l2_regularization (CategoricalDistribution): 0.0032302405913427193<extra></extra>",
          "max_depth (IntDistribution): 0.05984327187325235<extra></extra>",
          "learning_rate (FloatDistribution): 0.9369264875354049<extra></extra>"
         ],
         "name": "Objective Value",
         "orientation": "h",
         "text": [
          "<0.01",
          "0.06",
          "0.94"
         ],
         "textposition": "outside",
         "type": "bar",
         "x": [
          0.0032302405913427193,
          0.05984327187325235,
          0.9369264875354049
         ],
         "y": [
          "l2_regularization",
          "max_depth",
          "learning_rate"
         ]
        }
       ],
       "layout": {
        "template": {
         "data": {
          "bar": [
           {
            "error_x": {
             "color": "#2a3f5f"
            },
            "error_y": {
             "color": "#2a3f5f"
            },
            "marker": {
             "line": {
              "color": "#E5ECF6",
              "width": 0.5
             },
             "pattern": {
              "fillmode": "overlay",
              "size": 10,
              "solidity": 0.2
             }
            },
            "type": "bar"
           }
          ],
          "barpolar": [
           {
            "marker": {
             "line": {
              "color": "#E5ECF6",
              "width": 0.5
             },
             "pattern": {
              "fillmode": "overlay",
              "size": 10,
              "solidity": 0.2
             }
            },
            "type": "barpolar"
           }
          ],
          "carpet": [
           {
            "aaxis": {
             "endlinecolor": "#2a3f5f",
             "gridcolor": "white",
             "linecolor": "white",
             "minorgridcolor": "white",
             "startlinecolor": "#2a3f5f"
            },
            "baxis": {
             "endlinecolor": "#2a3f5f",
             "gridcolor": "white",
             "linecolor": "white",
             "minorgridcolor": "white",
             "startlinecolor": "#2a3f5f"
            },
            "type": "carpet"
           }
          ],
          "choropleth": [
           {
            "colorbar": {
             "outlinewidth": 0,
             "ticks": ""
            },
            "type": "choropleth"
           }
          ],
          "contour": [
           {
            "colorbar": {
             "outlinewidth": 0,
             "ticks": ""
            },
            "colorscale": [
             [
              0,
              "#0d0887"
             ],
             [
              0.1111111111111111,
              "#46039f"
             ],
             [
              0.2222222222222222,
              "#7201a8"
             ],
             [
              0.3333333333333333,
              "#9c179e"
             ],
             [
              0.4444444444444444,
              "#bd3786"
             ],
             [
              0.5555555555555556,
              "#d8576b"
             ],
             [
              0.6666666666666666,
              "#ed7953"
             ],
             [
              0.7777777777777778,
              "#fb9f3a"
             ],
             [
              0.8888888888888888,
              "#fdca26"
             ],
             [
              1,
              "#f0f921"
             ]
            ],
            "type": "contour"
           }
          ],
          "contourcarpet": [
           {
            "colorbar": {
             "outlinewidth": 0,
             "ticks": ""
            },
            "type": "contourcarpet"
           }
          ],
          "heatmap": [
           {
            "colorbar": {
             "outlinewidth": 0,
             "ticks": ""
            },
            "colorscale": [
             [
              0,
              "#0d0887"
             ],
             [
              0.1111111111111111,
              "#46039f"
             ],
             [
              0.2222222222222222,
              "#7201a8"
             ],
             [
              0.3333333333333333,
              "#9c179e"
             ],
             [
              0.4444444444444444,
              "#bd3786"
             ],
             [
              0.5555555555555556,
              "#d8576b"
             ],
             [
              0.6666666666666666,
              "#ed7953"
             ],
             [
              0.7777777777777778,
              "#fb9f3a"
             ],
             [
              0.8888888888888888,
              "#fdca26"
             ],
             [
              1,
              "#f0f921"
             ]
            ],
            "type": "heatmap"
           }
          ],
          "histogram": [
           {
            "marker": {
             "pattern": {
              "fillmode": "overlay",
              "size": 10,
              "solidity": 0.2
             }
            },
            "type": "histogram"
           }
          ],
          "histogram2d": [
           {
            "colorbar": {
             "outlinewidth": 0,
             "ticks": ""
            },
            "colorscale": [
             [
              0,
              "#0d0887"
             ],
             [
              0.1111111111111111,
              "#46039f"
             ],
             [
              0.2222222222222222,
              "#7201a8"
             ],
             [
              0.3333333333333333,
              "#9c179e"
             ],
             [
              0.4444444444444444,
              "#bd3786"
             ],
             [
              0.5555555555555556,
              "#d8576b"
             ],
             [
              0.6666666666666666,
              "#ed7953"
             ],
             [
              0.7777777777777778,
              "#fb9f3a"
             ],
             [
              0.8888888888888888,
              "#fdca26"
             ],
             [
              1,
              "#f0f921"
             ]
            ],
            "type": "histogram2d"
           }
          ],
          "histogram2dcontour": [
           {
            "colorbar": {
             "outlinewidth": 0,
             "ticks": ""
            },
            "colorscale": [
             [
              0,
              "#0d0887"
             ],
             [
              0.1111111111111111,
              "#46039f"
             ],
             [
              0.2222222222222222,
              "#7201a8"
             ],
             [
              0.3333333333333333,
              "#9c179e"
             ],
             [
              0.4444444444444444,
              "#bd3786"
             ],
             [
              0.5555555555555556,
              "#d8576b"
             ],
             [
              0.6666666666666666,
              "#ed7953"
             ],
             [
              0.7777777777777778,
              "#fb9f3a"
             ],
             [
              0.8888888888888888,
              "#fdca26"
             ],
             [
              1,
              "#f0f921"
             ]
            ],
            "type": "histogram2dcontour"
           }
          ],
          "mesh3d": [
           {
            "colorbar": {
             "outlinewidth": 0,
             "ticks": ""
            },
            "type": "mesh3d"
           }
          ],
          "parcoords": [
           {
            "line": {
             "colorbar": {
              "outlinewidth": 0,
              "ticks": ""
             }
            },
            "type": "parcoords"
           }
          ],
          "pie": [
           {
            "automargin": true,
            "type": "pie"
           }
          ],
          "scatter": [
           {
            "fillpattern": {
             "fillmode": "overlay",
             "size": 10,
             "solidity": 0.2
            },
            "type": "scatter"
           }
          ],
          "scatter3d": [
           {
            "line": {
             "colorbar": {
              "outlinewidth": 0,
              "ticks": ""
             }
            },
            "marker": {
             "colorbar": {
              "outlinewidth": 0,
              "ticks": ""
             }
            },
            "type": "scatter3d"
           }
          ],
          "scattercarpet": [
           {
            "marker": {
             "colorbar": {
              "outlinewidth": 0,
              "ticks": ""
             }
            },
            "type": "scattercarpet"
           }
          ],
          "scattergeo": [
           {
            "marker": {
             "colorbar": {
              "outlinewidth": 0,
              "ticks": ""
             }
            },
            "type": "scattergeo"
           }
          ],
          "scattergl": [
           {
            "marker": {
             "colorbar": {
              "outlinewidth": 0,
              "ticks": ""
             }
            },
            "type": "scattergl"
           }
          ],
          "scattermap": [
           {
            "marker": {
             "colorbar": {
              "outlinewidth": 0,
              "ticks": ""
             }
            },
            "type": "scattermap"
           }
          ],
          "scattermapbox": [
           {
            "marker": {
             "colorbar": {
              "outlinewidth": 0,
              "ticks": ""
             }
            },
            "type": "scattermapbox"
           }
          ],
          "scatterpolar": [
           {
            "marker": {
             "colorbar": {
              "outlinewidth": 0,
              "ticks": ""
             }
            },
            "type": "scatterpolar"
           }
          ],
          "scatterpolargl": [
           {
            "marker": {
             "colorbar": {
              "outlinewidth": 0,
              "ticks": ""
             }
            },
            "type": "scatterpolargl"
           }
          ],
          "scatterternary": [
           {
            "marker": {
             "colorbar": {
              "outlinewidth": 0,
              "ticks": ""
             }
            },
            "type": "scatterternary"
           }
          ],
          "surface": [
           {
            "colorbar": {
             "outlinewidth": 0,
             "ticks": ""
            },
            "colorscale": [
             [
              0,
              "#0d0887"
             ],
             [
              0.1111111111111111,
              "#46039f"
             ],
             [
              0.2222222222222222,
              "#7201a8"
             ],
             [
              0.3333333333333333,
              "#9c179e"
             ],
             [
              0.4444444444444444,
              "#bd3786"
             ],
             [
              0.5555555555555556,
              "#d8576b"
             ],
             [
              0.6666666666666666,
              "#ed7953"
             ],
             [
              0.7777777777777778,
              "#fb9f3a"
             ],
             [
              0.8888888888888888,
              "#fdca26"
             ],
             [
              1,
              "#f0f921"
             ]
            ],
            "type": "surface"
           }
          ],
          "table": [
           {
            "cells": {
             "fill": {
              "color": "#EBF0F8"
             },
             "line": {
              "color": "white"
             }
            },
            "header": {
             "fill": {
              "color": "#C8D4E3"
             },
             "line": {
              "color": "white"
             }
            },
            "type": "table"
           }
          ]
         },
         "layout": {
          "annotationdefaults": {
           "arrowcolor": "#2a3f5f",
           "arrowhead": 0,
           "arrowwidth": 1
          },
          "autotypenumbers": "strict",
          "coloraxis": {
           "colorbar": {
            "outlinewidth": 0,
            "ticks": ""
           }
          },
          "colorscale": {
           "diverging": [
            [
             0,
             "#8e0152"
            ],
            [
             0.1,
             "#c51b7d"
            ],
            [
             0.2,
             "#de77ae"
            ],
            [
             0.3,
             "#f1b6da"
            ],
            [
             0.4,
             "#fde0ef"
            ],
            [
             0.5,
             "#f7f7f7"
            ],
            [
             0.6,
             "#e6f5d0"
            ],
            [
             0.7,
             "#b8e186"
            ],
            [
             0.8,
             "#7fbc41"
            ],
            [
             0.9,
             "#4d9221"
            ],
            [
             1,
             "#276419"
            ]
           ],
           "sequential": [
            [
             0,
             "#0d0887"
            ],
            [
             0.1111111111111111,
             "#46039f"
            ],
            [
             0.2222222222222222,
             "#7201a8"
            ],
            [
             0.3333333333333333,
             "#9c179e"
            ],
            [
             0.4444444444444444,
             "#bd3786"
            ],
            [
             0.5555555555555556,
             "#d8576b"
            ],
            [
             0.6666666666666666,
             "#ed7953"
            ],
            [
             0.7777777777777778,
             "#fb9f3a"
            ],
            [
             0.8888888888888888,
             "#fdca26"
            ],
            [
             1,
             "#f0f921"
            ]
           ],
           "sequentialminus": [
            [
             0,
             "#0d0887"
            ],
            [
             0.1111111111111111,
             "#46039f"
            ],
            [
             0.2222222222222222,
             "#7201a8"
            ],
            [
             0.3333333333333333,
             "#9c179e"
            ],
            [
             0.4444444444444444,
             "#bd3786"
            ],
            [
             0.5555555555555556,
             "#d8576b"
            ],
            [
             0.6666666666666666,
             "#ed7953"
            ],
            [
             0.7777777777777778,
             "#fb9f3a"
            ],
            [
             0.8888888888888888,
             "#fdca26"
            ],
            [
             1,
             "#f0f921"
            ]
           ]
          },
          "colorway": [
           "#636efa",
           "#EF553B",
           "#00cc96",
           "#ab63fa",
           "#FFA15A",
           "#19d3f3",
           "#FF6692",
           "#B6E880",
           "#FF97FF",
           "#FECB52"
          ],
          "font": {
           "color": "#2a3f5f"
          },
          "geo": {
           "bgcolor": "white",
           "lakecolor": "white",
           "landcolor": "#E5ECF6",
           "showlakes": true,
           "showland": true,
           "subunitcolor": "white"
          },
          "hoverlabel": {
           "align": "left"
          },
          "hovermode": "closest",
          "mapbox": {
           "style": "light"
          },
          "paper_bgcolor": "white",
          "plot_bgcolor": "#E5ECF6",
          "polar": {
           "angularaxis": {
            "gridcolor": "white",
            "linecolor": "white",
            "ticks": ""
           },
           "bgcolor": "#E5ECF6",
           "radialaxis": {
            "gridcolor": "white",
            "linecolor": "white",
            "ticks": ""
           }
          },
          "scene": {
           "xaxis": {
            "backgroundcolor": "#E5ECF6",
            "gridcolor": "white",
            "gridwidth": 2,
            "linecolor": "white",
            "showbackground": true,
            "ticks": "",
            "zerolinecolor": "white"
           },
           "yaxis": {
            "backgroundcolor": "#E5ECF6",
            "gridcolor": "white",
            "gridwidth": 2,
            "linecolor": "white",
            "showbackground": true,
            "ticks": "",
            "zerolinecolor": "white"
           },
           "zaxis": {
            "backgroundcolor": "#E5ECF6",
            "gridcolor": "white",
            "gridwidth": 2,
            "linecolor": "white",
            "showbackground": true,
            "ticks": "",
            "zerolinecolor": "white"
           }
          },
          "shapedefaults": {
           "line": {
            "color": "#2a3f5f"
           }
          },
          "ternary": {
           "aaxis": {
            "gridcolor": "white",
            "linecolor": "white",
            "ticks": ""
           },
           "baxis": {
            "gridcolor": "white",
            "linecolor": "white",
            "ticks": ""
           },
           "bgcolor": "#E5ECF6",
           "caxis": {
            "gridcolor": "white",
            "linecolor": "white",
            "ticks": ""
           }
          },
          "title": {
           "x": 0.05
          },
          "xaxis": {
           "automargin": true,
           "gridcolor": "white",
           "linecolor": "white",
           "ticks": "",
           "title": {
            "standoff": 15
           },
           "zerolinecolor": "white",
           "zerolinewidth": 2
          },
          "yaxis": {
           "automargin": true,
           "gridcolor": "white",
           "linecolor": "white",
           "ticks": "",
           "title": {
            "standoff": 15
           },
           "zerolinecolor": "white",
           "zerolinewidth": 2
          }
         }
        },
        "title": {
         "text": "Hyperparameter Importances"
        },
        "xaxis": {
         "title": {
          "text": "Hyperparameter Importance"
         }
        },
        "yaxis": {
         "title": {
          "text": "Hyperparameter"
         }
        }
       }
      }
     },
     "metadata": {},
     "output_type": "display_data"
    }
   ],
   "source": [
    "optuna.visualization.plot_param_importances(study=study)"
   ]
  },
  {
   "cell_type": "markdown",
   "id": "f74ae00e",
   "metadata": {},
   "source": [
    "We can see that **`learning_rate`** is by far the most important hyperparameter.  \n",
    "**`max_depth`** ranks second, and **`l2_regularization`** has the least impact on the defined objective."
   ]
  },
  {
   "cell_type": "markdown",
   "id": "52164b2a",
   "metadata": {},
   "source": [
    "**How relevant was the definition of the search space?**\n",
    "\n",
    "To answer this question, we can use `optuna.visualization.plot_contour()`, which generates **contour plots** showing how the objective value varies with different hyperparameter values.\n",
    "\n",
    "By default, the function returns a contour plot for **each pair of hyperparameters**, but you can also provide **specific pairs** to focus on the relationship between particular parameters."
   ]
  },
  {
   "cell_type": "code",
   "execution_count": 32,
   "id": "d357d8ab",
   "metadata": {},
   "outputs": [
    {
     "data": {
      "application/vnd.plotly.v1+json": {
       "config": {
        "plotlyServerURL": "https://plot.ly"
       },
       "data": [
        {
         "type": "scatter",
         "xaxis": "x",
         "yaxis": "y"
        },
        {
         "colorbar": {
          "title": {
           "text": "Objective Value"
          }
         },
         "colorscale": [
          [
           0,
           "rgb(247,251,255)"
          ],
          [
           0.125,
           "rgb(222,235,247)"
          ],
          [
           0.25,
           "rgb(198,219,239)"
          ],
          [
           0.375,
           "rgb(158,202,225)"
          ],
          [
           0.5,
           "rgb(107,174,214)"
          ],
          [
           0.625,
           "rgb(66,146,198)"
          ],
          [
           0.75,
           "rgb(33,113,181)"
          ],
          [
           0.875,
           "rgb(8,81,156)"
          ],
          [
           1,
           "rgb(8,48,107)"
          ]
         ],
         "connectgaps": true,
         "contours": {
          "coloring": "heatmap"
         },
         "hoverinfo": "none",
         "line": {
          "smoothing": 1.3
         },
         "reversescale": true,
         "showscale": true,
         "type": "contour",
         "x": [
          -2.5,
          0,
          0.1,
          1,
          10,
          50,
          52.5
         ],
         "xaxis": "x4",
         "y": [
          0.0007730098039982993,
          0.0010712947096278532,
          0.0013715946543834,
          0.0032053017593866354,
          0.003481940932030817,
          0.0037929830616928737,
          0.004327772983792638,
          0.0067600307410323295,
          0.007295686093122071,
          0.007941507417113072,
          0.009405098801224582,
          0.014918659722108598,
          0.022672890677354895,
          0.025059371248829204,
          0.02735989115210933,
          0.0356624848244312,
          0.03783876499948317,
          0.03972684339331107,
          0.040852592369190255,
          0.050724294293077225,
          0.05862814611130388,
          0.05968147125797707,
          0.06267790206576238,
          0.06656301540233617,
          0.06738879842069814,
          0.06841733379649337,
          0.07367250670012099,
          0.0743129155992462,
          0.0851191478596688,
          0.08594758404940435,
          0.09040703862515968,
          0.09738742511013647,
          0.10543009476990717,
          0.10703725712140856,
          0.10959314366291745,
          0.13245801825215728,
          0.13879350931215192,
          0.14124914813455888,
          0.1848970871985383,
          0.1852644599694422,
          0.20151228966414866,
          0.30759256231299137,
          0.33921584757580836,
          0.4179705769461756,
          0.46167920059998824,
          0.4832848165957116,
          0.4856830940160751,
          0.5347089656296462,
          0.5552817791074284,
          0.6436364315084161,
          0.7317927858928183,
          1.0141730881236395
         ],
         "yaxis": "y4",
         "z": {
          "bdata": "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",
          "dtype": "f8",
          "shape": "52, 7"
         }
        },
        {
         "marker": {
          "color": "black",
          "line": {
           "color": "Gray",
           "width": 2
          }
         },
         "mode": "markers",
         "name": "Feasible Trial",
         "showlegend": false,
         "type": "scatter",
         "x": [
          0,
          1,
          50,
          1,
          50,
          0.1,
          0.1,
          0.1,
          50,
          50,
          1,
          1,
          1,
          1,
          1,
          50,
          1,
          10,
          50,
          10,
          1,
          0.1,
          0,
          0,
          0,
          10,
          0,
          0.1,
          1,
          0,
          1,
          1,
          0.1,
          10,
          10,
          10,
          10,
          50,
          10,
          10,
          0,
          1,
          0,
          0,
          0,
          0,
          0,
          10,
          10,
          0
         ],
         "xaxis": "x4",
         "y": [
          0.6436364315084161,
          0.05968147125797707,
          0.003481940932030817,
          0.007295686093122071,
          0.0013715946543834,
          0.007941507417113072,
          0.4856830940160751,
          0.7317927858928183,
          0.0037929830616928737,
          0.0067600307410323295,
          0.1848970871985383,
          0.13879350931215192,
          0.025059371248829204,
          0.08594758404940435,
          0.03972684339331107,
          0.30759256231299137,
          0.33921584757580836,
          0.06267790206576238,
          0.0356624848244312,
          0.009405098801224582,
          0.0032053017593866354,
          0.46167920059998824,
          0.10703725712140856,
          0.06738879842069814,
          0.02735989115210933,
          0.09040703862515968,
          0.4179705769461756,
          0.040852592369190255,
          0.07367250670012099,
          0.0010712947096278532,
          0.004327772983792638,
          0.05862814611130388,
          0.03783876499948317,
          0.0851191478596688,
          0.06656301540233617,
          0.09738742511013647,
          0.4832848165957116,
          0.0743129155992462,
          0.13245801825215728,
          0.022672890677354895,
          0.014918659722108598,
          0.06841733379649337,
          0.10959314366291745,
          0.14124914813455888,
          0.1852644599694422,
          0.10543009476990717,
          0.5552817791074284,
          0.050724294293077225,
          0.5347089656296462,
          0.20151228966414866
         ],
         "yaxis": "y4"
        },
        {
         "colorbar": {
          "title": {
           "text": "Objective Value"
          }
         },
         "colorscale": [
          [
           0,
           "rgb(247,251,255)"
          ],
          [
           0.125,
           "rgb(222,235,247)"
          ],
          [
           0.25,
           "rgb(198,219,239)"
          ],
          [
           0.375,
           "rgb(158,202,225)"
          ],
          [
           0.5,
           "rgb(107,174,214)"
          ],
          [
           0.625,
           "rgb(66,146,198)"
          ],
          [
           0.75,
           "rgb(33,113,181)"
          ],
          [
           0.875,
           "rgb(8,81,156)"
          ],
          [
           1,
           "rgb(8,48,107)"
          ]
         ],
         "connectgaps": true,
         "contours": {
          "coloring": "heatmap"
         },
         "hoverinfo": "none",
         "line": {
          "smoothing": 1.3
         },
         "reversescale": true,
         "showscale": false,
         "type": "contour",
         "x": [
          -2.5,
          0,
          0.1,
          1,
          10,
          50,
          52.5
         ],
         "xaxis": "x7",
         "y": [
          0.04999999999999993,
          1,
          2,
          3,
          4,
          6,
          7,
          8,
          10,
          11,
          12,
          13,
          14,
          15,
          17,
          18,
          19,
          20,
          20.95
         ],
         "yaxis": "y7",
         "z": {
          "bdata": "AAAAAAAA+H8AAAAAAAD4fwAAAAAAAPh/AAAAAAAA+H8AAAAAAAD4fwAAAAAAAPh/AAAAAAAA+H8AAAAAAAD4fwAAAAAAAPh/nLk0N4CGXUAAAAAAAAD4fwAAAAAAAPh/AAAAAAAA+H8AAAAAAAD4fwAAAAAAAPh/AAAAAAAA+H8AAAAAAAD4fwAAAAAAAPh/m5deYQgfXkAZ/2SaVL1oQAAAAAAAAPh/AAAAAAAA+H8AAAAAAAD4fwAAAAAAAPh/oH/08HozZUAAAAAAAAD4fwAAAAAAAPh/AAAAAAAA+H8AAAAAAAD4fwAAAAAAAPh/vsF+kvbYXEBGgUpqwO1aQAAAAAAAAPh/dntax4ZxZ0AAAAAAAAD4fwAAAAAAAPh/AAAAAAAA+H8AAAAAAAD4fwAAAAAAAPh/a6NB3+FfXEAAAAAAAAD4fwAAAAAAAPh/AAAAAAAA+H8UMYAsZthaQAAAAAAAAPh/AAAAAAAA+H+CFAZzvKdaQJ0xCuQvDltAAAAAAAAA+H8AAAAAAAD4f+jC3AjfHF1AAAAAAAAA+H8AAAAAAAD4fwSy+EdgjF1AcsZpnlp4ZEAAAAAAAAD4fwAAAAAAAPh/u4G5Hx0AYEAAAAAAAAD4f9+rWKnpoFpAAAAAAAAA+H8AAAAAAAD4fwAAAAAAAPh/AAAAAAAA+H8AAAAAAAD4f4AbHszcG1tAXd9gimqVW0DQxN9MpqRaQAAAAAAAAPh/AAAAAAAA+H8AAAAAAAD4fwAAAAAAAPh/AAAAAAAA+H9QJWYBdLRaQO15jtEHv1pA6h/Ck82JaUAAAAAAAAD4fwAAAAAAAPh/8vrjZJOhXEAAAAAAAAD4f6hhcPmn42VAAAAAAAAA+H8AAAAAAAD4fwAAAAAAAPh/AAAAAAAA+H8ba+JgXMBaQAAAAAAAAPh/AAAAAAAA+H8AAAAAAAD4fxNzv/6rYFtAAAAAAAAA+H8AAAAAAAD4fwAAAAAAAPh/AAAAAAAA+H8AAAAAAAD4fx96dU1PXmJAAAAAAAAA+H8AAAAAAAD4fwAAAAAAAPh/iQVkMXKoWkAhXsNIvPpiQIrGZamBu1xAAAAAAAAA+H8AAAAAAAD4fwAAAAAAAPh/AAAAAAAA+H8hLEOpE5VaQAAAAAAAAPh/RSGAZC6pWkAAAAAAAAD4fwAAAAAAAPh/AAAAAAAA+H8AAAAAAAD4fwAAAAAAAPh/MYi+9n2tW0B5Y7g9abdaQDnsmV190VpAAAAAAAAA+H8AAAAAAAD4fwAAAAAAAPh/1FdWtFePWkDaw39MT2RbQLAHlFN6slpAAAAAAAAA+H+oohFKjoBcQAAAAAAAAPh/AAAAAAAA+H8AAAAAAAD4fwAAAAAAAPh/AAAAAAAA+H8AAAAAAAD4fwAAAAAAAPh/AAAAAAAA+H8=",
          "dtype": "f8",
          "shape": "19, 7"
         }
        },
        {
         "marker": {
          "color": "black",
          "line": {
           "color": "Gray",
           "width": 2
          }
         },
         "mode": "markers",
         "name": "Feasible Trial",
         "showlegend": false,
         "type": "scatter",
         "x": [
          0,
          1,
          50,
          1,
          50,
          0.1,
          0.1,
          0.1,
          50,
          50,
          1,
          1,
          1,
          1,
          1,
          50,
          1,
          10,
          50,
          10,
          1,
          0.1,
          0,
          0,
          0,
          10,
          0,
          0.1,
          1,
          0,
          1,
          1,
          0.1,
          10,
          10,
          10,
          10,
          50,
          10,
          10,
          0,
          1,
          0,
          0,
          0,
          0,
          0,
          10,
          10,
          0
         ],
         "xaxis": "x7",
         "y": [
          8,
          18,
          4,
          3,
          12,
          17,
          1,
          4,
          2,
          8,
          18,
          19,
          17,
          10,
          10,
          14,
          11,
          2,
          20,
          15,
          20,
          19,
          20,
          14,
          20,
          19,
          20,
          11,
          4,
          7,
          13,
          20,
          20,
          11,
          12,
          7,
          12,
          7,
          7,
          8,
          10,
          12,
          17,
          18,
          7,
          18,
          13,
          11,
          6,
          20
         ],
         "yaxis": "y7"
        },
        {
         "colorbar": {
          "title": {
           "text": "Objective Value"
          }
         },
         "colorscale": [
          [
           0,
           "rgb(247,251,255)"
          ],
          [
           0.125,
           "rgb(222,235,247)"
          ],
          [
           0.25,
           "rgb(198,219,239)"
          ],
          [
           0.375,
           "rgb(158,202,225)"
          ],
          [
           0.5,
           "rgb(107,174,214)"
          ],
          [
           0.625,
           "rgb(66,146,198)"
          ],
          [
           0.75,
           "rgb(33,113,181)"
          ],
          [
           0.875,
           "rgb(8,81,156)"
          ],
          [
           1,
           "rgb(8,48,107)"
          ]
         ],
         "connectgaps": true,
         "contours": {
          "coloring": "heatmap"
         },
         "hoverinfo": "none",
         "line": {
          "smoothing": 1.3
         },
         "reversescale": true,
         "showscale": false,
         "type": "contour",
         "x": [
          0.0007730098039982993,
          0.0010712947096278532,
          0.0013715946543834,
          0.0032053017593866354,
          0.003481940932030817,
          0.0037929830616928737,
          0.004327772983792638,
          0.0067600307410323295,
          0.007295686093122071,
          0.007941507417113072,
          0.009405098801224582,
          0.014918659722108598,
          0.022672890677354895,
          0.025059371248829204,
          0.02735989115210933,
          0.0356624848244312,
          0.03783876499948317,
          0.03972684339331107,
          0.040852592369190255,
          0.050724294293077225,
          0.05862814611130388,
          0.05968147125797707,
          0.06267790206576238,
          0.06656301540233617,
          0.06738879842069814,
          0.06841733379649337,
          0.07367250670012099,
          0.0743129155992462,
          0.0851191478596688,
          0.08594758404940435,
          0.09040703862515968,
          0.09738742511013647,
          0.10543009476990717,
          0.10703725712140856,
          0.10959314366291745,
          0.13245801825215728,
          0.13879350931215192,
          0.14124914813455888,
          0.1848970871985383,
          0.1852644599694422,
          0.20151228966414866,
          0.30759256231299137,
          0.33921584757580836,
          0.4179705769461756,
          0.46167920059998824,
          0.4832848165957116,
          0.4856830940160751,
          0.5347089656296462,
          0.5552817791074284,
          0.6436364315084161,
          0.7317927858928183,
          1.0141730881236395
         ],
         "xaxis": "x2",
         "y": [
          -2.5,
          0,
          0.1,
          1,
          10,
          50,
          52.5
         ],
         "yaxis": "y2",
         "z": {
          "bdata": "AAAAAAAA+H8AAAAAAAD4fwAAAAAAAPh/AAAAAAAA+H8AAAAAAAD4fwAAAAAAAPh/AAAAAAAA+H8AAAAAAAD4fwAAAAAAAPh/AAAAAAAA+H8AAAAAAAD4fwAAAAAAAPh/AAAAAAAA+H8AAAAAAAD4fwAAAAAAAPh/AAAAAAAA+H8AAAAAAAD4fwAAAAAAAPh/AAAAAAAA+H8AAAAAAAD4fwAAAAAAAPh/AAAAAAAA+H8AAAAAAAD4fwAAAAAAAPh/AAAAAAAA+H8AAAAAAAD4fwAAAAAAAPh/AAAAAAAA+H8AAAAAAAD4fwAAAAAAAPh/AAAAAAAA+H8AAAAAAAD4fwAAAAAAAPh/AAAAAAAA+H8AAAAAAAD4fwAAAAAAAPh/AAAAAAAA+H8AAAAAAAD4fwAAAAAAAPh/AAAAAAAA+H8AAAAAAAD4fwAAAAAAAPh/AAAAAAAA+H8AAAAAAAD4fwAAAAAAAPh/AAAAAAAA+H8AAAAAAAD4fwAAAAAAAPh/AAAAAAAA+H8AAAAAAAD4fwAAAAAAAPh/AAAAAAAA+H8AAAAAAAD4fy8weqY7wWlAAAAAAAAA+H8AAAAAAAD4fwAAAAAAAPh/AAAAAAAA+H8AAAAAAAD4fwAAAAAAAPh/AAAAAAAA+H8AAAAAAAD4fwAAAAAAAPh/u4G5Hx0AYEAAAAAAAAD4fwAAAAAAAPh/6JpkD9RPXEAAAAAAAAD4fwAAAAAAAPh/AAAAAAAA+H8AAAAAAAD4fwAAAAAAAPh/AAAAAAAA+H8AAAAAAAD4fwAAAAAAAPh/AAAAAAAA+H8ba+JgXMBaQAAAAAAAAPh/AAAAAAAA+H8AAAAAAAD4fwAAAAAAAPh/AAAAAAAA+H8AAAAAAAD4fwAAAAAAAPh/sAAtKBzHWkDUV1a0V49aQIkFZDFyqFpAAAAAAAAA+H8AAAAAAAD4fyEsQ6kTlVpAAAAAAAAA+H8UMYAsZthaQHRM7W21EVtAAAAAAAAA+H8AAAAAAAD4f7vsAVp67ltAAAAAAAAA+H8AAAAAAAD4fwAAAAAAAPh/AAAAAAAA+H/y+uNkk6FcQOjC3AjfHF1AAAAAAAAA+H8AAAAAAAD4fwAAAAAAAPh/AAAAAAAA+H8AAAAAAAD4fwAAAAAAAPh/AAAAAAAA+H8AAAAAAAD4fwAAAAAAAPh/AAAAAAAA+H8AAAAAAAD4fyFew0i8+mJAAAAAAAAA+H8AAAAAAAD4fwAAAAAAAPh/AAAAAAAA+H8AAAAAAAD4fwAAAAAAAPh/2sN/TE9kW0AAAAAAAAD4f4AbHszcG1tAAAAAAAAA+H8AAAAAAAD4fwAAAAAAAPh/AAAAAAAA+H8AAAAAAAD4fwAAAAAAAPh/AAAAAAAA+H8AAAAAAAD4fwAAAAAAAPh/AAAAAAAA+H8AAAAAAAD4fwAAAAAAAPh/AAAAAAAA+H8AAAAAAAD4fwAAAAAAAPh/AAAAAAAA+H8AAAAAAAD4fwAAAAAAAPh/AAAAAAAA+H8AAAAAAAD4fwAAAAAAAPh/AAAAAAAA+H8AAAAAAAD4fwAAAAAAAPh/AAAAAAAA+H8xiL72fa1bQAAAAAAAAPh/nLk0N4CGXUAAAAAAAAD4fwAAAAAAAPh/AAAAAAAA+H++wX6S9thcQAAAAAAAAPh/AAAAAAAA+H8AAAAAAAD4fwAAAAAAAPh/3XXVz1YNZ0AAAAAAAAD4fwAAAAAAAPh/qGFw+afjZUAAAAAAAAD4f6B/9PB6M2VAAAAAAAAA+H8AAAAAAAD4fwAAAAAAAPh/AAAAAAAA+H+KxmWpgbtcQAAAAAAAAPh/AAAAAAAA+H8AAAAAAAD4f4EJPuZ4RVtAAAAAAAAA+H8AAAAAAAD4f7AHlFN6slpARSGAZC6pWkAAAAAAAAD4fwAAAAAAAPh/AAAAAAAA+H9QJWYBdLRaQEaBSmrA7VpAAAAAAAAA+H8AAAAAAAD4f9+rWKnpoFpAAAAAAAAA+H8AAAAAAAD4fwAAAAAAAPh/AAAAAAAA+H8AAAAAAAD4fwAAAAAAAPh/eWO4PWm3WkAAAAAAAAD4fyNP1Ih90FpAAAAAAAAA+H8AAAAAAAD4fwAAAAAAAPh/Xd9gimqVW0AAAAAAAAD4fwAAAAAAAPh/AAAAAAAA+H8AAAAAAAD4fwAAAAAAAPh/AAAAAAAA+H8AAAAAAAD4fwAAAAAAAPh/AAAAAAAA+H8AAAAAAAD4fwAAAAAAAPh/AAAAAAAA+H8AAAAAAAD4fwAAAAAAAPh/AAAAAAAA+H8AAAAAAAD4fwAAAAAAAPh/AAAAAAAA+H8AAAAAAAD4fx96dU1PXmJAAAAAAAAA+H8EsvhHYIxdQAAAAAAAAPh/AAAAAAAA+H8AAAAAAAD4fwAAAAAAAPh/AAAAAAAA+H8AAAAAAAD4f0KvuXLPAFtAAAAAAAAA+H8AAAAAAAD4f5uXXmEIH15A7XmO0Qe/WkAAAAAAAAD4fwAAAAAAAPh/AAAAAAAA+H8AAAAAAAD4f9DE30ympFpAAAAAAAAA+H857JldfdFaQIIUBnO8p1pAAAAAAAAA+H8AAAAAAAD4fwAAAAAAAPh//VAyZH3XWkAAAAAAAAD4fwAAAAAAAPh/AAAAAAAA+H8AAAAAAAD4fwAAAAAAAPh/AAAAAAAA+H8AAAAAAAD4fwAAAAAAAPh/AAAAAAAA+H/IVZLoXDVcQAAAAAAAAPh/a6NB3+FfXEAAAAAAAAD4fwAAAAAAAPh/AAAAAAAA+H8AAAAAAAD4fwAAAAAAAPh/AAAAAAAA+H/qH8KTzYlpQAAAAAAAAPh/dntax4ZxZ0AZ/2SaVL1oQAAAAAAAAPh/csZpnlp4ZEAAAAAAAAD4fwAAAAAAAPh/AAAAAAAA+H8AAAAAAAD4fwAAAAAAAPh/AAAAAAAA+H8AAAAAAAD4f6iiEUqOgFxAAAAAAAAA+H8AAAAAAAD4fwAAAAAAAPh/AAAAAAAA+H8AAAAAAAD4fwAAAAAAAPh/AAAAAAAA+H8AAAAAAAD4fwAAAAAAAPh/AAAAAAAA+H8AAAAAAAD4f50xCuQvDltAAAAAAAAA+H8AAAAAAAD4fwAAAAAAAPh/AAAAAAAA+H8AAAAAAAD4fwAAAAAAAPh/AAAAAAAA+H8AAAAAAAD4fwAAAAAAAPh/AAAAAAAA+H8AAAAAAAD4fwAAAAAAAPh/AAAAAAAA+H8Tc7/+q2BbQAAAAAAAAPh/AAAAAAAA+H8AAAAAAAD4fwAAAAAAAPh/AAAAAAAA+H8AAAAAAAD4fwAAAAAAAPh/AAAAAAAA+H8AAAAAAAD4fwAAAAAAAPh/AAAAAAAA+H8AAAAAAAD4fwAAAAAAAPh/AAAAAAAA+H8AAAAAAAD4fwAAAAAAAPh/AAAAAAAA+H8AAAAAAAD4fwAAAAAAAPh/AAAAAAAA+H8AAAAAAAD4fwAAAAAAAPh/AAAAAAAA+H8AAAAAAAD4fwAAAAAAAPh/AAAAAAAA+H8AAAAAAAD4fwAAAAAAAPh/AAAAAAAA+H8AAAAAAAD4fwAAAAAAAPh/AAAAAAAA+H8AAAAAAAD4fwAAAAAAAPh/AAAAAAAA+H8AAAAAAAD4fwAAAAAAAPh/AAAAAAAA+H8AAAAAAAD4fwAAAAAAAPh/AAAAAAAA+H8AAAAAAAD4fwAAAAAAAPh/AAAAAAAA+H8AAAAAAAD4fwAAAAAAAPh/AAAAAAAA+H8AAAAAAAD4fwAAAAAAAPh/AAAAAAAA+H8AAAAAAAD4fwAAAAAAAPh/AAAAAAAA+H8AAAAAAAD4fwAAAAAAAPh/AAAAAAAA+H8AAAAAAAD4fwAAAAAAAPh/AAAAAAAA+H8AAAAAAAD4fwAAAAAAAPh/AAAAAAAA+H8=",
          "dtype": "f8",
          "shape": "7, 52"
         }
        },
        {
         "marker": {
          "color": "black",
          "line": {
           "color": "Gray",
           "width": 2
          }
         },
         "mode": "markers",
         "name": "Feasible Trial",
         "showlegend": false,
         "type": "scatter",
         "x": [
          0.6436364315084161,
          0.05968147125797707,
          0.003481940932030817,
          0.007295686093122071,
          0.0013715946543834,
          0.007941507417113072,
          0.4856830940160751,
          0.7317927858928183,
          0.0037929830616928737,
          0.0067600307410323295,
          0.1848970871985383,
          0.13879350931215192,
          0.025059371248829204,
          0.08594758404940435,
          0.03972684339331107,
          0.30759256231299137,
          0.33921584757580836,
          0.06267790206576238,
          0.0356624848244312,
          0.009405098801224582,
          0.0032053017593866354,
          0.46167920059998824,
          0.10703725712140856,
          0.06738879842069814,
          0.02735989115210933,
          0.09040703862515968,
          0.4179705769461756,
          0.040852592369190255,
          0.07367250670012099,
          0.0010712947096278532,
          0.004327772983792638,
          0.05862814611130388,
          0.03783876499948317,
          0.0851191478596688,
          0.06656301540233617,
          0.09738742511013647,
          0.4832848165957116,
          0.0743129155992462,
          0.13245801825215728,
          0.022672890677354895,
          0.014918659722108598,
          0.06841733379649337,
          0.10959314366291745,
          0.14124914813455888,
          0.1852644599694422,
          0.10543009476990717,
          0.5552817791074284,
          0.050724294293077225,
          0.5347089656296462,
          0.20151228966414866
         ],
         "xaxis": "x2",
         "y": [
          0,
          1,
          50,
          1,
          50,
          0.1,
          0.1,
          0.1,
          50,
          50,
          1,
          1,
          1,
          1,
          1,
          50,
          1,
          10,
          50,
          10,
          1,
          0.1,
          0,
          0,
          0,
          10,
          0,
          0.1,
          1,
          0,
          1,
          1,
          0.1,
          10,
          10,
          10,
          10,
          50,
          10,
          10,
          0,
          1,
          0,
          0,
          0,
          0,
          0,
          10,
          10,
          0
         ],
         "yaxis": "y2"
        },
        {
         "type": "scatter",
         "xaxis": "x5",
         "yaxis": "y5"
        },
        {
         "colorbar": {
          "title": {
           "text": "Objective Value"
          }
         },
         "colorscale": [
          [
           0,
           "rgb(247,251,255)"
          ],
          [
           0.125,
           "rgb(222,235,247)"
          ],
          [
           0.25,
           "rgb(198,219,239)"
          ],
          [
           0.375,
           "rgb(158,202,225)"
          ],
          [
           0.5,
           "rgb(107,174,214)"
          ],
          [
           0.625,
           "rgb(66,146,198)"
          ],
          [
           0.75,
           "rgb(33,113,181)"
          ],
          [
           0.875,
           "rgb(8,81,156)"
          ],
          [
           1,
           "rgb(8,48,107)"
          ]
         ],
         "connectgaps": true,
         "contours": {
          "coloring": "heatmap"
         },
         "hoverinfo": "none",
         "line": {
          "smoothing": 1.3
         },
         "reversescale": true,
         "showscale": false,
         "type": "contour",
         "x": [
          0.0007730098039982993,
          0.0010712947096278532,
          0.0013715946543834,
          0.0032053017593866354,
          0.003481940932030817,
          0.0037929830616928737,
          0.004327772983792638,
          0.0067600307410323295,
          0.007295686093122071,
          0.007941507417113072,
          0.009405098801224582,
          0.014918659722108598,
          0.022672890677354895,
          0.025059371248829204,
          0.02735989115210933,
          0.0356624848244312,
          0.03783876499948317,
          0.03972684339331107,
          0.040852592369190255,
          0.050724294293077225,
          0.05862814611130388,
          0.05968147125797707,
          0.06267790206576238,
          0.06656301540233617,
          0.06738879842069814,
          0.06841733379649337,
          0.07367250670012099,
          0.0743129155992462,
          0.0851191478596688,
          0.08594758404940435,
          0.09040703862515968,
          0.09738742511013647,
          0.10543009476990717,
          0.10703725712140856,
          0.10959314366291745,
          0.13245801825215728,
          0.13879350931215192,
          0.14124914813455888,
          0.1848970871985383,
          0.1852644599694422,
          0.20151228966414866,
          0.30759256231299137,
          0.33921584757580836,
          0.4179705769461756,
          0.46167920059998824,
          0.4832848165957116,
          0.4856830940160751,
          0.5347089656296462,
          0.5552817791074284,
          0.6436364315084161,
          0.7317927858928183,
          1.0141730881236395
         ],
         "xaxis": "x8",
         "y": [
          0.04999999999999993,
          1,
          2,
          3,
          4,
          6,
          7,
          8,
          10,
          11,
          12,
          13,
          14,
          15,
          17,
          18,
          19,
          20,
          20.95
         ],
         "yaxis": "y8",
         "z": {
          "bdata": "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",
          "dtype": "f8",
          "shape": "19, 52"
         }
        },
        {
         "marker": {
          "color": "black",
          "line": {
           "color": "Gray",
           "width": 2
          }
         },
         "mode": "markers",
         "name": "Feasible Trial",
         "showlegend": false,
         "type": "scatter",
         "x": [
          0.6436364315084161,
          0.05968147125797707,
          0.003481940932030817,
          0.007295686093122071,
          0.0013715946543834,
          0.007941507417113072,
          0.4856830940160751,
          0.7317927858928183,
          0.0037929830616928737,
          0.0067600307410323295,
          0.1848970871985383,
          0.13879350931215192,
          0.025059371248829204,
          0.08594758404940435,
          0.03972684339331107,
          0.30759256231299137,
          0.33921584757580836,
          0.06267790206576238,
          0.0356624848244312,
          0.009405098801224582,
          0.0032053017593866354,
          0.46167920059998824,
          0.10703725712140856,
          0.06738879842069814,
          0.02735989115210933,
          0.09040703862515968,
          0.4179705769461756,
          0.040852592369190255,
          0.07367250670012099,
          0.0010712947096278532,
          0.004327772983792638,
          0.05862814611130388,
          0.03783876499948317,
          0.0851191478596688,
          0.06656301540233617,
          0.09738742511013647,
          0.4832848165957116,
          0.0743129155992462,
          0.13245801825215728,
          0.022672890677354895,
          0.014918659722108598,
          0.06841733379649337,
          0.10959314366291745,
          0.14124914813455888,
          0.1852644599694422,
          0.10543009476990717,
          0.5552817791074284,
          0.050724294293077225,
          0.5347089656296462,
          0.20151228966414866
         ],
         "xaxis": "x8",
         "y": [
          8,
          18,
          4,
          3,
          12,
          17,
          1,
          4,
          2,
          8,
          18,
          19,
          17,
          10,
          10,
          14,
          11,
          2,
          20,
          15,
          20,
          19,
          20,
          14,
          20,
          19,
          20,
          11,
          4,
          7,
          13,
          20,
          20,
          11,
          12,
          7,
          12,
          7,
          7,
          8,
          10,
          12,
          17,
          18,
          7,
          18,
          13,
          11,
          6,
          20
         ],
         "yaxis": "y8"
        },
        {
         "colorbar": {
          "title": {
           "text": "Objective Value"
          }
         },
         "colorscale": [
          [
           0,
           "rgb(247,251,255)"
          ],
          [
           0.125,
           "rgb(222,235,247)"
          ],
          [
           0.25,
           "rgb(198,219,239)"
          ],
          [
           0.375,
           "rgb(158,202,225)"
          ],
          [
           0.5,
           "rgb(107,174,214)"
          ],
          [
           0.625,
           "rgb(66,146,198)"
          ],
          [
           0.75,
           "rgb(33,113,181)"
          ],
          [
           0.875,
           "rgb(8,81,156)"
          ],
          [
           1,
           "rgb(8,48,107)"
          ]
         ],
         "connectgaps": true,
         "contours": {
          "coloring": "heatmap"
         },
         "hoverinfo": "none",
         "line": {
          "smoothing": 1.3
         },
         "reversescale": true,
         "showscale": false,
         "type": "contour",
         "x": [
          0.04999999999999993,
          1,
          2,
          3,
          4,
          6,
          7,
          8,
          10,
          11,
          12,
          13,
          14,
          15,
          17,
          18,
          19,
          20,
          20.95
         ],
         "xaxis": "x3",
         "y": [
          -2.5,
          0,
          0.1,
          1,
          10,
          50,
          52.5
         ],
         "yaxis": "y3",
         "z": {
          "bdata": "AAAAAAAA+H8AAAAAAAD4fwAAAAAAAPh/AAAAAAAA+H8AAAAAAAD4fwAAAAAAAPh/AAAAAAAA+H8AAAAAAAD4fwAAAAAAAPh/AAAAAAAA+H8AAAAAAAD4fwAAAAAAAPh/AAAAAAAA+H8AAAAAAAD4fwAAAAAAAPh/AAAAAAAA+H8AAAAAAAD4fwAAAAAAAPh/AAAAAAAA+H8AAAAAAAD4fwAAAAAAAPh/AAAAAAAA+H8AAAAAAAD4fwAAAAAAAPh/AAAAAAAA+H8UMYAsZthaQOjC3AjfHF1Au4G5Hx0AYEAAAAAAAAD4fwAAAAAAAPh/8vrjZJOhXEAba+JgXMBaQAAAAAAAAPh/iQVkMXKoWkAhLEOpE5VaQAAAAAAAAPh/1FdWtFePWkAAAAAAAAD4fwAAAAAAAPh/nLk0N4CGXUAAAAAAAAD4fwAAAAAAAPh/vsF+kvbYXEAAAAAAAAD4fwAAAAAAAPh/AAAAAAAA+H8AAAAAAAD4f4AbHszcG1tAAAAAAAAA+H8AAAAAAAD4fwAAAAAAAPh/AAAAAAAA+H8hXsNIvPpiQAAAAAAAAPh/MYi+9n2tW0Daw39MT2RbQAAAAAAAAPh/AAAAAAAA+H8AAAAAAAD4fwAAAAAAAPh/oH/08HozZUBGgUpqwO1aQAAAAAAAAPh/AAAAAAAA+H8AAAAAAAD4f9+rWKnpoFpAXd9gimqVW0BQJWYBdLRaQKhhcPmn42VAAAAAAAAA+H8AAAAAAAD4f4rGZamBu1xARSGAZC6pWkB5Y7g9abdaQLAHlFN6slpAAAAAAAAA+H8AAAAAAAD4fwAAAAAAAPh/m5deYQgfXkAAAAAAAAD4fwAAAAAAAPh/a6NB3+FfXECCFAZzvKdaQASy+EdgjF1AAAAAAAAA+H/QxN9MpqRaQO15jtEHv1pAAAAAAAAA+H8AAAAAAAD4fx96dU1PXmJAAAAAAAAA+H8AAAAAAAD4fznsmV190VpAAAAAAAAA+H8AAAAAAAD4fwAAAAAAAPh/AAAAAAAA+H8Z/2SaVL1oQAAAAAAAAPh/dntax4ZxZ0AAAAAAAAD4f50xCuQvDltAcsZpnlp4ZEAAAAAAAAD4fwAAAAAAAPh/6h/Ck82JaUAAAAAAAAD4fxNzv/6rYFtAAAAAAAAA+H8AAAAAAAD4fwAAAAAAAPh/AAAAAAAA+H+oohFKjoBcQAAAAAAAAPh/AAAAAAAA+H8AAAAAAAD4fwAAAAAAAPh/AAAAAAAA+H8AAAAAAAD4fwAAAAAAAPh/AAAAAAAA+H8AAAAAAAD4fwAAAAAAAPh/AAAAAAAA+H8AAAAAAAD4fwAAAAAAAPh/AAAAAAAA+H8AAAAAAAD4fwAAAAAAAPh/AAAAAAAA+H8AAAAAAAD4fwAAAAAAAPh/AAAAAAAA+H8=",
          "dtype": "f8",
          "shape": "7, 19"
         }
        },
        {
         "marker": {
          "color": "black",
          "line": {
           "color": "Gray",
           "width": 2
          }
         },
         "mode": "markers",
         "name": "Feasible Trial",
         "showlegend": false,
         "type": "scatter",
         "x": [
          8,
          18,
          4,
          3,
          12,
          17,
          1,
          4,
          2,
          8,
          18,
          19,
          17,
          10,
          10,
          14,
          11,
          2,
          20,
          15,
          20,
          19,
          20,
          14,
          20,
          19,
          20,
          11,
          4,
          7,
          13,
          20,
          20,
          11,
          12,
          7,
          12,
          7,
          7,
          8,
          10,
          12,
          17,
          18,
          7,
          18,
          13,
          11,
          6,
          20
         ],
         "xaxis": "x3",
         "y": [
          0,
          1,
          50,
          1,
          50,
          0.1,
          0.1,
          0.1,
          50,
          50,
          1,
          1,
          1,
          1,
          1,
          50,
          1,
          10,
          50,
          10,
          1,
          0.1,
          0,
          0,
          0,
          10,
          0,
          0.1,
          1,
          0,
          1,
          1,
          0.1,
          10,
          10,
          10,
          10,
          50,
          10,
          10,
          0,
          1,
          0,
          0,
          0,
          0,
          0,
          10,
          10,
          0
         ],
         "yaxis": "y3"
        },
        {
         "colorbar": {
          "title": {
           "text": "Objective Value"
          }
         },
         "colorscale": [
          [
           0,
           "rgb(247,251,255)"
          ],
          [
           0.125,
           "rgb(222,235,247)"
          ],
          [
           0.25,
           "rgb(198,219,239)"
          ],
          [
           0.375,
           "rgb(158,202,225)"
          ],
          [
           0.5,
           "rgb(107,174,214)"
          ],
          [
           0.625,
           "rgb(66,146,198)"
          ],
          [
           0.75,
           "rgb(33,113,181)"
          ],
          [
           0.875,
           "rgb(8,81,156)"
          ],
          [
           1,
           "rgb(8,48,107)"
          ]
         ],
         "connectgaps": true,
         "contours": {
          "coloring": "heatmap"
         },
         "hoverinfo": "none",
         "line": {
          "smoothing": 1.3
         },
         "reversescale": true,
         "showscale": false,
         "type": "contour",
         "x": [
          0.04999999999999993,
          1,
          2,
          3,
          4,
          6,
          7,
          8,
          10,
          11,
          12,
          13,
          14,
          15,
          17,
          18,
          19,
          20,
          20.95
         ],
         "xaxis": "x6",
         "y": [
          0.0007730098039982993,
          0.0010712947096278532,
          0.0013715946543834,
          0.0032053017593866354,
          0.003481940932030817,
          0.0037929830616928737,
          0.004327772983792638,
          0.0067600307410323295,
          0.007295686093122071,
          0.007941507417113072,
          0.009405098801224582,
          0.014918659722108598,
          0.022672890677354895,
          0.025059371248829204,
          0.02735989115210933,
          0.0356624848244312,
          0.03783876499948317,
          0.03972684339331107,
          0.040852592369190255,
          0.050724294293077225,
          0.05862814611130388,
          0.05968147125797707,
          0.06267790206576238,
          0.06656301540233617,
          0.06738879842069814,
          0.06841733379649337,
          0.07367250670012099,
          0.0743129155992462,
          0.0851191478596688,
          0.08594758404940435,
          0.09040703862515968,
          0.09738742511013647,
          0.10543009476990717,
          0.10703725712140856,
          0.10959314366291745,
          0.13245801825215728,
          0.13879350931215192,
          0.14124914813455888,
          0.1848970871985383,
          0.1852644599694422,
          0.20151228966414866,
          0.30759256231299137,
          0.33921584757580836,
          0.4179705769461756,
          0.46167920059998824,
          0.4832848165957116,
          0.4856830940160751,
          0.5347089656296462,
          0.5552817791074284,
          0.6436364315084161,
          0.7317927858928183,
          1.0141730881236395
         ],
         "yaxis": "y6",
         "z": {
          "bdata": "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",
          "dtype": "f8",
          "shape": "52, 19"
         }
        },
        {
         "marker": {
          "color": "black",
          "line": {
           "color": "Gray",
           "width": 2
          }
         },
         "mode": "markers",
         "name": "Feasible Trial",
         "showlegend": false,
         "type": "scatter",
         "x": [
          8,
          18,
          4,
          3,
          12,
          17,
          1,
          4,
          2,
          8,
          18,
          19,
          17,
          10,
          10,
          14,
          11,
          2,
          20,
          15,
          20,
          19,
          20,
          14,
          20,
          19,
          20,
          11,
          4,
          7,
          13,
          20,
          20,
          11,
          12,
          7,
          12,
          7,
          7,
          8,
          10,
          12,
          17,
          18,
          7,
          18,
          13,
          11,
          6,
          20
         ],
         "xaxis": "x6",
         "y": [
          0.6436364315084161,
          0.05968147125797707,
          0.003481940932030817,
          0.007295686093122071,
          0.0013715946543834,
          0.007941507417113072,
          0.4856830940160751,
          0.7317927858928183,
          0.0037929830616928737,
          0.0067600307410323295,
          0.1848970871985383,
          0.13879350931215192,
          0.025059371248829204,
          0.08594758404940435,
          0.03972684339331107,
          0.30759256231299137,
          0.33921584757580836,
          0.06267790206576238,
          0.0356624848244312,
          0.009405098801224582,
          0.0032053017593866354,
          0.46167920059998824,
          0.10703725712140856,
          0.06738879842069814,
          0.02735989115210933,
          0.09040703862515968,
          0.4179705769461756,
          0.040852592369190255,
          0.07367250670012099,
          0.0010712947096278532,
          0.004327772983792638,
          0.05862814611130388,
          0.03783876499948317,
          0.0851191478596688,
          0.06656301540233617,
          0.09738742511013647,
          0.4832848165957116,
          0.0743129155992462,
          0.13245801825215728,
          0.022672890677354895,
          0.014918659722108598,
          0.06841733379649337,
          0.10959314366291745,
          0.14124914813455888,
          0.1852644599694422,
          0.10543009476990717,
          0.5552817791074284,
          0.050724294293077225,
          0.5347089656296462,
          0.20151228966414866
         ],
         "yaxis": "y6"
        },
        {
         "type": "scatter",
         "xaxis": "x9",
         "yaxis": "y9"
        }
       ],
       "layout": {
        "height": 900,
        "template": {
         "data": {
          "bar": [
           {
            "error_x": {
             "color": "#2a3f5f"
            },
            "error_y": {
             "color": "#2a3f5f"
            },
            "marker": {
             "line": {
              "color": "#E5ECF6",
              "width": 0.5
             },
             "pattern": {
              "fillmode": "overlay",
              "size": 10,
              "solidity": 0.2
             }
            },
            "type": "bar"
           }
          ],
          "barpolar": [
           {
            "marker": {
             "line": {
              "color": "#E5ECF6",
              "width": 0.5
             },
             "pattern": {
              "fillmode": "overlay",
              "size": 10,
              "solidity": 0.2
             }
            },
            "type": "barpolar"
           }
          ],
          "carpet": [
           {
            "aaxis": {
             "endlinecolor": "#2a3f5f",
             "gridcolor": "white",
             "linecolor": "white",
             "minorgridcolor": "white",
             "startlinecolor": "#2a3f5f"
            },
            "baxis": {
             "endlinecolor": "#2a3f5f",
             "gridcolor": "white",
             "linecolor": "white",
             "minorgridcolor": "white",
             "startlinecolor": "#2a3f5f"
            },
            "type": "carpet"
           }
          ],
          "choropleth": [
           {
            "colorbar": {
             "outlinewidth": 0,
             "ticks": ""
            },
            "type": "choropleth"
           }
          ],
          "contour": [
           {
            "colorbar": {
             "outlinewidth": 0,
             "ticks": ""
            },
            "colorscale": [
             [
              0,
              "#0d0887"
             ],
             [
              0.1111111111111111,
              "#46039f"
             ],
             [
              0.2222222222222222,
              "#7201a8"
             ],
             [
              0.3333333333333333,
              "#9c179e"
             ],
             [
              0.4444444444444444,
              "#bd3786"
             ],
             [
              0.5555555555555556,
              "#d8576b"
             ],
             [
              0.6666666666666666,
              "#ed7953"
             ],
             [
              0.7777777777777778,
              "#fb9f3a"
             ],
             [
              0.8888888888888888,
              "#fdca26"
             ],
             [
              1,
              "#f0f921"
             ]
            ],
            "type": "contour"
           }
          ],
          "contourcarpet": [
           {
            "colorbar": {
             "outlinewidth": 0,
             "ticks": ""
            },
            "type": "contourcarpet"
           }
          ],
          "heatmap": [
           {
            "colorbar": {
             "outlinewidth": 0,
             "ticks": ""
            },
            "colorscale": [
             [
              0,
              "#0d0887"
             ],
             [
              0.1111111111111111,
              "#46039f"
             ],
             [
              0.2222222222222222,
              "#7201a8"
             ],
             [
              0.3333333333333333,
              "#9c179e"
             ],
             [
              0.4444444444444444,
              "#bd3786"
             ],
             [
              0.5555555555555556,
              "#d8576b"
             ],
             [
              0.6666666666666666,
              "#ed7953"
             ],
             [
              0.7777777777777778,
              "#fb9f3a"
             ],
             [
              0.8888888888888888,
              "#fdca26"
             ],
             [
              1,
              "#f0f921"
             ]
            ],
            "type": "heatmap"
           }
          ],
          "histogram": [
           {
            "marker": {
             "pattern": {
              "fillmode": "overlay",
              "size": 10,
              "solidity": 0.2
             }
            },
            "type": "histogram"
           }
          ],
          "histogram2d": [
           {
            "colorbar": {
             "outlinewidth": 0,
             "ticks": ""
            },
            "colorscale": [
             [
              0,
              "#0d0887"
             ],
             [
              0.1111111111111111,
              "#46039f"
             ],
             [
              0.2222222222222222,
              "#7201a8"
             ],
             [
              0.3333333333333333,
              "#9c179e"
             ],
             [
              0.4444444444444444,
              "#bd3786"
             ],
             [
              0.5555555555555556,
              "#d8576b"
             ],
             [
              0.6666666666666666,
              "#ed7953"
             ],
             [
              0.7777777777777778,
              "#fb9f3a"
             ],
             [
              0.8888888888888888,
              "#fdca26"
             ],
             [
              1,
              "#f0f921"
             ]
            ],
            "type": "histogram2d"
           }
          ],
          "histogram2dcontour": [
           {
            "colorbar": {
             "outlinewidth": 0,
             "ticks": ""
            },
            "colorscale": [
             [
              0,
              "#0d0887"
             ],
             [
              0.1111111111111111,
              "#46039f"
             ],
             [
              0.2222222222222222,
              "#7201a8"
             ],
             [
              0.3333333333333333,
              "#9c179e"
             ],
             [
              0.4444444444444444,
              "#bd3786"
             ],
             [
              0.5555555555555556,
              "#d8576b"
             ],
             [
              0.6666666666666666,
              "#ed7953"
             ],
             [
              0.7777777777777778,
              "#fb9f3a"
             ],
             [
              0.8888888888888888,
              "#fdca26"
             ],
             [
              1,
              "#f0f921"
             ]
            ],
            "type": "histogram2dcontour"
           }
          ],
          "mesh3d": [
           {
            "colorbar": {
             "outlinewidth": 0,
             "ticks": ""
            },
            "type": "mesh3d"
           }
          ],
          "parcoords": [
           {
            "line": {
             "colorbar": {
              "outlinewidth": 0,
              "ticks": ""
             }
            },
            "type": "parcoords"
           }
          ],
          "pie": [
           {
            "automargin": true,
            "type": "pie"
           }
          ],
          "scatter": [
           {
            "fillpattern": {
             "fillmode": "overlay",
             "size": 10,
             "solidity": 0.2
            },
            "type": "scatter"
           }
          ],
          "scatter3d": [
           {
            "line": {
             "colorbar": {
              "outlinewidth": 0,
              "ticks": ""
             }
            },
            "marker": {
             "colorbar": {
              "outlinewidth": 0,
              "ticks": ""
             }
            },
            "type": "scatter3d"
           }
          ],
          "scattercarpet": [
           {
            "marker": {
             "colorbar": {
              "outlinewidth": 0,
              "ticks": ""
             }
            },
            "type": "scattercarpet"
           }
          ],
          "scattergeo": [
           {
            "marker": {
             "colorbar": {
              "outlinewidth": 0,
              "ticks": ""
             }
            },
            "type": "scattergeo"
           }
          ],
          "scattergl": [
           {
            "marker": {
             "colorbar": {
              "outlinewidth": 0,
              "ticks": ""
             }
            },
            "type": "scattergl"
           }
          ],
          "scattermap": [
           {
            "marker": {
             "colorbar": {
              "outlinewidth": 0,
              "ticks": ""
             }
            },
            "type": "scattermap"
           }
          ],
          "scattermapbox": [
           {
            "marker": {
             "colorbar": {
              "outlinewidth": 0,
              "ticks": ""
             }
            },
            "type": "scattermapbox"
           }
          ],
          "scatterpolar": [
           {
            "marker": {
             "colorbar": {
              "outlinewidth": 0,
              "ticks": ""
             }
            },
            "type": "scatterpolar"
           }
          ],
          "scatterpolargl": [
           {
            "marker": {
             "colorbar": {
              "outlinewidth": 0,
              "ticks": ""
             }
            },
            "type": "scatterpolargl"
           }
          ],
          "scatterternary": [
           {
            "marker": {
             "colorbar": {
              "outlinewidth": 0,
              "ticks": ""
             }
            },
            "type": "scatterternary"
           }
          ],
          "surface": [
           {
            "colorbar": {
             "outlinewidth": 0,
             "ticks": ""
            },
            "colorscale": [
             [
              0,
              "#0d0887"
             ],
             [
              0.1111111111111111,
              "#46039f"
             ],
             [
              0.2222222222222222,
              "#7201a8"
             ],
             [
              0.3333333333333333,
              "#9c179e"
             ],
             [
              0.4444444444444444,
              "#bd3786"
             ],
             [
              0.5555555555555556,
              "#d8576b"
             ],
             [
              0.6666666666666666,
              "#ed7953"
             ],
             [
              0.7777777777777778,
              "#fb9f3a"
             ],
             [
              0.8888888888888888,
              "#fdca26"
             ],
             [
              1,
              "#f0f921"
             ]
            ],
            "type": "surface"
           }
          ],
          "table": [
           {
            "cells": {
             "fill": {
              "color": "#EBF0F8"
             },
             "line": {
              "color": "white"
             }
            },
            "header": {
             "fill": {
              "color": "#C8D4E3"
             },
             "line": {
              "color": "white"
             }
            },
            "type": "table"
           }
          ]
         },
         "layout": {
          "annotationdefaults": {
           "arrowcolor": "#2a3f5f",
           "arrowhead": 0,
           "arrowwidth": 1
          },
          "autotypenumbers": "strict",
          "coloraxis": {
           "colorbar": {
            "outlinewidth": 0,
            "ticks": ""
           }
          },
          "colorscale": {
           "diverging": [
            [
             0,
             "#8e0152"
            ],
            [
             0.1,
             "#c51b7d"
            ],
            [
             0.2,
             "#de77ae"
            ],
            [
             0.3,
             "#f1b6da"
            ],
            [
             0.4,
             "#fde0ef"
            ],
            [
             0.5,
             "#f7f7f7"
            ],
            [
             0.6,
             "#e6f5d0"
            ],
            [
             0.7,
             "#b8e186"
            ],
            [
             0.8,
             "#7fbc41"
            ],
            [
             0.9,
             "#4d9221"
            ],
            [
             1,
             "#276419"
            ]
           ],
           "sequential": [
            [
             0,
             "#0d0887"
            ],
            [
             0.1111111111111111,
             "#46039f"
            ],
            [
             0.2222222222222222,
             "#7201a8"
            ],
            [
             0.3333333333333333,
             "#9c179e"
            ],
            [
             0.4444444444444444,
             "#bd3786"
            ],
            [
             0.5555555555555556,
             "#d8576b"
            ],
            [
             0.6666666666666666,
             "#ed7953"
            ],
            [
             0.7777777777777778,
             "#fb9f3a"
            ],
            [
             0.8888888888888888,
             "#fdca26"
            ],
            [
             1,
             "#f0f921"
            ]
           ],
           "sequentialminus": [
            [
             0,
             "#0d0887"
            ],
            [
             0.1111111111111111,
             "#46039f"
            ],
            [
             0.2222222222222222,
             "#7201a8"
            ],
            [
             0.3333333333333333,
             "#9c179e"
            ],
            [
             0.4444444444444444,
             "#bd3786"
            ],
            [
             0.5555555555555556,
             "#d8576b"
            ],
            [
             0.6666666666666666,
             "#ed7953"
            ],
            [
             0.7777777777777778,
             "#fb9f3a"
            ],
            [
             0.8888888888888888,
             "#fdca26"
            ],
            [
             1,
             "#f0f921"
            ]
           ]
          },
          "colorway": [
           "#636efa",
           "#EF553B",
           "#00cc96",
           "#ab63fa",
           "#FFA15A",
           "#19d3f3",
           "#FF6692",
           "#B6E880",
           "#FF97FF",
           "#FECB52"
          ],
          "font": {
           "color": "#2a3f5f"
          },
          "geo": {
           "bgcolor": "white",
           "lakecolor": "white",
           "landcolor": "#E5ECF6",
           "showlakes": true,
           "showland": true,
           "subunitcolor": "white"
          },
          "hoverlabel": {
           "align": "left"
          },
          "hovermode": "closest",
          "mapbox": {
           "style": "light"
          },
          "paper_bgcolor": "white",
          "plot_bgcolor": "#E5ECF6",
          "polar": {
           "angularaxis": {
            "gridcolor": "white",
            "linecolor": "white",
            "ticks": ""
           },
           "bgcolor": "#E5ECF6",
           "radialaxis": {
            "gridcolor": "white",
            "linecolor": "white",
            "ticks": ""
           }
          },
          "scene": {
           "xaxis": {
            "backgroundcolor": "#E5ECF6",
            "gridcolor": "white",
            "gridwidth": 2,
            "linecolor": "white",
            "showbackground": true,
            "ticks": "",
            "zerolinecolor": "white"
           },
           "yaxis": {
            "backgroundcolor": "#E5ECF6",
            "gridcolor": "white",
            "gridwidth": 2,
            "linecolor": "white",
            "showbackground": true,
            "ticks": "",
            "zerolinecolor": "white"
           },
           "zaxis": {
            "backgroundcolor": "#E5ECF6",
            "gridcolor": "white",
            "gridwidth": 2,
            "linecolor": "white",
            "showbackground": true,
            "ticks": "",
            "zerolinecolor": "white"
           }
          },
          "shapedefaults": {
           "line": {
            "color": "#2a3f5f"
           }
          },
          "ternary": {
           "aaxis": {
            "gridcolor": "white",
            "linecolor": "white",
            "ticks": ""
           },
           "baxis": {
            "gridcolor": "white",
            "linecolor": "white",
            "ticks": ""
           },
           "bgcolor": "#E5ECF6",
           "caxis": {
            "gridcolor": "white",
            "linecolor": "white",
            "ticks": ""
           }
          },
          "title": {
           "x": 0.05
          },
          "xaxis": {
           "automargin": true,
           "gridcolor": "white",
           "linecolor": "white",
           "ticks": "",
           "title": {
            "standoff": 15
           },
           "zerolinecolor": "white",
           "zerolinewidth": 2
          },
          "yaxis": {
           "automargin": true,
           "gridcolor": "white",
           "linecolor": "white",
           "ticks": "",
           "title": {
            "standoff": 15
           },
           "zerolinecolor": "white",
           "zerolinewidth": 2
          }
         }
        },
        "title": {
         "text": "Contour Plot"
        },
        "width": 900,
        "xaxis": {
         "anchor": "y",
         "domain": [
          0,
          0.2888888888888889
         ],
         "matches": "x7",
         "range": [
          -2.5,
          52.5
         ],
         "showticklabels": false
        },
        "xaxis2": {
         "anchor": "y2",
         "domain": [
          0.35555555555555557,
          0.6444444444444445
         ],
         "matches": "x8",
         "range": [
          -3.1118149979376115,
          0.006112082020895478
         ],
         "showticklabels": false,
         "type": "log"
        },
        "xaxis3": {
         "anchor": "y3",
         "domain": [
          0.7111111111111111,
          1
         ],
         "matches": "x9",
         "range": [
          0.04999999999999993,
          20.95
         ],
         "showticklabels": false
        },
        "xaxis4": {
         "anchor": "y4",
         "domain": [
          0,
          0.2888888888888889
         ],
         "matches": "x7",
         "range": [
          -2.5,
          52.5
         ],
         "showticklabels": false
        },
        "xaxis5": {
         "anchor": "y5",
         "domain": [
          0.35555555555555557,
          0.6444444444444445
         ],
         "matches": "x8",
         "range": [
          -3.1118149979376115,
          0.006112082020895478
         ],
         "showticklabels": false,
         "type": "log"
        },
        "xaxis6": {
         "anchor": "y6",
         "domain": [
          0.7111111111111111,
          1
         ],
         "matches": "x9",
         "range": [
          0.04999999999999993,
          20.95
         ],
         "showticklabels": false
        },
        "xaxis7": {
         "anchor": "y7",
         "domain": [
          0,
          0.2888888888888889
         ],
         "range": [
          -2.5,
          52.5
         ],
         "title": {
          "text": "l2_regularization"
         }
        },
        "xaxis8": {
         "anchor": "y8",
         "domain": [
          0.35555555555555557,
          0.6444444444444445
         ],
         "range": [
          -3.1118149979376115,
          0.006112082020895478
         ],
         "title": {
          "text": "learning_rate"
         },
         "type": "log"
        },
        "xaxis9": {
         "anchor": "y9",
         "domain": [
          0.7111111111111111,
          1
         ],
         "range": [
          0.04999999999999993,
          20.95
         ],
         "title": {
          "text": "max_depth"
         }
        },
        "yaxis": {
         "anchor": "x",
         "domain": [
          0.7333333333333333,
          1
         ],
         "range": [
          -2.5,
          52.5
         ],
         "title": {
          "text": "l2_regularization"
         }
        },
        "yaxis2": {
         "anchor": "x2",
         "domain": [
          0.7333333333333333,
          1
         ],
         "matches": "y",
         "range": [
          -2.5,
          52.5
         ],
         "showticklabels": false
        },
        "yaxis3": {
         "anchor": "x3",
         "domain": [
          0.7333333333333333,
          1
         ],
         "matches": "y",
         "range": [
          -2.5,
          52.5
         ],
         "showticklabels": false
        },
        "yaxis4": {
         "anchor": "x4",
         "domain": [
          0.36666666666666664,
          0.6333333333333333
         ],
         "range": [
          -3.1118149979376115,
          0.006112082020895478
         ],
         "title": {
          "text": "learning_rate"
         },
         "type": "log"
        },
        "yaxis5": {
         "anchor": "x5",
         "domain": [
          0.36666666666666664,
          0.6333333333333333
         ],
         "matches": "y4",
         "range": [
          -3.1118149979376115,
          0.006112082020895478
         ],
         "showticklabels": false,
         "type": "log"
        },
        "yaxis6": {
         "anchor": "x6",
         "domain": [
          0.36666666666666664,
          0.6333333333333333
         ],
         "matches": "y4",
         "range": [
          -3.1118149979376115,
          0.006112082020895478
         ],
         "showticklabels": false,
         "type": "log"
        },
        "yaxis7": {
         "anchor": "x7",
         "domain": [
          0,
          0.26666666666666666
         ],
         "range": [
          0.04999999999999993,
          20.95
         ],
         "title": {
          "text": "max_depth"
         }
        },
        "yaxis8": {
         "anchor": "x8",
         "domain": [
          0,
          0.26666666666666666
         ],
         "matches": "y7",
         "range": [
          0.04999999999999993,
          20.95
         ],
         "showticklabels": false
        },
        "yaxis9": {
         "anchor": "x9",
         "domain": [
          0,
          0.26666666666666666
         ],
         "matches": "y7",
         "range": [
          0.04999999999999993,
          20.95
         ],
         "showticklabels": false
        }
       }
      }
     },
     "metadata": {},
     "output_type": "display_data"
    }
   ],
   "source": [
    "# Contour plot to see the relationship between hyperparameters and objective value\n",
    "optuna.visualization.plot_contour(study=study).update_layout(width=900, height=900)"
   ]
  },
  {
   "cell_type": "markdown",
   "id": "7655adf9",
   "metadata": {},
   "source": [
    "The graph above can quickly become difficult to read when there are many hyperparameters.  \n",
    "To simplify, we can focus on the **two most important hyperparameters**: `max_depth` and `learning_rate`."
   ]
  },
  {
   "cell_type": "code",
   "execution_count": 33,
   "id": "fcb9e4be",
   "metadata": {},
   "outputs": [
    {
     "data": {
      "application/vnd.plotly.v1+json": {
       "config": {
        "plotlyServerURL": "https://plot.ly"
       },
       "data": [
        {
         "colorbar": {
          "title": {
           "text": "Objective Value"
          }
         },
         "colorscale": [
          [
           0,
           "rgb(247,251,255)"
          ],
          [
           0.125,
           "rgb(222,235,247)"
          ],
          [
           0.25,
           "rgb(198,219,239)"
          ],
          [
           0.375,
           "rgb(158,202,225)"
          ],
          [
           0.5,
           "rgb(107,174,214)"
          ],
          [
           0.625,
           "rgb(66,146,198)"
          ],
          [
           0.75,
           "rgb(33,113,181)"
          ],
          [
           0.875,
           "rgb(8,81,156)"
          ],
          [
           1,
           "rgb(8,48,107)"
          ]
         ],
         "connectgaps": true,
         "contours": {
          "coloring": "heatmap"
         },
         "hoverinfo": "none",
         "line": {
          "smoothing": 1.3
         },
         "reversescale": true,
         "type": "contour",
         "x": [
          0.0007730098039982993,
          0.0010712947096278532,
          0.0013715946543834,
          0.0032053017593866354,
          0.003481940932030817,
          0.0037929830616928737,
          0.004327772983792638,
          0.0067600307410323295,
          0.007295686093122071,
          0.007941507417113072,
          0.009405098801224582,
          0.014918659722108598,
          0.022672890677354895,
          0.025059371248829204,
          0.02735989115210933,
          0.0356624848244312,
          0.03783876499948317,
          0.03972684339331107,
          0.040852592369190255,
          0.050724294293077225,
          0.05862814611130388,
          0.05968147125797707,
          0.06267790206576238,
          0.06656301540233617,
          0.06738879842069814,
          0.06841733379649337,
          0.07367250670012099,
          0.0743129155992462,
          0.0851191478596688,
          0.08594758404940435,
          0.09040703862515968,
          0.09738742511013647,
          0.10543009476990717,
          0.10703725712140856,
          0.10959314366291745,
          0.13245801825215728,
          0.13879350931215192,
          0.14124914813455888,
          0.1848970871985383,
          0.1852644599694422,
          0.20151228966414866,
          0.30759256231299137,
          0.33921584757580836,
          0.4179705769461756,
          0.46167920059998824,
          0.4832848165957116,
          0.4856830940160751,
          0.5347089656296462,
          0.5552817791074284,
          0.6436364315084161,
          0.7317927858928183,
          1.0141730881236395
         ],
         "y": [
          0.04999999999999993,
          1,
          2,
          3,
          4,
          6,
          7,
          8,
          10,
          11,
          12,
          13,
          14,
          15,
          17,
          18,
          19,
          20,
          20.95
         ],
         "z": {
          "bdata": "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",
          "dtype": "f8",
          "shape": "19, 52"
         }
        },
        {
         "marker": {
          "color": "black",
          "line": {
           "color": "Gray",
           "width": 2
          }
         },
         "mode": "markers",
         "name": "Feasible Trial",
         "showlegend": false,
         "type": "scatter",
         "x": [
          0.6436364315084161,
          0.05968147125797707,
          0.003481940932030817,
          0.007295686093122071,
          0.0013715946543834,
          0.007941507417113072,
          0.4856830940160751,
          0.7317927858928183,
          0.0037929830616928737,
          0.0067600307410323295,
          0.1848970871985383,
          0.13879350931215192,
          0.025059371248829204,
          0.08594758404940435,
          0.03972684339331107,
          0.30759256231299137,
          0.33921584757580836,
          0.06267790206576238,
          0.0356624848244312,
          0.009405098801224582,
          0.0032053017593866354,
          0.46167920059998824,
          0.10703725712140856,
          0.06738879842069814,
          0.02735989115210933,
          0.09040703862515968,
          0.4179705769461756,
          0.040852592369190255,
          0.07367250670012099,
          0.0010712947096278532,
          0.004327772983792638,
          0.05862814611130388,
          0.03783876499948317,
          0.0851191478596688,
          0.06656301540233617,
          0.09738742511013647,
          0.4832848165957116,
          0.0743129155992462,
          0.13245801825215728,
          0.022672890677354895,
          0.014918659722108598,
          0.06841733379649337,
          0.10959314366291745,
          0.14124914813455888,
          0.1852644599694422,
          0.10543009476990717,
          0.5552817791074284,
          0.050724294293077225,
          0.5347089656296462,
          0.20151228966414866
         ],
         "y": [
          8,
          18,
          4,
          3,
          12,
          17,
          1,
          4,
          2,
          8,
          18,
          19,
          17,
          10,
          10,
          14,
          11,
          2,
          20,
          15,
          20,
          19,
          20,
          14,
          20,
          19,
          20,
          11,
          4,
          7,
          13,
          20,
          20,
          11,
          12,
          7,
          12,
          7,
          7,
          8,
          10,
          12,
          17,
          18,
          7,
          18,
          13,
          11,
          6,
          20
         ]
        },
        {
         "marker": {
          "color": "#cccccc",
          "line": {
           "color": "Gray",
           "width": 2
          }
         },
         "mode": "markers",
         "name": "Infeasible Trial",
         "showlegend": false,
         "type": "scatter",
         "x": [],
         "y": []
        }
       ],
       "layout": {
        "template": {
         "data": {
          "bar": [
           {
            "error_x": {
             "color": "#2a3f5f"
            },
            "error_y": {
             "color": "#2a3f5f"
            },
            "marker": {
             "line": {
              "color": "#E5ECF6",
              "width": 0.5
             },
             "pattern": {
              "fillmode": "overlay",
              "size": 10,
              "solidity": 0.2
             }
            },
            "type": "bar"
           }
          ],
          "barpolar": [
           {
            "marker": {
             "line": {
              "color": "#E5ECF6",
              "width": 0.5
             },
             "pattern": {
              "fillmode": "overlay",
              "size": 10,
              "solidity": 0.2
             }
            },
            "type": "barpolar"
           }
          ],
          "carpet": [
           {
            "aaxis": {
             "endlinecolor": "#2a3f5f",
             "gridcolor": "white",
             "linecolor": "white",
             "minorgridcolor": "white",
             "startlinecolor": "#2a3f5f"
            },
            "baxis": {
             "endlinecolor": "#2a3f5f",
             "gridcolor": "white",
             "linecolor": "white",
             "minorgridcolor": "white",
             "startlinecolor": "#2a3f5f"
            },
            "type": "carpet"
           }
          ],
          "choropleth": [
           {
            "colorbar": {
             "outlinewidth": 0,
             "ticks": ""
            },
            "type": "choropleth"
           }
          ],
          "contour": [
           {
            "colorbar": {
             "outlinewidth": 0,
             "ticks": ""
            },
            "colorscale": [
             [
              0,
              "#0d0887"
             ],
             [
              0.1111111111111111,
              "#46039f"
             ],
             [
              0.2222222222222222,
              "#7201a8"
             ],
             [
              0.3333333333333333,
              "#9c179e"
             ],
             [
              0.4444444444444444,
              "#bd3786"
             ],
             [
              0.5555555555555556,
              "#d8576b"
             ],
             [
              0.6666666666666666,
              "#ed7953"
             ],
             [
              0.7777777777777778,
              "#fb9f3a"
             ],
             [
              0.8888888888888888,
              "#fdca26"
             ],
             [
              1,
              "#f0f921"
             ]
            ],
            "type": "contour"
           }
          ],
          "contourcarpet": [
           {
            "colorbar": {
             "outlinewidth": 0,
             "ticks": ""
            },
            "type": "contourcarpet"
           }
          ],
          "heatmap": [
           {
            "colorbar": {
             "outlinewidth": 0,
             "ticks": ""
            },
            "colorscale": [
             [
              0,
              "#0d0887"
             ],
             [
              0.1111111111111111,
              "#46039f"
             ],
             [
              0.2222222222222222,
              "#7201a8"
             ],
             [
              0.3333333333333333,
              "#9c179e"
             ],
             [
              0.4444444444444444,
              "#bd3786"
             ],
             [
              0.5555555555555556,
              "#d8576b"
             ],
             [
              0.6666666666666666,
              "#ed7953"
             ],
             [
              0.7777777777777778,
              "#fb9f3a"
             ],
             [
              0.8888888888888888,
              "#fdca26"
             ],
             [
              1,
              "#f0f921"
             ]
            ],
            "type": "heatmap"
           }
          ],
          "histogram": [
           {
            "marker": {
             "pattern": {
              "fillmode": "overlay",
              "size": 10,
              "solidity": 0.2
             }
            },
            "type": "histogram"
           }
          ],
          "histogram2d": [
           {
            "colorbar": {
             "outlinewidth": 0,
             "ticks": ""
            },
            "colorscale": [
             [
              0,
              "#0d0887"
             ],
             [
              0.1111111111111111,
              "#46039f"
             ],
             [
              0.2222222222222222,
              "#7201a8"
             ],
             [
              0.3333333333333333,
              "#9c179e"
             ],
             [
              0.4444444444444444,
              "#bd3786"
             ],
             [
              0.5555555555555556,
              "#d8576b"
             ],
             [
              0.6666666666666666,
              "#ed7953"
             ],
             [
              0.7777777777777778,
              "#fb9f3a"
             ],
             [
              0.8888888888888888,
              "#fdca26"
             ],
             [
              1,
              "#f0f921"
             ]
            ],
            "type": "histogram2d"
           }
          ],
          "histogram2dcontour": [
           {
            "colorbar": {
             "outlinewidth": 0,
             "ticks": ""
            },
            "colorscale": [
             [
              0,
              "#0d0887"
             ],
             [
              0.1111111111111111,
              "#46039f"
             ],
             [
              0.2222222222222222,
              "#7201a8"
             ],
             [
              0.3333333333333333,
              "#9c179e"
             ],
             [
              0.4444444444444444,
              "#bd3786"
             ],
             [
              0.5555555555555556,
              "#d8576b"
             ],
             [
              0.6666666666666666,
              "#ed7953"
             ],
             [
              0.7777777777777778,
              "#fb9f3a"
             ],
             [
              0.8888888888888888,
              "#fdca26"
             ],
             [
              1,
              "#f0f921"
             ]
            ],
            "type": "histogram2dcontour"
           }
          ],
          "mesh3d": [
           {
            "colorbar": {
             "outlinewidth": 0,
             "ticks": ""
            },
            "type": "mesh3d"
           }
          ],
          "parcoords": [
           {
            "line": {
             "colorbar": {
              "outlinewidth": 0,
              "ticks": ""
             }
            },
            "type": "parcoords"
           }
          ],
          "pie": [
           {
            "automargin": true,
            "type": "pie"
           }
          ],
          "scatter": [
           {
            "fillpattern": {
             "fillmode": "overlay",
             "size": 10,
             "solidity": 0.2
            },
            "type": "scatter"
           }
          ],
          "scatter3d": [
           {
            "line": {
             "colorbar": {
              "outlinewidth": 0,
              "ticks": ""
             }
            },
            "marker": {
             "colorbar": {
              "outlinewidth": 0,
              "ticks": ""
             }
            },
            "type": "scatter3d"
           }
          ],
          "scattercarpet": [
           {
            "marker": {
             "colorbar": {
              "outlinewidth": 0,
              "ticks": ""
             }
            },
            "type": "scattercarpet"
           }
          ],
          "scattergeo": [
           {
            "marker": {
             "colorbar": {
              "outlinewidth": 0,
              "ticks": ""
             }
            },
            "type": "scattergeo"
           }
          ],
          "scattergl": [
           {
            "marker": {
             "colorbar": {
              "outlinewidth": 0,
              "ticks": ""
             }
            },
            "type": "scattergl"
           }
          ],
          "scattermap": [
           {
            "marker": {
             "colorbar": {
              "outlinewidth": 0,
              "ticks": ""
             }
            },
            "type": "scattermap"
           }
          ],
          "scattermapbox": [
           {
            "marker": {
             "colorbar": {
              "outlinewidth": 0,
              "ticks": ""
             }
            },
            "type": "scattermapbox"
           }
          ],
          "scatterpolar": [
           {
            "marker": {
             "colorbar": {
              "outlinewidth": 0,
              "ticks": ""
             }
            },
            "type": "scatterpolar"
           }
          ],
          "scatterpolargl": [
           {
            "marker": {
             "colorbar": {
              "outlinewidth": 0,
              "ticks": ""
             }
            },
            "type": "scatterpolargl"
           }
          ],
          "scatterternary": [
           {
            "marker": {
             "colorbar": {
              "outlinewidth": 0,
              "ticks": ""
             }
            },
            "type": "scatterternary"
           }
          ],
          "surface": [
           {
            "colorbar": {
             "outlinewidth": 0,
             "ticks": ""
            },
            "colorscale": [
             [
              0,
              "#0d0887"
             ],
             [
              0.1111111111111111,
              "#46039f"
             ],
             [
              0.2222222222222222,
              "#7201a8"
             ],
             [
              0.3333333333333333,
              "#9c179e"
             ],
             [
              0.4444444444444444,
              "#bd3786"
             ],
             [
              0.5555555555555556,
              "#d8576b"
             ],
             [
              0.6666666666666666,
              "#ed7953"
             ],
             [
              0.7777777777777778,
              "#fb9f3a"
             ],
             [
              0.8888888888888888,
              "#fdca26"
             ],
             [
              1,
              "#f0f921"
             ]
            ],
            "type": "surface"
           }
          ],
          "table": [
           {
            "cells": {
             "fill": {
              "color": "#EBF0F8"
             },
             "line": {
              "color": "white"
             }
            },
            "header": {
             "fill": {
              "color": "#C8D4E3"
             },
             "line": {
              "color": "white"
             }
            },
            "type": "table"
           }
          ]
         },
         "layout": {
          "annotationdefaults": {
           "arrowcolor": "#2a3f5f",
           "arrowhead": 0,
           "arrowwidth": 1
          },
          "autotypenumbers": "strict",
          "coloraxis": {
           "colorbar": {
            "outlinewidth": 0,
            "ticks": ""
           }
          },
          "colorscale": {
           "diverging": [
            [
             0,
             "#8e0152"
            ],
            [
             0.1,
             "#c51b7d"
            ],
            [
             0.2,
             "#de77ae"
            ],
            [
             0.3,
             "#f1b6da"
            ],
            [
             0.4,
             "#fde0ef"
            ],
            [
             0.5,
             "#f7f7f7"
            ],
            [
             0.6,
             "#e6f5d0"
            ],
            [
             0.7,
             "#b8e186"
            ],
            [
             0.8,
             "#7fbc41"
            ],
            [
             0.9,
             "#4d9221"
            ],
            [
             1,
             "#276419"
            ]
           ],
           "sequential": [
            [
             0,
             "#0d0887"
            ],
            [
             0.1111111111111111,
             "#46039f"
            ],
            [
             0.2222222222222222,
             "#7201a8"
            ],
            [
             0.3333333333333333,
             "#9c179e"
            ],
            [
             0.4444444444444444,
             "#bd3786"
            ],
            [
             0.5555555555555556,
             "#d8576b"
            ],
            [
             0.6666666666666666,
             "#ed7953"
            ],
            [
             0.7777777777777778,
             "#fb9f3a"
            ],
            [
             0.8888888888888888,
             "#fdca26"
            ],
            [
             1,
             "#f0f921"
            ]
           ],
           "sequentialminus": [
            [
             0,
             "#0d0887"
            ],
            [
             0.1111111111111111,
             "#46039f"
            ],
            [
             0.2222222222222222,
             "#7201a8"
            ],
            [
             0.3333333333333333,
             "#9c179e"
            ],
            [
             0.4444444444444444,
             "#bd3786"
            ],
            [
             0.5555555555555556,
             "#d8576b"
            ],
            [
             0.6666666666666666,
             "#ed7953"
            ],
            [
             0.7777777777777778,
             "#fb9f3a"
            ],
            [
             0.8888888888888888,
             "#fdca26"
            ],
            [
             1,
             "#f0f921"
            ]
           ]
          },
          "colorway": [
           "#636efa",
           "#EF553B",
           "#00cc96",
           "#ab63fa",
           "#FFA15A",
           "#19d3f3",
           "#FF6692",
           "#B6E880",
           "#FF97FF",
           "#FECB52"
          ],
          "font": {
           "color": "#2a3f5f"
          },
          "geo": {
           "bgcolor": "white",
           "lakecolor": "white",
           "landcolor": "#E5ECF6",
           "showlakes": true,
           "showland": true,
           "subunitcolor": "white"
          },
          "hoverlabel": {
           "align": "left"
          },
          "hovermode": "closest",
          "mapbox": {
           "style": "light"
          },
          "paper_bgcolor": "white",
          "plot_bgcolor": "#E5ECF6",
          "polar": {
           "angularaxis": {
            "gridcolor": "white",
            "linecolor": "white",
            "ticks": ""
           },
           "bgcolor": "#E5ECF6",
           "radialaxis": {
            "gridcolor": "white",
            "linecolor": "white",
            "ticks": ""
           }
          },
          "scene": {
           "xaxis": {
            "backgroundcolor": "#E5ECF6",
            "gridcolor": "white",
            "gridwidth": 2,
            "linecolor": "white",
            "showbackground": true,
            "ticks": "",
            "zerolinecolor": "white"
           },
           "yaxis": {
            "backgroundcolor": "#E5ECF6",
            "gridcolor": "white",
            "gridwidth": 2,
            "linecolor": "white",
            "showbackground": true,
            "ticks": "",
            "zerolinecolor": "white"
           },
           "zaxis": {
            "backgroundcolor": "#E5ECF6",
            "gridcolor": "white",
            "gridwidth": 2,
            "linecolor": "white",
            "showbackground": true,
            "ticks": "",
            "zerolinecolor": "white"
           }
          },
          "shapedefaults": {
           "line": {
            "color": "#2a3f5f"
           }
          },
          "ternary": {
           "aaxis": {
            "gridcolor": "white",
            "linecolor": "white",
            "ticks": ""
           },
           "baxis": {
            "gridcolor": "white",
            "linecolor": "white",
            "ticks": ""
           },
           "bgcolor": "#E5ECF6",
           "caxis": {
            "gridcolor": "white",
            "linecolor": "white",
            "ticks": ""
           }
          },
          "title": {
           "x": 0.05
          },
          "xaxis": {
           "automargin": true,
           "gridcolor": "white",
           "linecolor": "white",
           "ticks": "",
           "title": {
            "standoff": 15
           },
           "zerolinecolor": "white",
           "zerolinewidth": 2
          },
          "yaxis": {
           "automargin": true,
           "gridcolor": "white",
           "linecolor": "white",
           "ticks": "",
           "title": {
            "standoff": 15
           },
           "zerolinecolor": "white",
           "zerolinewidth": 2
          }
         }
        },
        "title": {
         "text": "Contour Plot"
        },
        "xaxis": {
         "range": [
          -3.1118149979376115,
          0.006112082020895478
         ],
         "title": {
          "text": "learning_rate"
         },
         "type": "log"
        },
        "yaxis": {
         "range": [
          0.04999999999999993,
          20.95
         ],
         "title": {
          "text": "max_depth"
         }
        }
       }
      }
     },
     "metadata": {},
     "output_type": "display_data"
    }
   ],
   "source": [
    "optuna.visualization.plot_contour(study=study, params=[\"max_depth\", \"learning_rate\"])"
   ]
  },
  {
   "cell_type": "markdown",
   "id": "4549869f",
   "metadata": {},
   "source": [
    "We can observe a region where `learning_rate < 0.02` in which the objective value is high.  \n",
    "To improve the optimization process, we could **increase the lower bound of the learning rate to 0.02** instead of 0.001.\n",
    "\n",
    "Additionally, we notice that trials with `max_depth < 7` rarely lead to good performance.  \n",
    "We could further **restrict the search space** by adjusting the lower bound of `max_depth`.\n",
    "\n",
    "These adjustments would guide Optuna to focus on regions with better performance, allowing it to explore the most promising areas in more detail.\n",
    "\n",
    "We can also perform a quick validation using `optuna.visualization.plot_rank()` to identify which hyperparameter ranges consistently provide the best results.\n"
   ]
  },
  {
   "cell_type": "code",
   "execution_count": 34,
   "id": "dd896885",
   "metadata": {},
   "outputs": [
    {
     "data": {
      "application/vnd.plotly.v1+json": {
       "config": {
        "plotlyServerURL": "https://plot.ly"
       },
       "data": [
        {
         "hovertemplate": "%{hovertext}<extra></extra>",
         "hovertext": [
          "Trial #0<br>max_depth: 8<br>learning_rate: 0.6436364315084161<br>l2_regularization: 0.0<br><b>Objective Value: 116.45111295279241</b>",
          "Trial #1<br>max_depth: 18<br>learning_rate: 0.05968147125797707<br>l2_regularization: 1.0<br><b>Objective Value: 106.64345657837573</b>",
          "Trial #2<br>max_depth: 4<br>learning_rate: 0.003481940932030817<br>l2_regularization: 50.0<br><b>Objective Value: 187.54770248100584</b>",
          "Trial #3<br>max_depth: 3<br>learning_rate: 0.007295686093122071<br>l2_regularization: 1.0<br><b>Objective Value: 169.60875747445698</b>",
          "Trial #4<br>max_depth: 12<br>learning_rate: 0.0013715946543834<br>l2_regularization: 50.0<br><b>Objective Value: 204.30634487071012</b>",
          "Trial #5<br>max_depth: 17<br>learning_rate: 0.007941507417113072<br>l2_regularization: 0.1<br><b>Objective Value: 151.83548391492607</b>",
          "Trial #6<br>max_depth: 1<br>learning_rate: 0.4856830940160751<br>l2_regularization: 0.1<br><b>Objective Value: 118.10157566212587</b>",
          "Trial #7<br>max_depth: 4<br>learning_rate: 0.7317927858928183<br>l2_regularization: 0.1<br><b>Objective Value: 115.39004957560152</b>",
          "Trial #8<br>max_depth: 2<br>learning_rate: 0.0037929830616928737<br>l2_regularization: 50.0<br><b>Objective Value: 197.91657752729296</b>",
          "Trial #9<br>max_depth: 8<br>learning_rate: 0.0067600307410323295<br>l2_regularization: 50.0<br><b>Objective Value: 163.76106186541762</b>",
          "Trial #10<br>max_depth: 18<br>learning_rate: 0.1848970871985383<br>l2_regularization: 1.0<br><b>Objective Value: 107.25766201718629</b>",
          "Trial #11<br>max_depth: 19<br>learning_rate: 0.13879350931215192<br>l2_regularization: 1.0<br><b>Objective Value: 106.86579840666481</b>",
          "Trial #12<br>max_depth: 17<br>learning_rate: 0.025059371248829204<br>l2_regularization: 1.0<br><b>Objective Value: 114.92978892268198</b>",
          "Trial #13<br>max_depth: 10<br>learning_rate: 0.08594758404940435<br>l2_regularization: 1.0<br><b>Objective Value: 106.51426156672777</b>",
          "Trial #14<br>max_depth: 10<br>learning_rate: 0.03972684339331107<br>l2_regularization: 1.0<br><b>Objective Value: 109.08550411279977</b>",
          "Trial #15<br>max_depth: 14<br>learning_rate: 0.30759256231299137<br>l2_regularization: 50.0<br><b>Objective Value: 109.51049774833909</b>",
          "Trial #16<br>max_depth: 11<br>learning_rate: 0.33921584757580836<br>l2_regularization: 1.0<br><b>Objective Value: 110.33462771854597</b>",
          "Trial #17<br>max_depth: 2<br>learning_rate: 0.06267790206576238<br>l2_regularization: 10.0<br><b>Objective Value: 120.48488649594803</b>",
          "Trial #18<br>max_depth: 20<br>learning_rate: 0.0356624848244312<br>l2_regularization: 50.0<br><b>Objective Value: 114.00868465158658</b>",
          "Trial #19<br>max_depth: 15<br>learning_rate: 0.009405098801224582<br>l2_regularization: 10.0<br><b>Objective Value: 146.9471804899667</b>",
          "Trial #20<br>max_depth: 20<br>learning_rate: 0.0032053017593866354<br>l2_regularization: 1.0<br><b>Objective Value: 184.41684714976773</b>",
          "Trial #21<br>max_depth: 19<br>learning_rate: 0.46167920059998824<br>l2_regularization: 0.1<br><b>Objective Value: 110.71081322294846</b>",
          "Trial #22<br>max_depth: 20<br>learning_rate: 0.10703725712140856<br>l2_regularization: 0.0<br><b>Objective Value: 106.23972805435125</b>",
          "Trial #23<br>max_depth: 14<br>learning_rate: 0.06738879842069814<br>l2_regularization: 0.0<br><b>Objective Value: 107.00563833342714</b>",
          "Trial #24<br>max_depth: 20<br>learning_rate: 0.02735989115210933<br>l2_regularization: 0.0<br><b>Objective Value: 113.24731812309949</b>",
          "Trial #25<br>max_depth: 19<br>learning_rate: 0.09040703862515968<br>l2_regularization: 10.0<br><b>Objective Value: 107.27327671081083</b>",
          "Trial #26<br>max_depth: 20<br>learning_rate: 0.4179705769461756<br>l2_regularization: 0.0<br><b>Objective Value: 111.72621774852716</b>",
          "Trial #27<br>max_depth: 11<br>learning_rate: 0.040852592369190255<br>l2_regularization: 0.1<br><b>Objective Value: 108.43535139980486</b>",
          "Trial #28<br>max_depth: 4<br>learning_rate: 0.07367250670012099<br>l2_regularization: 1.0<br><b>Objective Value: 107.71486909175755</b>",
          "Trial #29<br>max_depth: 7<br>learning_rate: 0.0010712947096278532<br>l2_regularization: 0.0<br><b>Objective Value: 206.03853153099905</b>",
          "Trial #30<br>max_depth: 13<br>learning_rate: 0.004327772983792638<br>l2_regularization: 1.0<br><b>Objective Value: 175.1142546839667</b>",
          "Trial #31<br>max_depth: 20<br>learning_rate: 0.05862814611130388<br>l2_regularization: 1.0<br><b>Objective Value: 106.78871621566827</b>",
          "Trial #32<br>max_depth: 20<br>learning_rate: 0.03783876499948317<br>l2_regularization: 0.1<br><b>Objective Value: 109.56734001614623</b>",
          "Trial #33<br>max_depth: 11<br>learning_rate: 0.0851191478596688<br>l2_regularization: 10.0<br><b>Objective Value: 106.57265016415045</b>",
          "Trial #34<br>max_depth: 12<br>learning_rate: 0.06656301540233617<br>l2_regularization: 10.0<br><b>Objective Value: 106.98485220826815</b>",
          "Trial #35<br>max_depth: 7<br>learning_rate: 0.09738742511013647<br>l2_regularization: 10.0<br><b>Objective Value: 106.62087703317414</b>",
          "Trial #36<br>max_depth: 12<br>learning_rate: 0.4832848165957116<br>l2_regularization: 10.0<br><b>Objective Value: 112.83379568377052</b>",
          "Trial #37<br>max_depth: 7<br>learning_rate: 0.0743129155992462<br>l2_regularization: 50.0<br><b>Objective Value: 108.2216730212735</b>",
          "Trial #38<br>max_depth: 7<br>learning_rate: 0.13245801825215728<br>l2_regularization: 10.0<br><b>Objective Value: 107.36702828324992</b>",
          "Trial #39<br>max_depth: 8<br>learning_rate: 0.022672890677354895<br>l2_regularization: 10.0<br><b>Objective Value: 118.19337653433473</b>",
          "Trial #40<br>max_depth: 10<br>learning_rate: 0.014918659722108598<br>l2_regularization: 0.0<br><b>Objective Value: 128.00355516654767</b>",
          "Trial #41<br>max_depth: 12<br>learning_rate: 0.06841733379649337<br>l2_regularization: 1.0<br><b>Objective Value: 106.81958041167422</b>",
          "Trial #42<br>max_depth: 17<br>learning_rate: 0.10959314366291745<br>l2_regularization: 0.0<br><b>Objective Value: 106.63196978347527</b>",
          "Trial #43<br>max_depth: 18<br>learning_rate: 0.14124914813455888<br>l2_regularization: 0.0<br><b>Objective Value: 106.32932502326777</b>",
          "Trial #44<br>max_depth: 7<br>learning_rate: 0.1852644599694422<br>l2_regularization: 0.0<br><b>Objective Value: 107.38123619574282</b>",
          "Trial #45<br>max_depth: 18<br>learning_rate: 0.10543009476990717<br>l2_regularization: 0.0<br><b>Objective Value: 107.11109356303018</b>",
          "Trial #46<br>max_depth: 13<br>learning_rate: 0.5552817791074284<br>l2_regularization: 0.0<br><b>Objective Value: 114.52462122214982</b>",
          "Trial #47<br>max_depth: 11<br>learning_rate: 0.050724294293077225<br>l2_regularization: 10.0<br><b>Objective Value: 108.01266162999403</b>",
          "Trial #48<br>max_depth: 6<br>learning_rate: 0.5347089656296462<br>l2_regularization: 10.0<br><b>Objective Value: 113.49816113862987</b>",
          "Trial #49<br>max_depth: 20<br>learning_rate: 0.20151228966414866<br>l2_regularization: 0.0<br><b>Objective Value: 108.27669857190796</b>"
         ],
         "marker": {
          "color": [
           "rgb(252.0, 165.0, 93.0)",
           "rgb(80.0, 130.0, 187.0)",
           "rgb(196.0, 29.0, 39.0)",
           "rgb(222.0, 62.0, 45.0)",
           "rgb(175.0, 10.0, 38.0)",
           "rgb(233.0, 87.0, 57.0)",
           "rgb(250.0, 151.0, 87.0)",
           "rgb(253.0, 177.0, 100.0)",
           "rgb(185.0, 20.0, 38.0)",
           "rgb(227.0, 74.0, 51.0)",
           "rgb(152.0, 202.0, 225.0)",
           "rgb(108.0, 164.0, 204.0)",
           "rgb(253.0, 187.0, 109.0)",
           "rgb(57.0, 80.0, 162.0)",
           "rgb(239.0, 249.0, 220.0)",
           "rgb(246.0, 251.0, 208.0)",
           "rgb(255.0, 252.0, 186.0)",
           "rgb(246.0, 125.0, 74.0)",
           "rgb(254.0, 208.0, 129.0)",
           "rgb(239.0, 99.0, 62.0)",
           "rgb(206.0, 39.0, 39.0)",
           "rgb(255.0, 246.0, 177.0)",
           "rgb(49.0, 54.0, 149.0)",
           "rgb(129.0, 184.0, 215.0)",
           "rgb(254.0, 227.0, 148.0)",
           "rgb(163.0, 211.0, 230.0)",
           "rgb(254.0, 239.0, 167.0)",
           "rgb(233.0, 246.0, 232.0)",
           "rgb(196.0, 229.0, 240.0)",
           "rgb(165.0, 0.0, 38.0)",
           "rgb(216.0, 49.0, 40.0)",
           "rgb(89.0, 141.0, 192.0)",
           "rgb(252.0, 254.0, 197.0)",
           "rgb(61.0, 93.0, 168.0)",
           "rgb(118.0, 175.0, 210.0)",
           "rgb(65.0, 105.0, 174.0)",
           "rgb(254.0, 233.0, 157.0)",
           "rgb(218.0, 240.0, 246.0)",
           "rgb(174.0, 219.0, 234.0)",
           "rgb(248.0, 138.0, 80.0)",
           "rgb(244.0, 112.0, 68.0)",
           "rgb(99.0, 152.0, 198.0)",
           "rgb(70.0, 118.0, 181.0)",
           "rgb(53.0, 67.0, 155.0)",
           "rgb(185.0, 224.0, 237.0)",
           "rgb(141.0, 193.0, 220.0)",
           "rgb(253.0, 197.0, 119.0)",
           "rgb(207.0, 235.0, 243.0)",
           "rgb(254.0, 218.0, 138.0)",
           "rgb(227.0, 244.0, 243.0)"
          ],
          "line": {
           "color": "Grey",
           "width": 0.5
          }
         },
         "mode": "markers",
         "showlegend": false,
         "type": "scatter",
         "x": [
          0.6436364315084161,
          0.05968147125797707,
          0.003481940932030817,
          0.007295686093122071,
          0.0013715946543834,
          0.007941507417113072,
          0.4856830940160751,
          0.7317927858928183,
          0.0037929830616928737,
          0.0067600307410323295,
          0.1848970871985383,
          0.13879350931215192,
          0.025059371248829204,
          0.08594758404940435,
          0.03972684339331107,
          0.30759256231299137,
          0.33921584757580836,
          0.06267790206576238,
          0.0356624848244312,
          0.009405098801224582,
          0.0032053017593866354,
          0.46167920059998824,
          0.10703725712140856,
          0.06738879842069814,
          0.02735989115210933,
          0.09040703862515968,
          0.4179705769461756,
          0.040852592369190255,
          0.07367250670012099,
          0.0010712947096278532,
          0.004327772983792638,
          0.05862814611130388,
          0.03783876499948317,
          0.0851191478596688,
          0.06656301540233617,
          0.09738742511013647,
          0.4832848165957116,
          0.0743129155992462,
          0.13245801825215728,
          0.022672890677354895,
          0.014918659722108598,
          0.06841733379649337,
          0.10959314366291745,
          0.14124914813455888,
          0.1852644599694422,
          0.10543009476990717,
          0.5552817791074284,
          0.050724294293077225,
          0.5347089656296462,
          0.20151228966414866
         ],
         "y": [
          8,
          18,
          4,
          3,
          12,
          17,
          1,
          4,
          2,
          8,
          18,
          19,
          17,
          10,
          10,
          14,
          11,
          2,
          20,
          15,
          20,
          19,
          20,
          14,
          20,
          19,
          20,
          11,
          4,
          7,
          13,
          20,
          20,
          11,
          12,
          7,
          12,
          7,
          7,
          8,
          10,
          12,
          17,
          18,
          7,
          18,
          13,
          11,
          6,
          20
         ]
        },
        {
         "hoverinfo": "none",
         "marker": {
          "cmax": 1,
          "cmin": 0,
          "colorbar": {
           "thickness": 10,
           "ticktext": [
            "min. (106.24)",
            "25% (107.148)",
            "50% (109.951)",
            "75% (118.17)",
            "max. (206.039)"
           ],
           "tickvals": [
            0,
            0.25,
            0.5,
            0.75,
            1
           ]
          },
          "colorscale": [
           [
            0,
            "rgb(49,54,149)"
           ],
           [
            0.1,
            "rgb(69,117,180)"
           ],
           [
            0.2,
            "rgb(116,173,209)"
           ],
           [
            0.3,
            "rgb(171,217,233)"
           ],
           [
            0.4,
            "rgb(224,243,248)"
           ],
           [
            0.5,
            "rgb(255,255,191)"
           ],
           [
            0.6,
            "rgb(254,224,144)"
           ],
           [
            0.7,
            "rgb(253,174,97)"
           ],
           [
            0.8,
            "rgb(244,109,67)"
           ],
           [
            0.9,
            "rgb(215,48,39)"
           ],
           [
            1,
            "rgb(165,0,38)"
           ]
          ],
          "showscale": true
         },
         "mode": "markers",
         "showlegend": false,
         "type": "scatter",
         "x": [
          null
         ],
         "y": [
          null
         ]
        }
       ],
       "layout": {
        "template": {
         "data": {
          "bar": [
           {
            "error_x": {
             "color": "#2a3f5f"
            },
            "error_y": {
             "color": "#2a3f5f"
            },
            "marker": {
             "line": {
              "color": "#E5ECF6",
              "width": 0.5
             },
             "pattern": {
              "fillmode": "overlay",
              "size": 10,
              "solidity": 0.2
             }
            },
            "type": "bar"
           }
          ],
          "barpolar": [
           {
            "marker": {
             "line": {
              "color": "#E5ECF6",
              "width": 0.5
             },
             "pattern": {
              "fillmode": "overlay",
              "size": 10,
              "solidity": 0.2
             }
            },
            "type": "barpolar"
           }
          ],
          "carpet": [
           {
            "aaxis": {
             "endlinecolor": "#2a3f5f",
             "gridcolor": "white",
             "linecolor": "white",
             "minorgridcolor": "white",
             "startlinecolor": "#2a3f5f"
            },
            "baxis": {
             "endlinecolor": "#2a3f5f",
             "gridcolor": "white",
             "linecolor": "white",
             "minorgridcolor": "white",
             "startlinecolor": "#2a3f5f"
            },
            "type": "carpet"
           }
          ],
          "choropleth": [
           {
            "colorbar": {
             "outlinewidth": 0,
             "ticks": ""
            },
            "type": "choropleth"
           }
          ],
          "contour": [
           {
            "colorbar": {
             "outlinewidth": 0,
             "ticks": ""
            },
            "colorscale": [
             [
              0,
              "#0d0887"
             ],
             [
              0.1111111111111111,
              "#46039f"
             ],
             [
              0.2222222222222222,
              "#7201a8"
             ],
             [
              0.3333333333333333,
              "#9c179e"
             ],
             [
              0.4444444444444444,
              "#bd3786"
             ],
             [
              0.5555555555555556,
              "#d8576b"
             ],
             [
              0.6666666666666666,
              "#ed7953"
             ],
             [
              0.7777777777777778,
              "#fb9f3a"
             ],
             [
              0.8888888888888888,
              "#fdca26"
             ],
             [
              1,
              "#f0f921"
             ]
            ],
            "type": "contour"
           }
          ],
          "contourcarpet": [
           {
            "colorbar": {
             "outlinewidth": 0,
             "ticks": ""
            },
            "type": "contourcarpet"
           }
          ],
          "heatmap": [
           {
            "colorbar": {
             "outlinewidth": 0,
             "ticks": ""
            },
            "colorscale": [
             [
              0,
              "#0d0887"
             ],
             [
              0.1111111111111111,
              "#46039f"
             ],
             [
              0.2222222222222222,
              "#7201a8"
             ],
             [
              0.3333333333333333,
              "#9c179e"
             ],
             [
              0.4444444444444444,
              "#bd3786"
             ],
             [
              0.5555555555555556,
              "#d8576b"
             ],
             [
              0.6666666666666666,
              "#ed7953"
             ],
             [
              0.7777777777777778,
              "#fb9f3a"
             ],
             [
              0.8888888888888888,
              "#fdca26"
             ],
             [
              1,
              "#f0f921"
             ]
            ],
            "type": "heatmap"
           }
          ],
          "histogram": [
           {
            "marker": {
             "pattern": {
              "fillmode": "overlay",
              "size": 10,
              "solidity": 0.2
             }
            },
            "type": "histogram"
           }
          ],
          "histogram2d": [
           {
            "colorbar": {
             "outlinewidth": 0,
             "ticks": ""
            },
            "colorscale": [
             [
              0,
              "#0d0887"
             ],
             [
              0.1111111111111111,
              "#46039f"
             ],
             [
              0.2222222222222222,
              "#7201a8"
             ],
             [
              0.3333333333333333,
              "#9c179e"
             ],
             [
              0.4444444444444444,
              "#bd3786"
             ],
             [
              0.5555555555555556,
              "#d8576b"
             ],
             [
              0.6666666666666666,
              "#ed7953"
             ],
             [
              0.7777777777777778,
              "#fb9f3a"
             ],
             [
              0.8888888888888888,
              "#fdca26"
             ],
             [
              1,
              "#f0f921"
             ]
            ],
            "type": "histogram2d"
           }
          ],
          "histogram2dcontour": [
           {
            "colorbar": {
             "outlinewidth": 0,
             "ticks": ""
            },
            "colorscale": [
             [
              0,
              "#0d0887"
             ],
             [
              0.1111111111111111,
              "#46039f"
             ],
             [
              0.2222222222222222,
              "#7201a8"
             ],
             [
              0.3333333333333333,
              "#9c179e"
             ],
             [
              0.4444444444444444,
              "#bd3786"
             ],
             [
              0.5555555555555556,
              "#d8576b"
             ],
             [
              0.6666666666666666,
              "#ed7953"
             ],
             [
              0.7777777777777778,
              "#fb9f3a"
             ],
             [
              0.8888888888888888,
              "#fdca26"
             ],
             [
              1,
              "#f0f921"
             ]
            ],
            "type": "histogram2dcontour"
           }
          ],
          "mesh3d": [
           {
            "colorbar": {
             "outlinewidth": 0,
             "ticks": ""
            },
            "type": "mesh3d"
           }
          ],
          "parcoords": [
           {
            "line": {
             "colorbar": {
              "outlinewidth": 0,
              "ticks": ""
             }
            },
            "type": "parcoords"
           }
          ],
          "pie": [
           {
            "automargin": true,
            "type": "pie"
           }
          ],
          "scatter": [
           {
            "fillpattern": {
             "fillmode": "overlay",
             "size": 10,
             "solidity": 0.2
            },
            "type": "scatter"
           }
          ],
          "scatter3d": [
           {
            "line": {
             "colorbar": {
              "outlinewidth": 0,
              "ticks": ""
             }
            },
            "marker": {
             "colorbar": {
              "outlinewidth": 0,
              "ticks": ""
             }
            },
            "type": "scatter3d"
           }
          ],
          "scattercarpet": [
           {
            "marker": {
             "colorbar": {
              "outlinewidth": 0,
              "ticks": ""
             }
            },
            "type": "scattercarpet"
           }
          ],
          "scattergeo": [
           {
            "marker": {
             "colorbar": {
              "outlinewidth": 0,
              "ticks": ""
             }
            },
            "type": "scattergeo"
           }
          ],
          "scattergl": [
           {
            "marker": {
             "colorbar": {
              "outlinewidth": 0,
              "ticks": ""
             }
            },
            "type": "scattergl"
           }
          ],
          "scattermap": [
           {
            "marker": {
             "colorbar": {
              "outlinewidth": 0,
              "ticks": ""
             }
            },
            "type": "scattermap"
           }
          ],
          "scattermapbox": [
           {
            "marker": {
             "colorbar": {
              "outlinewidth": 0,
              "ticks": ""
             }
            },
            "type": "scattermapbox"
           }
          ],
          "scatterpolar": [
           {
            "marker": {
             "colorbar": {
              "outlinewidth": 0,
              "ticks": ""
             }
            },
            "type": "scatterpolar"
           }
          ],
          "scatterpolargl": [
           {
            "marker": {
             "colorbar": {
              "outlinewidth": 0,
              "ticks": ""
             }
            },
            "type": "scatterpolargl"
           }
          ],
          "scatterternary": [
           {
            "marker": {
             "colorbar": {
              "outlinewidth": 0,
              "ticks": ""
             }
            },
            "type": "scatterternary"
           }
          ],
          "surface": [
           {
            "colorbar": {
             "outlinewidth": 0,
             "ticks": ""
            },
            "colorscale": [
             [
              0,
              "#0d0887"
             ],
             [
              0.1111111111111111,
              "#46039f"
             ],
             [
              0.2222222222222222,
              "#7201a8"
             ],
             [
              0.3333333333333333,
              "#9c179e"
             ],
             [
              0.4444444444444444,
              "#bd3786"
             ],
             [
              0.5555555555555556,
              "#d8576b"
             ],
             [
              0.6666666666666666,
              "#ed7953"
             ],
             [
              0.7777777777777778,
              "#fb9f3a"
             ],
             [
              0.8888888888888888,
              "#fdca26"
             ],
             [
              1,
              "#f0f921"
             ]
            ],
            "type": "surface"
           }
          ],
          "table": [
           {
            "cells": {
             "fill": {
              "color": "#EBF0F8"
             },
             "line": {
              "color": "white"
             }
            },
            "header": {
             "fill": {
              "color": "#C8D4E3"
             },
             "line": {
              "color": "white"
             }
            },
            "type": "table"
           }
          ]
         },
         "layout": {
          "annotationdefaults": {
           "arrowcolor": "#2a3f5f",
           "arrowhead": 0,
           "arrowwidth": 1
          },
          "autotypenumbers": "strict",
          "coloraxis": {
           "colorbar": {
            "outlinewidth": 0,
            "ticks": ""
           }
          },
          "colorscale": {
           "diverging": [
            [
             0,
             "#8e0152"
            ],
            [
             0.1,
             "#c51b7d"
            ],
            [
             0.2,
             "#de77ae"
            ],
            [
             0.3,
             "#f1b6da"
            ],
            [
             0.4,
             "#fde0ef"
            ],
            [
             0.5,
             "#f7f7f7"
            ],
            [
             0.6,
             "#e6f5d0"
            ],
            [
             0.7,
             "#b8e186"
            ],
            [
             0.8,
             "#7fbc41"
            ],
            [
             0.9,
             "#4d9221"
            ],
            [
             1,
             "#276419"
            ]
           ],
           "sequential": [
            [
             0,
             "#0d0887"
            ],
            [
             0.1111111111111111,
             "#46039f"
            ],
            [
             0.2222222222222222,
             "#7201a8"
            ],
            [
             0.3333333333333333,
             "#9c179e"
            ],
            [
             0.4444444444444444,
             "#bd3786"
            ],
            [
             0.5555555555555556,
             "#d8576b"
            ],
            [
             0.6666666666666666,
             "#ed7953"
            ],
            [
             0.7777777777777778,
             "#fb9f3a"
            ],
            [
             0.8888888888888888,
             "#fdca26"
            ],
            [
             1,
             "#f0f921"
            ]
           ],
           "sequentialminus": [
            [
             0,
             "#0d0887"
            ],
            [
             0.1111111111111111,
             "#46039f"
            ],
            [
             0.2222222222222222,
             "#7201a8"
            ],
            [
             0.3333333333333333,
             "#9c179e"
            ],
            [
             0.4444444444444444,
             "#bd3786"
            ],
            [
             0.5555555555555556,
             "#d8576b"
            ],
            [
             0.6666666666666666,
             "#ed7953"
            ],
            [
             0.7777777777777778,
             "#fb9f3a"
            ],
            [
             0.8888888888888888,
             "#fdca26"
            ],
            [
             1,
             "#f0f921"
            ]
           ]
          },
          "colorway": [
           "#636efa",
           "#EF553B",
           "#00cc96",
           "#ab63fa",
           "#FFA15A",
           "#19d3f3",
           "#FF6692",
           "#B6E880",
           "#FF97FF",
           "#FECB52"
          ],
          "font": {
           "color": "#2a3f5f"
          },
          "geo": {
           "bgcolor": "white",
           "lakecolor": "white",
           "landcolor": "#E5ECF6",
           "showlakes": true,
           "showland": true,
           "subunitcolor": "white"
          },
          "hoverlabel": {
           "align": "left"
          },
          "hovermode": "closest",
          "mapbox": {
           "style": "light"
          },
          "paper_bgcolor": "white",
          "plot_bgcolor": "#E5ECF6",
          "polar": {
           "angularaxis": {
            "gridcolor": "white",
            "linecolor": "white",
            "ticks": ""
           },
           "bgcolor": "#E5ECF6",
           "radialaxis": {
            "gridcolor": "white",
            "linecolor": "white",
            "ticks": ""
           }
          },
          "scene": {
           "xaxis": {
            "backgroundcolor": "#E5ECF6",
            "gridcolor": "white",
            "gridwidth": 2,
            "linecolor": "white",
            "showbackground": true,
            "ticks": "",
            "zerolinecolor": "white"
           },
           "yaxis": {
            "backgroundcolor": "#E5ECF6",
            "gridcolor": "white",
            "gridwidth": 2,
            "linecolor": "white",
            "showbackground": true,
            "ticks": "",
            "zerolinecolor": "white"
           },
           "zaxis": {
            "backgroundcolor": "#E5ECF6",
            "gridcolor": "white",
            "gridwidth": 2,
            "linecolor": "white",
            "showbackground": true,
            "ticks": "",
            "zerolinecolor": "white"
           }
          },
          "shapedefaults": {
           "line": {
            "color": "#2a3f5f"
           }
          },
          "ternary": {
           "aaxis": {
            "gridcolor": "white",
            "linecolor": "white",
            "ticks": ""
           },
           "baxis": {
            "gridcolor": "white",
            "linecolor": "white",
            "ticks": ""
           },
           "bgcolor": "#E5ECF6",
           "caxis": {
            "gridcolor": "white",
            "linecolor": "white",
            "ticks": ""
           }
          },
          "title": {
           "x": 0.05
          },
          "xaxis": {
           "automargin": true,
           "gridcolor": "white",
           "linecolor": "white",
           "ticks": "",
           "title": {
            "standoff": 15
           },
           "zerolinecolor": "white",
           "zerolinewidth": 2
          },
          "yaxis": {
           "automargin": true,
           "gridcolor": "white",
           "linecolor": "white",
           "ticks": "",
           "title": {
            "standoff": 15
           },
           "zerolinecolor": "white",
           "zerolinewidth": 2
          }
         }
        },
        "title": {
         "text": "Rank (Objective Value)"
        },
        "xaxis": {
         "range": [
          -3.1118149979376115,
          0.006112082020895478
         ],
         "title": {
          "text": "learning_rate"
         },
         "type": "log"
        },
        "yaxis": {
         "range": [
          0.04999999999999993,
          20.95
         ],
         "title": {
          "text": "max_depth"
         }
        }
       }
      }
     },
     "metadata": {},
     "output_type": "display_data"
    }
   ],
   "source": [
    "optuna.visualization.plot_rank(study=study, params=[\"learning_rate\",\"max_depth\"])"
   ]
  },
  {
   "cell_type": "markdown",
   "id": "a8c0fcce",
   "metadata": {},
   "source": [
    "## 4. Setting up baselines with enqueue trials"
   ]
  },
  {
   "cell_type": "markdown",
   "id": "c726d2e4",
   "metadata": {},
   "source": [
    "### Key Discoveries So Far\n",
    "\n",
    "1. The current optimization process improves the model but introduces some **overfitting**.  \n",
    "2. We could **reduce the number of trials** and still achieve similar performance.  \n",
    "3. Certain hyperparameters have a greater impact on the objective than others, notably `learning_rate` and `max_depth`.  \n",
    "4. The **search space** for `learning_rate` and `max_depth` could be narrowed to avoid low values that lead to poor performance.  \n",
    "\n",
    "---\n",
    "\n",
    "However, one important question remains:\n",
    "\n",
    "**How much did hyperparameter optimization improve the model compared to a default configuration?**\n",
    "\n",
    "To answer this, we need a **baseline**. Optuna provides a feature for this purpose: **enqueue trials**, which allows us to explicitly evaluate default or reference hyperparameter configurations.\n"
   ]
  },
  {
   "cell_type": "markdown",
   "id": "db6d6509",
   "metadata": {},
   "source": [
    "**Enqueue Trials**\n",
    "\n",
    "Enqueue trials allow us to set **specific hyperparameter configurations** to be evaluated during the optimization process.\n",
    "\n",
    "Optuna will **evaluate all enqueued trials first** before proceeding with its standard sampling strategy.  \n",
    "Here, we use this feature to test the performance of the **default hyperparameters** of the `HistGradientBoostingRegressor`.\n",
    "\n",
    "Additionally, we can enqueue another trial using the **best hyperparameters found in a previous optimization run**.  \n",
    "This provides Optuna with a **benchmark** to compare against during the current study and offers **insight into which regions of the search space previously yielded good results**.\n"
   ]
  },
  {
   "cell_type": "code",
   "execution_count": null,
   "id": "f6abd2ba",
   "metadata": {},
   "outputs": [],
   "source": [
    "# Before jumping to the enqueuing of trials, we can also define an improved objective function that\n",
    "# limits the search space based on insights from the previous study\n",
    "def training_objective_improved(trial:optuna.trial.Trial) -> float:\n",
    "    max_depth = trial.suggest_int(\"max_depth\", 7, 20)\n",
    "    learning_rate = trial.suggest_float(\"learning_rate\", 0.02, 0.9, log=True)\n",
    "    l2_regularization = trial.suggest_categorical(\"l2_regularization\", [0.0, 0.1, 1.0, 10.0, 50.0])\n",
    "    model = HistGradientBoostingRegressor(\n",
    "        max_depth=max_depth,\n",
    "        learning_rate=learning_rate,\n",
    "        l2_regularization=l2_regularization,\n",
    "        categorical_features=categorical_features,\n",
    "        early_stopping=True,\n",
    "        random_state=42,\n",
    "    )\n",
    "    model.fit(X=X_train, y=y_train, X_val=X_val, y_val=y_val)\n",
    "    val_predictions = model.predict(X_val)\n",
    "    return root_mean_squared_error(y_true=y_val, y_pred=val_predictions)"
   ]
  },
  {
   "cell_type": "code",
   "execution_count": null,
   "id": "575ee9f7",
   "metadata": {},
   "outputs": [],
   "source": [
    "# Before jumping to the enqueuing of trials, we can also define an improved objective function that\n",
    "# limits the search space based on insights from the previous study\n",
    "def training_objective_improved(trial:optuna.trial.Trial) -> float:\n",
    "    max_depth = trial.suggest_int(\"max_depth\", 7, 20)\n",
    "    learning_rate = trial.suggest_float(\"learning_rate\", 0.02, 0.9, log=True)\n",
    "    l2_regularization = trial.suggest_categorical(\"l2_regularization\", [0.0, 0.1, 1.0, 10.0, 50.0])\n",
    "    model = HistGradientBoostingRegressor(\n",
    "        max_depth=max_depth,\n",
    "        learning_rate=learning_rate,\n",
    "        l2_regularization=l2_regularization,\n",
    "        categorical_features=categorical_features,\n",
    "        early_stopping=True,\n",
    "        random_state=42,\n",
    "    )\n",
    "    model.fit(X=X_train, y=y_train, X_val=X_val, y_val=y_val)\n",
    "    val_predictions = model.predict(X_val)\n",
    "    return root_mean_squared_error(y_true=y_val, y_pred=val_predictions)"
   ]
  },
  {
   "cell_type": "code",
   "execution_count": 36,
   "id": "339a7376",
   "metadata": {},
   "outputs": [
    {
     "name": "stdout",
     "output_type": "stream",
     "text": [
      "Default hyperparameters: {'categorical_features': 'from_dtype', 'early_stopping': 'auto', 'interaction_cst': None, 'l2_regularization': 0.0, 'learning_rate': 0.1, 'loss': 'squared_error', 'max_bins': 255, 'max_depth': None, 'max_features': 1.0, 'max_iter': 100, 'max_leaf_nodes': 31, 'min_samples_leaf': 20, 'monotonic_cst': None, 'n_iter_no_change': 10, 'quantile': None, 'random_state': None, 'scoring': 'loss', 'tol': 1e-07, 'validation_fraction': 0.1, 'verbose': 0, 'warm_start': False}\n"
     ]
    }
   ],
   "source": [
    "# Initialize a dummy model to retrieve default hyperparameters\n",
    "default_model = HistGradientBoostingRegressor()\n",
    "default_params = default_model.get_params()\n",
    "print(f\"Default hyperparameters: {default_params}\")"
   ]
  },
  {
   "cell_type": "code",
   "execution_count": 37,
   "id": "5c49bb62",
   "metadata": {},
   "outputs": [
    {
     "name": "stderr",
     "output_type": "stream",
     "text": [
      "/Users/jpusuga/Library/CloudStorage/OneDrive-Personnel/workshops/workshop-robust-hyperparam-tuning/.venv/lib/python3.13/site-packages/optuna/_experimental.py:32: ExperimentalWarning:\n",
      "\n",
      "Argument ``multivariate`` is an experimental feature. The interface can change in the future.\n",
      "\n",
      "[I 2025-10-24 19:09:26,699] A new study created in memory with name: baseline_hgb_opt\n",
      "[I 2025-10-24 19:09:27,353] Trial 0 finished with value: 107.15886097447702 and parameters: {'max_depth': 20, 'learning_rate': 0.1, 'l2_regularization': 0.0}. Best is trial 0 with value: 107.15886097447702.\n",
      "[I 2025-10-24 19:09:27,873] Trial 1 finished with value: 106.23972805435125 and parameters: {'max_depth': 20, 'learning_rate': 0.10703725712140856, 'l2_regularization': 0.0}. Best is trial 1 with value: 106.23972805435125.\n",
      "[I 2025-10-24 19:09:28,014] Trial 2 finished with value: 118.08235968702044 and parameters: {'max_depth': 12, 'learning_rate': 0.7460411520234572, 'l2_regularization': 0.0}. Best is trial 1 with value: 106.23972805435125.\n",
      "[I 2025-10-24 19:09:28,329] Trial 3 finished with value: 107.44795903936378 and parameters: {'max_depth': 19, 'learning_rate': 0.19715184936854602, 'l2_regularization': 1.0}. Best is trial 1 with value: 106.23972805435125.\n",
      "[I 2025-10-24 19:09:28,879] Trial 4 finished with value: 112.52631581433656 and parameters: {'max_depth': 9, 'learning_rate': 0.04020097872283426, 'l2_regularization': 50.0}. Best is trial 1 with value: 106.23972805435125.\n",
      "[I 2025-10-24 19:09:29,403] Trial 5 finished with value: 107.18671735832874 and parameters: {'max_depth': 8, 'learning_rate': 0.06081450616290401, 'l2_regularization': 1.0}. Best is trial 1 with value: 106.23972805435125.\n",
      "[I 2025-10-24 19:09:29,953] Trial 6 finished with value: 121.28510341935774 and parameters: {'max_depth': 15, 'learning_rate': 0.023868350089553663, 'l2_regularization': 50.0}. Best is trial 1 with value: 106.23972805435125.\n",
      "[I 2025-10-24 19:09:30,510] Trial 7 finished with value: 106.31329529869275 and parameters: {'max_depth': 18, 'learning_rate': 0.06377071564413268, 'l2_regularization': 0.1}. Best is trial 1 with value: 106.23972805435125.\n",
      "[I 2025-10-24 19:09:30,649] Trial 8 finished with value: 116.76646833925594 and parameters: {'max_depth': 7, 'learning_rate': 0.6372793754001526, 'l2_regularization': 0.1}. Best is trial 1 with value: 106.23972805435125.\n",
      "[I 2025-10-24 19:09:30,784] Trial 9 finished with value: 120.55784529512447 and parameters: {'max_depth': 9, 'learning_rate': 0.8016031874826887, 'l2_regularization': 0.1}. Best is trial 1 with value: 106.23972805435125.\n",
      "[I 2025-10-24 19:09:31,106] Trial 10 finished with value: 107.13810134189725 and parameters: {'max_depth': 13, 'learning_rate': 0.15682198356884955, 'l2_regularization': 1.0}. Best is trial 1 with value: 106.23972805435125.\n",
      "[I 2025-10-24 19:09:31,648] Trial 11 finished with value: 109.98008674154688 and parameters: {'max_depth': 20, 'learning_rate': 0.036283946790725434, 'l2_regularization': 0.1}. Best is trial 1 with value: 106.23972805435125.\n",
      "[I 2025-10-24 19:09:32,187] Trial 12 finished with value: 106.48574529394676 and parameters: {'max_depth': 14, 'learning_rate': 0.08809147610606478, 'l2_regularization': 0.1}. Best is trial 1 with value: 106.23972805435125.\n",
      "[I 2025-10-24 19:09:32,408] Trial 13 finished with value: 108.50603484514502 and parameters: {'max_depth': 17, 'learning_rate': 0.2873485102492039, 'l2_regularization': 0.0}. Best is trial 1 with value: 106.23972805435125.\n",
      "[I 2025-10-24 19:09:33,103] Trial 14 finished with value: 106.9877424707929 and parameters: {'max_depth': 18, 'learning_rate': 0.10862705128019468, 'l2_regularization': 10.0}. Best is trial 1 with value: 106.23972805435125.\n",
      "[I 2025-10-24 19:09:33,297] Trial 15 finished with value: 113.47592122231677 and parameters: {'max_depth': 20, 'learning_rate': 0.49840490321227093, 'l2_regularization': 0.1}. Best is trial 1 with value: 106.23972805435125.\n",
      "[I 2025-10-24 19:09:33,944] Trial 16 finished with value: 116.32630786903549 and parameters: {'max_depth': 18, 'learning_rate': 0.023201296989047722, 'l2_regularization': 0.0}. Best is trial 1 with value: 106.23972805435125.\n",
      "[I 2025-10-24 19:09:34,397] Trial 17 finished with value: 106.65186132628426 and parameters: {'max_depth': 20, 'learning_rate': 0.13091946805266286, 'l2_regularization': 0.1}. Best is trial 1 with value: 106.23972805435125.\n",
      "[I 2025-10-24 19:09:35,063] Trial 18 finished with value: 108.3774236294447 and parameters: {'max_depth': 13, 'learning_rate': 0.043586203359201194, 'l2_regularization': 0.0}. Best is trial 1 with value: 106.23972805435125.\n",
      "[I 2025-10-24 19:09:35,714] Trial 19 finished with value: 109.6755789865346 and parameters: {'max_depth': 19, 'learning_rate': 0.05494377466723665, 'l2_regularization': 50.0}. Best is trial 1 with value: 106.23972805435125.\n",
      "[I 2025-10-24 19:09:36,012] Trial 20 finished with value: 110.5251044899556 and parameters: {'max_depth': 16, 'learning_rate': 0.3966865091595483, 'l2_regularization': 50.0}. Best is trial 1 with value: 106.23972805435125.\n",
      "[I 2025-10-24 19:09:36,582] Trial 21 finished with value: 106.92717266024864 and parameters: {'max_depth': 14, 'learning_rate': 0.0966161957622232, 'l2_regularization': 0.1}. Best is trial 1 with value: 106.23972805435125.\n",
      "[I 2025-10-24 19:09:37,251] Trial 22 finished with value: 107.7520418946959 and parameters: {'max_depth': 12, 'learning_rate': 0.0515245566442859, 'l2_regularization': 0.1}. Best is trial 1 with value: 106.23972805435125.\n",
      "[I 2025-10-24 19:09:37,927] Trial 23 finished with value: 107.6512519859869 and parameters: {'max_depth': 16, 'learning_rate': 0.050694975708340126, 'l2_regularization': 0.1}. Best is trial 1 with value: 106.23972805435125.\n",
      "[I 2025-10-24 19:09:38,533] Trial 24 finished with value: 107.14734155878082 and parameters: {'max_depth': 11, 'learning_rate': 0.13530677424655943, 'l2_regularization': 10.0}. Best is trial 1 with value: 106.23972805435125.\n",
      "[I 2025-10-24 19:09:39,068] Trial 25 finished with value: 108.33174974147394 and parameters: {'max_depth': 7, 'learning_rate': 0.20780957620045387, 'l2_regularization': 50.0}. Best is trial 1 with value: 106.23972805435125.\n",
      "[I 2025-10-24 19:09:39,687] Trial 26 finished with value: 106.75214295642755 and parameters: {'max_depth': 18, 'learning_rate': 0.0692167456162065, 'l2_regularization': 1.0}. Best is trial 1 with value: 106.23972805435125.\n",
      "[I 2025-10-24 19:09:40,007] Trial 27 finished with value: 108.39464649146728 and parameters: {'max_depth': 15, 'learning_rate': 0.2249173557200448, 'l2_regularization': 0.1}. Best is trial 1 with value: 106.23972805435125.\n",
      "[I 2025-10-24 19:09:40,697] Trial 28 finished with value: 112.10679913799842 and parameters: {'max_depth': 15, 'learning_rate': 0.03249101241196541, 'l2_regularization': 10.0}. Best is trial 1 with value: 106.23972805435125.\n",
      "[I 2025-10-24 19:09:41,376] Trial 29 finished with value: 106.85550031153313 and parameters: {'max_depth': 20, 'learning_rate': 0.06503743886323317, 'l2_regularization': 0.0}. Best is trial 1 with value: 106.23972805435125.\n",
      "[I 2025-10-24 19:09:41,893] Trial 30 finished with value: 106.87625767597213 and parameters: {'max_depth': 15, 'learning_rate': 0.11192522430015552, 'l2_regularization': 0.0}. Best is trial 1 with value: 106.23972805435125.\n",
      "[I 2025-10-24 19:09:42,325] Trial 31 finished with value: 106.90126241455187 and parameters: {'max_depth': 20, 'learning_rate': 0.12366469162493637, 'l2_regularization': 0.1}. Best is trial 1 with value: 106.23972805435125.\n",
      "[I 2025-10-24 19:09:42,770] Trial 32 finished with value: 107.32803713092281 and parameters: {'max_depth': 19, 'learning_rate': 0.1372245805772629, 'l2_regularization': 0.0}. Best is trial 1 with value: 106.23972805435125.\n",
      "[I 2025-10-24 19:09:43,367] Trial 33 finished with value: 106.64955060091096 and parameters: {'max_depth': 19, 'learning_rate': 0.0968939679034142, 'l2_regularization': 0.1}. Best is trial 1 with value: 106.23972805435125.\n",
      "[I 2025-10-24 19:09:43,987] Trial 34 finished with value: 106.6961596737145 and parameters: {'max_depth': 17, 'learning_rate': 0.09365229220695395, 'l2_regularization': 0.1}. Best is trial 1 with value: 106.23972805435125.\n",
      "[I 2025-10-24 19:09:44,407] Trial 35 finished with value: 107.76290660559621 and parameters: {'max_depth': 20, 'learning_rate': 0.2056832029936111, 'l2_regularization': 50.0}. Best is trial 1 with value: 106.23972805435125.\n",
      "[I 2025-10-24 19:09:45,041] Trial 36 finished with value: 108.1379168968117 and parameters: {'max_depth': 13, 'learning_rate': 0.13447045182764872, 'l2_regularization': 50.0}. Best is trial 1 with value: 106.23972805435125.\n",
      "[I 2025-10-24 19:09:45,624] Trial 37 finished with value: 108.79670589505194 and parameters: {'max_depth': 7, 'learning_rate': 0.04619935079083399, 'l2_regularization': 10.0}. Best is trial 1 with value: 106.23972805435125.\n",
      "[I 2025-10-24 19:09:46,176] Trial 38 finished with value: 106.5410511158722 and parameters: {'max_depth': 8, 'learning_rate': 0.09522537285354135, 'l2_regularization': 0.1}. Best is trial 1 with value: 106.23972805435125.\n",
      "[I 2025-10-24 19:09:46,803] Trial 39 finished with value: 106.66193704686835 and parameters: {'max_depth': 7, 'learning_rate': 0.09231216912131884, 'l2_regularization': 0.1}. Best is trial 1 with value: 106.23972805435125.\n",
      "[I 2025-10-24 19:09:47,134] Trial 40 finished with value: 110.7479406464642 and parameters: {'max_depth': 9, 'learning_rate': 0.3788605022281271, 'l2_regularization': 10.0}. Best is trial 1 with value: 106.23972805435125.\n",
      "[I 2025-10-24 19:09:47,848] Trial 41 finished with value: 106.73720066426051 and parameters: {'max_depth': 9, 'learning_rate': 0.09831225061777676, 'l2_regularization': 0.1}. Best is trial 1 with value: 106.23972805435125.\n",
      "[I 2025-10-24 19:09:48,084] Trial 42 finished with value: 108.39607305449321 and parameters: {'max_depth': 10, 'learning_rate': 0.2600859806388849, 'l2_regularization': 0.1}. Best is trial 1 with value: 106.23972805435125.\n",
      "[I 2025-10-24 19:09:48,475] Trial 43 finished with value: 106.78513548276551 and parameters: {'max_depth': 7, 'learning_rate': 0.16517257525305404, 'l2_regularization': 0.0}. Best is trial 1 with value: 106.23972805435125.\n",
      "[I 2025-10-24 19:09:49,107] Trial 44 finished with value: 116.07454427711222 and parameters: {'max_depth': 9, 'learning_rate': 0.023433098050154012, 'l2_regularization': 0.1}. Best is trial 1 with value: 106.23972805435125.\n",
      "[I 2025-10-24 19:09:49,737] Trial 45 finished with value: 106.88548179118958 and parameters: {'max_depth': 20, 'learning_rate': 0.07185078270073385, 'l2_regularization': 10.0}. Best is trial 1 with value: 106.23972805435125.\n",
      "[I 2025-10-24 19:09:50,384] Trial 46 finished with value: 106.74303409520027 and parameters: {'max_depth': 17, 'learning_rate': 0.07528111142757825, 'l2_regularization': 0.1}. Best is trial 1 with value: 106.23972805435125.\n",
      "[I 2025-10-24 19:09:51,014] Trial 47 finished with value: 107.94156336220836 and parameters: {'max_depth': 14, 'learning_rate': 0.04694803119707885, 'l2_regularization': 1.0}. Best is trial 1 with value: 106.23972805435125.\n",
      "[I 2025-10-24 19:09:51,672] Trial 48 finished with value: 106.80881693573065 and parameters: {'max_depth': 20, 'learning_rate': 0.059126208571089994, 'l2_regularization': 0.1}. Best is trial 1 with value: 106.23972805435125.\n",
      "[I 2025-10-24 19:09:52,166] Trial 49 finished with value: 107.19016741668696 and parameters: {'max_depth': 18, 'learning_rate': 0.12395788831079078, 'l2_regularization': 0.0}. Best is trial 1 with value: 106.23972805435125.\n"
     ]
    }
   ],
   "source": [
    "# Create a new study for baseline comparisons\n",
    "study_w_baseline = optuna.create_study(study_name=\"baseline_hgb_opt\",\n",
    "                            direction=\"minimize\",\n",
    "                            sampler=TPESampler(\n",
    "                                seed=42,\n",
    "                                n_startup_trials=10,\n",
    "                                multivariate=True)\n",
    "                            )\n",
    "\n",
    "# Enqueue trials with default hyperparameters. We only need to enqueue the hyperparameters that were part of the optimization\n",
    "# Namely: max_depth, learning_rate, l2_regularization\n",
    "# Important note: the default max_depth is None, which is not a valid value for our search space\n",
    "# we will set it to the best value found in the previous study\n",
    "default_params[\"max_depth\"] = best_params[\"max_depth\"]\n",
    "study_w_baseline.enqueue_trial({\n",
    "    \"max_depth\": default_params[\"max_depth\"],\n",
    "    \"learning_rate\": default_params[\"learning_rate\"],\n",
    "    \"l2_regularization\": default_params[\"l2_regularization\"]\n",
    "})\n",
    "\n",
    "# Enqueue trial with best hyperparameters from previous study\n",
    "study_w_baseline.enqueue_trial({\n",
    "    \"max_depth\": best_params[\"max_depth\"],\n",
    "    \"learning_rate\": best_params[\"learning_rate\"],\n",
    "    \"l2_regularization\": best_params[\"l2_regularization\"]\n",
    "})\n",
    "\n",
    "study_w_baseline.optimize(training_objective_improved, n_trials=50)"
   ]
  },
  {
   "cell_type": "code",
   "execution_count": 38,
   "id": "0fd5debe",
   "metadata": {},
   "outputs": [
    {
     "data": {
      "application/vnd.plotly.v1+json": {
       "config": {
        "plotlyServerURL": "https://plot.ly"
       },
       "data": [
        {
         "mode": "markers",
         "name": "Validation RMSE of basic_hgb_opt",
         "type": "scatter",
         "x": [
          0,
          1,
          2,
          3,
          4,
          5,
          6,
          7,
          8,
          9,
          10,
          11,
          12,
          13,
          14,
          15,
          16,
          17,
          18,
          19,
          20,
          21,
          22,
          23,
          24,
          25,
          26,
          27,
          28,
          29,
          30,
          31,
          32,
          33,
          34,
          35,
          36,
          37,
          38,
          39,
          40,
          41,
          42,
          43,
          44,
          45,
          46,
          47,
          48,
          49
         ],
         "y": [
          116.45111295279241,
          106.64345657837573,
          187.54770248100584,
          169.60875747445698,
          204.30634487071012,
          151.83548391492607,
          118.10157566212587,
          115.39004957560152,
          197.91657752729296,
          163.76106186541762,
          107.25766201718629,
          106.86579840666481,
          114.92978892268198,
          106.51426156672777,
          109.08550411279977,
          109.51049774833909,
          110.33462771854597,
          120.48488649594803,
          114.00868465158658,
          146.9471804899667,
          184.41684714976773,
          110.71081322294846,
          106.23972805435125,
          107.00563833342714,
          113.24731812309949,
          107.27327671081083,
          111.72621774852716,
          108.43535139980486,
          107.71486909175755,
          206.03853153099905,
          175.1142546839667,
          106.78871621566827,
          109.56734001614623,
          106.57265016415045,
          106.98485220826815,
          106.62087703317414,
          112.83379568377052,
          108.2216730212735,
          107.36702828324992,
          118.19337653433473,
          128.00355516654767,
          106.81958041167422,
          106.63196978347527,
          106.32932502326777,
          107.38123619574282,
          107.11109356303018,
          114.52462122214982,
          108.01266162999403,
          113.49816113862987,
          108.27669857190796
         ]
        },
        {
         "mode": "lines",
         "name": "Best Value of basic_hgb_opt",
         "type": "scatter",
         "x": [
          0,
          1,
          2,
          3,
          4,
          5,
          6,
          7,
          8,
          9,
          10,
          11,
          12,
          13,
          14,
          15,
          16,
          17,
          18,
          19,
          20,
          21,
          22,
          23,
          24,
          25,
          26,
          27,
          28,
          29,
          30,
          31,
          32,
          33,
          34,
          35,
          36,
          37,
          38,
          39,
          40,
          41,
          42,
          43,
          44,
          45,
          46,
          47,
          48,
          49
         ],
         "y": [
          116.45111295279241,
          106.64345657837573,
          106.64345657837573,
          106.64345657837573,
          106.64345657837573,
          106.64345657837573,
          106.64345657837573,
          106.64345657837573,
          106.64345657837573,
          106.64345657837573,
          106.64345657837573,
          106.64345657837573,
          106.64345657837573,
          106.51426156672777,
          106.51426156672777,
          106.51426156672777,
          106.51426156672777,
          106.51426156672777,
          106.51426156672777,
          106.51426156672777,
          106.51426156672777,
          106.51426156672777,
          106.23972805435125,
          106.23972805435125,
          106.23972805435125,
          106.23972805435125,
          106.23972805435125,
          106.23972805435125,
          106.23972805435125,
          106.23972805435125,
          106.23972805435125,
          106.23972805435125,
          106.23972805435125,
          106.23972805435125,
          106.23972805435125,
          106.23972805435125,
          106.23972805435125,
          106.23972805435125,
          106.23972805435125,
          106.23972805435125,
          106.23972805435125,
          106.23972805435125,
          106.23972805435125,
          106.23972805435125,
          106.23972805435125,
          106.23972805435125,
          106.23972805435125,
          106.23972805435125,
          106.23972805435125,
          106.23972805435125
         ]
        },
        {
         "marker": {
          "color": "#cccccc"
         },
         "mode": "markers",
         "name": "Infeasible Trial",
         "showlegend": false,
         "type": "scatter",
         "x": [],
         "y": []
        },
        {
         "mode": "markers",
         "name": "Validation RMSE of baseline_hgb_opt",
         "type": "scatter",
         "x": [
          0,
          1,
          2,
          3,
          4,
          5,
          6,
          7,
          8,
          9,
          10,
          11,
          12,
          13,
          14,
          15,
          16,
          17,
          18,
          19,
          20,
          21,
          22,
          23,
          24,
          25,
          26,
          27,
          28,
          29,
          30,
          31,
          32,
          33,
          34,
          35,
          36,
          37,
          38,
          39,
          40,
          41,
          42,
          43,
          44,
          45,
          46,
          47,
          48,
          49
         ],
         "y": [
          107.15886097447702,
          106.23972805435125,
          118.08235968702044,
          107.44795903936378,
          112.52631581433656,
          107.18671735832874,
          121.28510341935774,
          106.31329529869275,
          116.76646833925594,
          120.55784529512447,
          107.13810134189725,
          109.98008674154688,
          106.48574529394676,
          108.50603484514502,
          106.9877424707929,
          113.47592122231677,
          116.32630786903549,
          106.65186132628426,
          108.3774236294447,
          109.6755789865346,
          110.5251044899556,
          106.92717266024864,
          107.7520418946959,
          107.6512519859869,
          107.14734155878082,
          108.33174974147394,
          106.75214295642755,
          108.39464649146728,
          112.10679913799842,
          106.85550031153313,
          106.87625767597213,
          106.90126241455187,
          107.32803713092281,
          106.64955060091096,
          106.6961596737145,
          107.76290660559621,
          108.1379168968117,
          108.79670589505194,
          106.5410511158722,
          106.66193704686835,
          110.7479406464642,
          106.73720066426051,
          108.39607305449321,
          106.78513548276551,
          116.07454427711222,
          106.88548179118958,
          106.74303409520027,
          107.94156336220836,
          106.80881693573065,
          107.19016741668696
         ]
        },
        {
         "mode": "lines",
         "name": "Best Value of baseline_hgb_opt",
         "type": "scatter",
         "x": [
          0,
          1,
          2,
          3,
          4,
          5,
          6,
          7,
          8,
          9,
          10,
          11,
          12,
          13,
          14,
          15,
          16,
          17,
          18,
          19,
          20,
          21,
          22,
          23,
          24,
          25,
          26,
          27,
          28,
          29,
          30,
          31,
          32,
          33,
          34,
          35,
          36,
          37,
          38,
          39,
          40,
          41,
          42,
          43,
          44,
          45,
          46,
          47,
          48,
          49
         ],
         "y": [
          107.15886097447702,
          106.23972805435125,
          106.23972805435125,
          106.23972805435125,
          106.23972805435125,
          106.23972805435125,
          106.23972805435125,
          106.23972805435125,
          106.23972805435125,
          106.23972805435125,
          106.23972805435125,
          106.23972805435125,
          106.23972805435125,
          106.23972805435125,
          106.23972805435125,
          106.23972805435125,
          106.23972805435125,
          106.23972805435125,
          106.23972805435125,
          106.23972805435125,
          106.23972805435125,
          106.23972805435125,
          106.23972805435125,
          106.23972805435125,
          106.23972805435125,
          106.23972805435125,
          106.23972805435125,
          106.23972805435125,
          106.23972805435125,
          106.23972805435125,
          106.23972805435125,
          106.23972805435125,
          106.23972805435125,
          106.23972805435125,
          106.23972805435125,
          106.23972805435125,
          106.23972805435125,
          106.23972805435125,
          106.23972805435125,
          106.23972805435125,
          106.23972805435125,
          106.23972805435125,
          106.23972805435125,
          106.23972805435125,
          106.23972805435125,
          106.23972805435125,
          106.23972805435125,
          106.23972805435125,
          106.23972805435125,
          106.23972805435125
         ]
        },
        {
         "marker": {
          "color": "#cccccc"
         },
         "mode": "markers",
         "name": "Infeasible Trial",
         "showlegend": false,
         "type": "scatter",
         "x": [],
         "y": []
        }
       ],
       "layout": {
        "template": {
         "data": {
          "bar": [
           {
            "error_x": {
             "color": "#2a3f5f"
            },
            "error_y": {
             "color": "#2a3f5f"
            },
            "marker": {
             "line": {
              "color": "#E5ECF6",
              "width": 0.5
             },
             "pattern": {
              "fillmode": "overlay",
              "size": 10,
              "solidity": 0.2
             }
            },
            "type": "bar"
           }
          ],
          "barpolar": [
           {
            "marker": {
             "line": {
              "color": "#E5ECF6",
              "width": 0.5
             },
             "pattern": {
              "fillmode": "overlay",
              "size": 10,
              "solidity": 0.2
             }
            },
            "type": "barpolar"
           }
          ],
          "carpet": [
           {
            "aaxis": {
             "endlinecolor": "#2a3f5f",
             "gridcolor": "white",
             "linecolor": "white",
             "minorgridcolor": "white",
             "startlinecolor": "#2a3f5f"
            },
            "baxis": {
             "endlinecolor": "#2a3f5f",
             "gridcolor": "white",
             "linecolor": "white",
             "minorgridcolor": "white",
             "startlinecolor": "#2a3f5f"
            },
            "type": "carpet"
           }
          ],
          "choropleth": [
           {
            "colorbar": {
             "outlinewidth": 0,
             "ticks": ""
            },
            "type": "choropleth"
           }
          ],
          "contour": [
           {
            "colorbar": {
             "outlinewidth": 0,
             "ticks": ""
            },
            "colorscale": [
             [
              0,
              "#0d0887"
             ],
             [
              0.1111111111111111,
              "#46039f"
             ],
             [
              0.2222222222222222,
              "#7201a8"
             ],
             [
              0.3333333333333333,
              "#9c179e"
             ],
             [
              0.4444444444444444,
              "#bd3786"
             ],
             [
              0.5555555555555556,
              "#d8576b"
             ],
             [
              0.6666666666666666,
              "#ed7953"
             ],
             [
              0.7777777777777778,
              "#fb9f3a"
             ],
             [
              0.8888888888888888,
              "#fdca26"
             ],
             [
              1,
              "#f0f921"
             ]
            ],
            "type": "contour"
           }
          ],
          "contourcarpet": [
           {
            "colorbar": {
             "outlinewidth": 0,
             "ticks": ""
            },
            "type": "contourcarpet"
           }
          ],
          "heatmap": [
           {
            "colorbar": {
             "outlinewidth": 0,
             "ticks": ""
            },
            "colorscale": [
             [
              0,
              "#0d0887"
             ],
             [
              0.1111111111111111,
              "#46039f"
             ],
             [
              0.2222222222222222,
              "#7201a8"
             ],
             [
              0.3333333333333333,
              "#9c179e"
             ],
             [
              0.4444444444444444,
              "#bd3786"
             ],
             [
              0.5555555555555556,
              "#d8576b"
             ],
             [
              0.6666666666666666,
              "#ed7953"
             ],
             [
              0.7777777777777778,
              "#fb9f3a"
             ],
             [
              0.8888888888888888,
              "#fdca26"
             ],
             [
              1,
              "#f0f921"
             ]
            ],
            "type": "heatmap"
           }
          ],
          "histogram": [
           {
            "marker": {
             "pattern": {
              "fillmode": "overlay",
              "size": 10,
              "solidity": 0.2
             }
            },
            "type": "histogram"
           }
          ],
          "histogram2d": [
           {
            "colorbar": {
             "outlinewidth": 0,
             "ticks": ""
            },
            "colorscale": [
             [
              0,
              "#0d0887"
             ],
             [
              0.1111111111111111,
              "#46039f"
             ],
             [
              0.2222222222222222,
              "#7201a8"
             ],
             [
              0.3333333333333333,
              "#9c179e"
             ],
             [
              0.4444444444444444,
              "#bd3786"
             ],
             [
              0.5555555555555556,
              "#d8576b"
             ],
             [
              0.6666666666666666,
              "#ed7953"
             ],
             [
              0.7777777777777778,
              "#fb9f3a"
             ],
             [
              0.8888888888888888,
              "#fdca26"
             ],
             [
              1,
              "#f0f921"
             ]
            ],
            "type": "histogram2d"
           }
          ],
          "histogram2dcontour": [
           {
            "colorbar": {
             "outlinewidth": 0,
             "ticks": ""
            },
            "colorscale": [
             [
              0,
              "#0d0887"
             ],
             [
              0.1111111111111111,
              "#46039f"
             ],
             [
              0.2222222222222222,
              "#7201a8"
             ],
             [
              0.3333333333333333,
              "#9c179e"
             ],
             [
              0.4444444444444444,
              "#bd3786"
             ],
             [
              0.5555555555555556,
              "#d8576b"
             ],
             [
              0.6666666666666666,
              "#ed7953"
             ],
             [
              0.7777777777777778,
              "#fb9f3a"
             ],
             [
              0.8888888888888888,
              "#fdca26"
             ],
             [
              1,
              "#f0f921"
             ]
            ],
            "type": "histogram2dcontour"
           }
          ],
          "mesh3d": [
           {
            "colorbar": {
             "outlinewidth": 0,
             "ticks": ""
            },
            "type": "mesh3d"
           }
          ],
          "parcoords": [
           {
            "line": {
             "colorbar": {
              "outlinewidth": 0,
              "ticks": ""
             }
            },
            "type": "parcoords"
           }
          ],
          "pie": [
           {
            "automargin": true,
            "type": "pie"
           }
          ],
          "scatter": [
           {
            "fillpattern": {
             "fillmode": "overlay",
             "size": 10,
             "solidity": 0.2
            },
            "type": "scatter"
           }
          ],
          "scatter3d": [
           {
            "line": {
             "colorbar": {
              "outlinewidth": 0,
              "ticks": ""
             }
            },
            "marker": {
             "colorbar": {
              "outlinewidth": 0,
              "ticks": ""
             }
            },
            "type": "scatter3d"
           }
          ],
          "scattercarpet": [
           {
            "marker": {
             "colorbar": {
              "outlinewidth": 0,
              "ticks": ""
             }
            },
            "type": "scattercarpet"
           }
          ],
          "scattergeo": [
           {
            "marker": {
             "colorbar": {
              "outlinewidth": 0,
              "ticks": ""
             }
            },
            "type": "scattergeo"
           }
          ],
          "scattergl": [
           {
            "marker": {
             "colorbar": {
              "outlinewidth": 0,
              "ticks": ""
             }
            },
            "type": "scattergl"
           }
          ],
          "scattermap": [
           {
            "marker": {
             "colorbar": {
              "outlinewidth": 0,
              "ticks": ""
             }
            },
            "type": "scattermap"
           }
          ],
          "scattermapbox": [
           {
            "marker": {
             "colorbar": {
              "outlinewidth": 0,
              "ticks": ""
             }
            },
            "type": "scattermapbox"
           }
          ],
          "scatterpolar": [
           {
            "marker": {
             "colorbar": {
              "outlinewidth": 0,
              "ticks": ""
             }
            },
            "type": "scatterpolar"
           }
          ],
          "scatterpolargl": [
           {
            "marker": {
             "colorbar": {
              "outlinewidth": 0,
              "ticks": ""
             }
            },
            "type": "scatterpolargl"
           }
          ],
          "scatterternary": [
           {
            "marker": {
             "colorbar": {
              "outlinewidth": 0,
              "ticks": ""
             }
            },
            "type": "scatterternary"
           }
          ],
          "surface": [
           {
            "colorbar": {
             "outlinewidth": 0,
             "ticks": ""
            },
            "colorscale": [
             [
              0,
              "#0d0887"
             ],
             [
              0.1111111111111111,
              "#46039f"
             ],
             [
              0.2222222222222222,
              "#7201a8"
             ],
             [
              0.3333333333333333,
              "#9c179e"
             ],
             [
              0.4444444444444444,
              "#bd3786"
             ],
             [
              0.5555555555555556,
              "#d8576b"
             ],
             [
              0.6666666666666666,
              "#ed7953"
             ],
             [
              0.7777777777777778,
              "#fb9f3a"
             ],
             [
              0.8888888888888888,
              "#fdca26"
             ],
             [
              1,
              "#f0f921"
             ]
            ],
            "type": "surface"
           }
          ],
          "table": [
           {
            "cells": {
             "fill": {
              "color": "#EBF0F8"
             },
             "line": {
              "color": "white"
             }
            },
            "header": {
             "fill": {
              "color": "#C8D4E3"
             },
             "line": {
              "color": "white"
             }
            },
            "type": "table"
           }
          ]
         },
         "layout": {
          "annotationdefaults": {
           "arrowcolor": "#2a3f5f",
           "arrowhead": 0,
           "arrowwidth": 1
          },
          "autotypenumbers": "strict",
          "coloraxis": {
           "colorbar": {
            "outlinewidth": 0,
            "ticks": ""
           }
          },
          "colorscale": {
           "diverging": [
            [
             0,
             "#8e0152"
            ],
            [
             0.1,
             "#c51b7d"
            ],
            [
             0.2,
             "#de77ae"
            ],
            [
             0.3,
             "#f1b6da"
            ],
            [
             0.4,
             "#fde0ef"
            ],
            [
             0.5,
             "#f7f7f7"
            ],
            [
             0.6,
             "#e6f5d0"
            ],
            [
             0.7,
             "#b8e186"
            ],
            [
             0.8,
             "#7fbc41"
            ],
            [
             0.9,
             "#4d9221"
            ],
            [
             1,
             "#276419"
            ]
           ],
           "sequential": [
            [
             0,
             "#0d0887"
            ],
            [
             0.1111111111111111,
             "#46039f"
            ],
            [
             0.2222222222222222,
             "#7201a8"
            ],
            [
             0.3333333333333333,
             "#9c179e"
            ],
            [
             0.4444444444444444,
             "#bd3786"
            ],
            [
             0.5555555555555556,
             "#d8576b"
            ],
            [
             0.6666666666666666,
             "#ed7953"
            ],
            [
             0.7777777777777778,
             "#fb9f3a"
            ],
            [
             0.8888888888888888,
             "#fdca26"
            ],
            [
             1,
             "#f0f921"
            ]
           ],
           "sequentialminus": [
            [
             0,
             "#0d0887"
            ],
            [
             0.1111111111111111,
             "#46039f"
            ],
            [
             0.2222222222222222,
             "#7201a8"
            ],
            [
             0.3333333333333333,
             "#9c179e"
            ],
            [
             0.4444444444444444,
             "#bd3786"
            ],
            [
             0.5555555555555556,
             "#d8576b"
            ],
            [
             0.6666666666666666,
             "#ed7953"
            ],
            [
             0.7777777777777778,
             "#fb9f3a"
            ],
            [
             0.8888888888888888,
             "#fdca26"
            ],
            [
             1,
             "#f0f921"
            ]
           ]
          },
          "colorway": [
           "#636efa",
           "#EF553B",
           "#00cc96",
           "#ab63fa",
           "#FFA15A",
           "#19d3f3",
           "#FF6692",
           "#B6E880",
           "#FF97FF",
           "#FECB52"
          ],
          "font": {
           "color": "#2a3f5f"
          },
          "geo": {
           "bgcolor": "white",
           "lakecolor": "white",
           "landcolor": "#E5ECF6",
           "showlakes": true,
           "showland": true,
           "subunitcolor": "white"
          },
          "hoverlabel": {
           "align": "left"
          },
          "hovermode": "closest",
          "mapbox": {
           "style": "light"
          },
          "paper_bgcolor": "white",
          "plot_bgcolor": "#E5ECF6",
          "polar": {
           "angularaxis": {
            "gridcolor": "white",
            "linecolor": "white",
            "ticks": ""
           },
           "bgcolor": "#E5ECF6",
           "radialaxis": {
            "gridcolor": "white",
            "linecolor": "white",
            "ticks": ""
           }
          },
          "scene": {
           "xaxis": {
            "backgroundcolor": "#E5ECF6",
            "gridcolor": "white",
            "gridwidth": 2,
            "linecolor": "white",
            "showbackground": true,
            "ticks": "",
            "zerolinecolor": "white"
           },
           "yaxis": {
            "backgroundcolor": "#E5ECF6",
            "gridcolor": "white",
            "gridwidth": 2,
            "linecolor": "white",
            "showbackground": true,
            "ticks": "",
            "zerolinecolor": "white"
           },
           "zaxis": {
            "backgroundcolor": "#E5ECF6",
            "gridcolor": "white",
            "gridwidth": 2,
            "linecolor": "white",
            "showbackground": true,
            "ticks": "",
            "zerolinecolor": "white"
           }
          },
          "shapedefaults": {
           "line": {
            "color": "#2a3f5f"
           }
          },
          "ternary": {
           "aaxis": {
            "gridcolor": "white",
            "linecolor": "white",
            "ticks": ""
           },
           "baxis": {
            "gridcolor": "white",
            "linecolor": "white",
            "ticks": ""
           },
           "bgcolor": "#E5ECF6",
           "caxis": {
            "gridcolor": "white",
            "linecolor": "white",
            "ticks": ""
           }
          },
          "title": {
           "x": 0.05
          },
          "xaxis": {
           "automargin": true,
           "gridcolor": "white",
           "linecolor": "white",
           "ticks": "",
           "title": {
            "standoff": 15
           },
           "zerolinecolor": "white",
           "zerolinewidth": 2
          },
          "yaxis": {
           "automargin": true,
           "gridcolor": "white",
           "linecolor": "white",
           "ticks": "",
           "title": {
            "standoff": 15
           },
           "zerolinecolor": "white",
           "zerolinewidth": 2
          }
         }
        },
        "title": {
         "text": "Optimization History Plot"
        },
        "xaxis": {
         "title": {
          "text": "Trial"
         }
        },
        "yaxis": {
         "title": {
          "text": "Validation RMSE"
         }
        }
       }
      }
     },
     "metadata": {},
     "output_type": "display_data"
    }
   ],
   "source": [
    "optuna.visualization.plot_optimization_history(study=[study, study_w_baseline], target_name=\"Validation RMSE\")"
   ]
  },
  {
   "cell_type": "markdown",
   "id": "184d5ad9",
   "metadata": {},
   "source": [
    "The results of the second study with enqueued trials show that the model using **default hyperparameters** performs worse than the best model from the previous study, as expected.  \n",
    "This confirms that our **hyperparameter optimization process is effective**."
   ]
  }
 ],
 "metadata": {
  "kernelspec": {
   "display_name": ".venv",
   "language": "python",
   "name": "python3"
  },
  "language_info": {
   "codemirror_mode": {
    "name": "ipython",
    "version": 3
   },
   "file_extension": ".py",
   "mimetype": "text/x-python",
   "name": "python",
   "nbconvert_exporter": "python",
   "pygments_lexer": "ipython3",
   "version": "3.13.2"
  }
 },
 "nbformat": 4,
 "nbformat_minor": 5
}
