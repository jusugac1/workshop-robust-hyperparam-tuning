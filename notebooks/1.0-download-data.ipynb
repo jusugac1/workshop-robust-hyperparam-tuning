{
 "cells": [
  {
   "cell_type": "markdown",
   "id": "762a86a5",
   "metadata": {},
   "source": [
    "# Download data"
   ]
  },
  {
   "cell_type": "markdown",
   "id": "29a734ef",
   "metadata": {},
   "source": [
    "# 1. Imports"
   ]
  },
  {
   "cell_type": "code",
   "execution_count": 1,
   "id": "e9dcf020",
   "metadata": {},
   "outputs": [],
   "source": [
    "import pyreadr\n",
    "import requests"
   ]
  },
  {
   "cell_type": "code",
   "execution_count": null,
   "id": "b295dc49",
   "metadata": {},
   "outputs": [],
   "source": []
  },
  {
   "cell_type": "code",
   "execution_count": 2,
   "id": "835d879a",
   "metadata": {},
   "outputs": [],
   "source": [
    "def read_rdata(file_url: str):\n",
    "    \"\"\"Read an RData file and return its content as a pandas DataFrame.\n",
    "    \n",
    "    Args:\n",
    "        file_url (str): The url to the RData file.\n",
    "\n",
    "    Returns:\n",
    "        (pd.DataFrame): The content of the RData file as a pandas DataFrame.\n",
    "    \"\"\"\n",
    "    r = requests.get(file_url)\n",
    "    result = pyreadr.read_r(r.content)\n",
    "    # Assuming the RData file contains a single data frame\n",
    "    return next(iter(result.values()))\n"
   ]
  },
  {
   "cell_type": "code",
   "execution_count": 3,
   "id": "29d080e6",
   "metadata": {},
   "outputs": [],
   "source": [
    "file_url = \"https://github.com/dutangc/CASdatasets/blob/master/data/fremotor1prem0304a.rda\"\n",
    "\n",
    "response = requests.get(file_url)\n",
    "response.raise_for_status()\n"
   ]
  },
  {
   "cell_type": "code",
   "execution_count": 4,
   "id": "d444defe",
   "metadata": {},
   "outputs": [],
   "source": [
    "# Save to a temporary file\n",
    "with open(\"temp.rda\", \"wb\") as f:\n",
    "    f.write(response.content)"
   ]
  },
  {
   "cell_type": "code",
   "execution_count": 5,
   "id": "52917c9b",
   "metadata": {},
   "outputs": [
    {
     "name": "stderr",
     "output_type": "stream",
     "text": [
      "Unable to determine R home: [Errno 2] No such file or directory: 'R'\n",
      "Error importing in API mode: ImportError(\"dlopen(/Users/benjaminwallyn/Git/workshop-robust-hyperparam-tuning/.venv/lib/python3.13/site-packages/_rinterface_cffi_api.abi3.so, 0x0002): Library not loaded: /Library/Frameworks/R.framework/Versions/4.5-arm64/Resources/lib/libRblas.dylib\\n  Referenced from: <B96A8100-FA7A-3EFC-8726-931D26646DE6> /Users/benjaminwallyn/Git/workshop-robust-hyperparam-tuning/.venv/lib/python3.13/site-packages/_rinterface_cffi_api.abi3.so\\n  Reason: tried: '/Library/Frameworks/R.framework/Versions/4.5-arm64/Resources/lib/libRblas.dylib' (no such file), '/System/Volumes/Preboot/Cryptexes/OS/Library/Frameworks/R.framework/Versions/4.5-arm64/Resources/lib/libRblas.dylib' (no such file), '/Library/Frameworks/R.framework/Versions/4.5-arm64/Resources/lib/libRblas.dylib' (no such file)\")\n",
      "Trying to import in ABI mode.\n"
     ]
    },
    {
     "ename": "ValueError",
     "evalue": "r_home is None. Try python -m rpy2.situation",
     "output_type": "error",
     "traceback": [
      "\u001b[31m---------------------------------------------------------------------------\u001b[39m",
      "\u001b[31mValueError\u001b[39m                                Traceback (most recent call last)",
      "\u001b[36mCell\u001b[39m\u001b[36m \u001b[39m\u001b[32mIn[5]\u001b[39m\u001b[32m, line 1\u001b[39m\n\u001b[32m----> \u001b[39m\u001b[32m1\u001b[39m \u001b[38;5;28;01mimport\u001b[39;00m\u001b[38;5;250m \u001b[39m\u001b[34;01mrpy2\u001b[39;00m\u001b[34;01m.\u001b[39;00m\u001b[34;01mrobjects\u001b[39;00m\u001b[38;5;250m \u001b[39m\u001b[38;5;28;01mas\u001b[39;00m\u001b[38;5;250m \u001b[39m\u001b[34;01mro\u001b[39;00m\n\u001b[32m      2\u001b[39m \u001b[38;5;28;01mfrom\u001b[39;00m\u001b[38;5;250m \u001b[39m\u001b[34;01mrpy2\u001b[39;00m\u001b[34;01m.\u001b[39;00m\u001b[34;01mrobjects\u001b[39;00m\u001b[38;5;250m \u001b[39m\u001b[38;5;28;01mimport\u001b[39;00m pandas2ri\n\u001b[32m      4\u001b[39m \u001b[38;5;66;03m# Activate automatic R <-> pandas conversion\u001b[39;00m\n",
      "\u001b[36mFile \u001b[39m\u001b[32m~/Git/workshop-robust-hyperparam-tuning/.venv/lib/python3.13/site-packages/rpy2/robjects/__init__.py:17\u001b[39m\n\u001b[32m     15\u001b[39m \u001b[38;5;28;01mimport\u001b[39;00m\u001b[38;5;250m \u001b[39m\u001b[34;01mtyping\u001b[39;00m\n\u001b[32m     16\u001b[39m \u001b[38;5;28;01mimport\u001b[39;00m\u001b[38;5;250m \u001b[39m\u001b[34;01mwarnings\u001b[39;00m\n\u001b[32m---> \u001b[39m\u001b[32m17\u001b[39m \u001b[38;5;28;01mimport\u001b[39;00m\u001b[38;5;250m \u001b[39m\u001b[34;01mrpy2\u001b[39;00m\u001b[34;01m.\u001b[39;00m\u001b[34;01mrinterface\u001b[39;00m\u001b[38;5;250m \u001b[39m\u001b[38;5;28;01mas\u001b[39;00m\u001b[38;5;250m \u001b[39m\u001b[34;01mrinterface\u001b[39;00m\n\u001b[32m     18\u001b[39m \u001b[38;5;28;01mimport\u001b[39;00m\u001b[38;5;250m \u001b[39m\u001b[34;01mrpy2\u001b[39;00m\u001b[34;01m.\u001b[39;00m\u001b[34;01mrinterface_lib\u001b[39;00m\u001b[34;01m.\u001b[39;00m\u001b[34;01membedded\u001b[39;00m\n\u001b[32m     19\u001b[39m \u001b[38;5;28;01mimport\u001b[39;00m\u001b[38;5;250m \u001b[39m\u001b[34;01mrpy2\u001b[39;00m\u001b[34;01m.\u001b[39;00m\u001b[34;01mrinterface_lib\u001b[39;00m\u001b[34;01m.\u001b[39;00m\u001b[34;01mopenrlib\u001b[39;00m\n",
      "\u001b[36mFile \u001b[39m\u001b[32m~/Git/workshop-robust-hyperparam-tuning/.venv/lib/python3.13/site-packages/rpy2/rinterface/__init__.py:25\u001b[39m\n\u001b[32m     23\u001b[39m \u001b[38;5;28;01mimport\u001b[39;00m\u001b[38;5;250m \u001b[39m\u001b[34;01mwarnings\u001b[39;00m\n\u001b[32m     24\u001b[39m \u001b[38;5;28;01mfrom\u001b[39;00m\u001b[38;5;250m \u001b[39m\u001b[34;01mtyping\u001b[39;00m\u001b[38;5;250m \u001b[39m\u001b[38;5;28;01mimport\u001b[39;00m Union\n\u001b[32m---> \u001b[39m\u001b[32m25\u001b[39m \u001b[38;5;28;01mfrom\u001b[39;00m\u001b[38;5;250m \u001b[39m\u001b[34;01mrpy2\u001b[39;00m\u001b[34;01m.\u001b[39;00m\u001b[34;01mrinterface_lib\u001b[39;00m\u001b[38;5;250m \u001b[39m\u001b[38;5;28;01mimport\u001b[39;00m openrlib\n\u001b[32m     26\u001b[39m \u001b[38;5;28;01mimport\u001b[39;00m\u001b[38;5;250m \u001b[39m\u001b[34;01mrpy2\u001b[39;00m\u001b[34;01m.\u001b[39;00m\u001b[34;01mrinterface_lib\u001b[39;00m\u001b[34;01m.\u001b[39;00m\u001b[34;01m_rinterface_capi\u001b[39;00m\u001b[38;5;250m \u001b[39m\u001b[38;5;28;01mas\u001b[39;00m\u001b[38;5;250m \u001b[39m\u001b[34;01m_rinterface\u001b[39;00m\n\u001b[32m     27\u001b[39m \u001b[38;5;28;01mimport\u001b[39;00m\u001b[38;5;250m \u001b[39m\u001b[34;01mrpy2\u001b[39;00m\u001b[34;01m.\u001b[39;00m\u001b[34;01mrinterface_lib\u001b[39;00m\u001b[34;01m.\u001b[39;00m\u001b[34;01membedded\u001b[39;00m\u001b[38;5;250m \u001b[39m\u001b[38;5;28;01mas\u001b[39;00m\u001b[38;5;250m \u001b[39m\u001b[34;01membedded\u001b[39;00m\n",
      "\u001b[36mFile \u001b[39m\u001b[32m~/Git/workshop-robust-hyperparam-tuning/.venv/lib/python3.13/site-packages/rpy2/rinterface_lib/openrlib.py:93\u001b[39m\n\u001b[32m     91\u001b[39m     rlib = _rinterface_cffi.lib\n\u001b[32m     92\u001b[39m \u001b[38;5;28;01melse\u001b[39;00m:\n\u001b[32m---> \u001b[39m\u001b[32m93\u001b[39m     rlib = \u001b[43m_dlopen_rlib\u001b[49m\u001b[43m(\u001b[49m\u001b[43mR_HOME\u001b[49m\u001b[43m)\u001b[49m\n\u001b[32m     96\u001b[39m \u001b[38;5;66;03m# R macros and functions\u001b[39;00m\n\u001b[32m     97\u001b[39m \u001b[38;5;28;01mdef\u001b[39;00m\u001b[38;5;250m \u001b[39m\u001b[34m_get_symbol_or_fallback\u001b[39m(symbol: \u001b[38;5;28mstr\u001b[39m, fallback: typing.Any):\n",
      "\u001b[36mFile \u001b[39m\u001b[32m~/Git/workshop-robust-hyperparam-tuning/.venv/lib/python3.13/site-packages/rpy2/rinterface_lib/openrlib.py:80\u001b[39m, in \u001b[36m_dlopen_rlib\u001b[39m\u001b[34m(r_home)\u001b[39m\n\u001b[32m     76\u001b[39m \u001b[38;5;250m\u001b[39m\u001b[33;03m\"\"\"Open R's shared C library.\u001b[39;00m\n\u001b[32m     77\u001b[39m \n\u001b[32m     78\u001b[39m \u001b[33;03mThis is only relevant in ABI mode.\"\"\"\u001b[39;00m\n\u001b[32m     79\u001b[39m \u001b[38;5;28;01mif\u001b[39;00m r_home \u001b[38;5;129;01mis\u001b[39;00m \u001b[38;5;28;01mNone\u001b[39;00m:\n\u001b[32m---> \u001b[39m\u001b[32m80\u001b[39m     \u001b[38;5;28;01mraise\u001b[39;00m \u001b[38;5;167;01mValueError\u001b[39;00m(\u001b[33m'\u001b[39m\u001b[33mr_home is None. \u001b[39m\u001b[33m'\u001b[39m\n\u001b[32m     81\u001b[39m                      \u001b[33m'\u001b[39m\u001b[33mTry python -m rpy2.situation\u001b[39m\u001b[33m'\u001b[39m)\n\u001b[32m     82\u001b[39m lib_path = rpy2.situation.get_rlib_path(r_home, platform.system())\n\u001b[32m     83\u001b[39m \u001b[38;5;28;01mif\u001b[39;00m lib_path \u001b[38;5;129;01mis\u001b[39;00m \u001b[38;5;28;01mNone\u001b[39;00m:\n",
      "\u001b[31mValueError\u001b[39m: r_home is None. Try python -m rpy2.situation"
     ]
    }
   ],
   "source": [
    "import rpy2.robjects as ro\n",
    "from rpy2.robjects import pandas2ri\n",
    "\n",
    "# Activate automatic R <-> pandas conversion\n",
    "pandas2ri.activate()\n",
    "\n",
    "# Path to your .rda file (download first if needed)\n",
    "rda_path = \"temp.rda\"\n",
    "\n",
    "# Load the .rda file in R\n",
    "ro.r['load'](rda_path)\n",
    "\n",
    "# List the objects now available in the R environment\n",
    "print(ro.r('ls()'))\n",
    "\n",
    "# Suppose the object is called \"mydata\"\n",
    "r_df = ro.r['mydata']\n",
    "\n",
    "# Convert to pandas DataFrame\n",
    "df = pandas2ri.rpy2py(r_df)"
   ]
  },
  {
   "cell_type": "code",
   "execution_count": null,
   "id": "a0fe21dc",
   "metadata": {},
   "outputs": [],
   "source": [
    "df"
   ]
  },
  {
   "cell_type": "code",
   "execution_count": 19,
   "id": "132f7a98",
   "metadata": {},
   "outputs": [
    {
     "ename": "LibrdataError",
     "evalue": "The file contains an unrecognized object",
     "output_type": "error",
     "traceback": [
      "\u001b[31m---------------------------------------------------------------------------\u001b[39m",
      "\u001b[31mLibrdataError\u001b[39m                             Traceback (most recent call last)",
      "\u001b[36mCell\u001b[39m\u001b[36m \u001b[39m\u001b[32mIn[19]\u001b[39m\u001b[32m, line 2\u001b[39m\n\u001b[32m      1\u001b[39m \u001b[38;5;66;03m# Read .rda file\u001b[39;00m\n\u001b[32m----> \u001b[39m\u001b[32m2\u001b[39m result = \u001b[43mpyreadr\u001b[49m\u001b[43m.\u001b[49m\u001b[43mread_r\u001b[49m\u001b[43m(\u001b[49m\u001b[33;43m\"\u001b[39;49m\u001b[33;43mtemp.rda\u001b[39;49m\u001b[33;43m\"\u001b[39;49m\u001b[43m)\u001b[49m\n\u001b[32m      4\u001b[39m \u001b[38;5;66;03m# The result is a dictionary with keys = object names inside the .rda\u001b[39;00m\n\u001b[32m      5\u001b[39m \u001b[38;5;28mprint\u001b[39m(result.keys())\n",
      "\u001b[36mFile \u001b[39m\u001b[32m~/Git/workshop-robust-hyperparam-tuning/.venv/lib/python3.13/site-packages/pyreadr/pyreadr.py:66\u001b[39m, in \u001b[36mread_r\u001b[39m\u001b[34m(path, use_objects, timezone)\u001b[39m\n\u001b[32m     64\u001b[39m \u001b[38;5;28;01mif\u001b[39;00m \u001b[38;5;129;01mnot\u001b[39;00m os.path.isfile(filename_bytes):\n\u001b[32m     65\u001b[39m     \u001b[38;5;28;01mraise\u001b[39;00m PyreadrError(\u001b[33m\"\u001b[39m\u001b[33mFile \u001b[39m\u001b[38;5;132;01m{0}\u001b[39;00m\u001b[33m does not exist!\u001b[39m\u001b[33m\"\u001b[39m.format(filename_bytes))\n\u001b[32m---> \u001b[39m\u001b[32m66\u001b[39m \u001b[43mparser\u001b[49m\u001b[43m.\u001b[49m\u001b[43mparse\u001b[49m\u001b[43m(\u001b[49m\u001b[43mfilename_bytes\u001b[49m\u001b[43m)\u001b[49m\n\u001b[32m     68\u001b[39m result = OrderedDict()\n\u001b[32m     69\u001b[39m \u001b[38;5;28;01mfor\u001b[39;00m table_index, table \u001b[38;5;129;01min\u001b[39;00m \u001b[38;5;28menumerate\u001b[39m(parser.table_data):\n",
      "\u001b[36mFile \u001b[39m\u001b[32m~/Git/workshop-robust-hyperparam-tuning/.venv/lib/python3.13/site-packages/pyreadr/librdata.pyx:149\u001b[39m, in \u001b[36mpyreadr.librdata.Parser.parse\u001b[39m\u001b[34m()\u001b[39m\n",
      "\u001b[36mFile \u001b[39m\u001b[32m~/Git/workshop-robust-hyperparam-tuning/.venv/lib/python3.13/site-packages/pyreadr/librdata.pyx:178\u001b[39m, in \u001b[36mpyreadr.librdata.Parser.parse\u001b[39m\u001b[34m()\u001b[39m\n",
      "\u001b[31mLibrdataError\u001b[39m: The file contains an unrecognized object"
     ]
    }
   ],
   "source": [
    "# Read .rda file\n",
    "result = pyreadr.read_r(\"temp.rda\")\n",
    "\n",
    "# The result is a dictionary with keys = object names inside the .rda\n",
    "print(result.keys())"
   ]
  },
  {
   "cell_type": "code",
   "execution_count": null,
   "id": "64c6455c",
   "metadata": {},
   "outputs": [],
   "source": [
    "# Extract the first object (usually a dataframe)\n",
    "df = list(result.values())[0]\n",
    "\n",
    "# Ensure it’s a pandas DataFrame\n",
    "df = pd.DataFrame(df)"
   ]
  },
  {
   "cell_type": "code",
   "execution_count": null,
   "id": "257aa657",
   "metadata": {},
   "outputs": [],
   "source": []
  }
 ],
 "metadata": {
  "kernelspec": {
   "display_name": ".venv (3.13.2)",
   "language": "python",
   "name": "python3"
  },
  "language_info": {
   "codemirror_mode": {
    "name": "ipython",
    "version": 3
   },
   "file_extension": ".py",
   "mimetype": "text/x-python",
   "name": "python",
   "nbconvert_exporter": "python",
   "pygments_lexer": "ipython3",
   "version": "3.13.2"
  }
 },
 "nbformat": 4,
 "nbformat_minor": 5
}
